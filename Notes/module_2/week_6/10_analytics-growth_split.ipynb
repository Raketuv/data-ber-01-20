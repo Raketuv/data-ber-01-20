{
 "cells": [
  {
   "cell_type": "code",
   "execution_count": 1,
   "metadata": {},
   "outputs": [],
   "source": [
    "import pandas as pd\n",
    "import numpy as np\n",
    "import matplotlib.pyplot as plt\n",
    "import seaborn as sns\n",
    "import pymysql\n",
    "import getpass\n",
    "%matplotlib inline"
   ]
  },
  {
   "cell_type": "code",
   "execution_count": 2,
   "metadata": {},
   "outputs": [
    {
     "name": "stdout",
     "output_type": "stream",
     "text": [
      "········\n"
     ]
    }
   ],
   "source": [
    "conn = pymysql.connect(host=\"localhost\",\n",
    "                       port=3306,\n",
    "                       user=\"ironhack\",\n",
    "                       passwd=getpass.getpass(),\n",
    "                       db=\"olist\")"
   ]
  },
  {
   "cell_type": "code",
   "execution_count": 3,
   "metadata": {},
   "outputs": [],
   "source": [
    "q = \"\"\"\n",
    "SELECT DISTINCT\n",
    "    DATE_FORMAT(o.order_purchase_timestamp, '%Y-%m-01') AS month_id,\n",
    "    oi.seller_id\n",
    "FROM orders o\n",
    "    JOIN order_items oi\n",
    "    ON o.order_id = oi.order_id\n",
    "ORDER BY 1,2;\n",
    "\"\"\"\n",
    "\n",
    "df = pd.read_sql(q, conn)"
   ]
  },
  {
   "cell_type": "code",
   "execution_count": 4,
   "metadata": {},
   "outputs": [
    {
     "data": {
      "text/html": [
       "<div>\n",
       "<style scoped>\n",
       "    .dataframe tbody tr th:only-of-type {\n",
       "        vertical-align: middle;\n",
       "    }\n",
       "\n",
       "    .dataframe tbody tr th {\n",
       "        vertical-align: top;\n",
       "    }\n",
       "\n",
       "    .dataframe thead th {\n",
       "        text-align: right;\n",
       "    }\n",
       "</style>\n",
       "<table border=\"1\" class=\"dataframe\">\n",
       "  <thead>\n",
       "    <tr style=\"text-align: right;\">\n",
       "      <th></th>\n",
       "      <th>month_id</th>\n",
       "      <th>seller_id</th>\n",
       "    </tr>\n",
       "  </thead>\n",
       "  <tbody>\n",
       "    <tr>\n",
       "      <th>0</th>\n",
       "      <td>2016-09-01</td>\n",
       "      <td>1554a68530182680ad5c8b042c3ab563</td>\n",
       "    </tr>\n",
       "    <tr>\n",
       "      <th>1</th>\n",
       "      <td>2016-09-01</td>\n",
       "      <td>a425f92c199eb576938df686728acd20</td>\n",
       "    </tr>\n",
       "    <tr>\n",
       "      <th>2</th>\n",
       "      <td>2016-09-01</td>\n",
       "      <td>ecccfa2bb93b34a3bf033cc5d1dcdc69</td>\n",
       "    </tr>\n",
       "    <tr>\n",
       "      <th>3</th>\n",
       "      <td>2016-10-01</td>\n",
       "      <td>011b0eaba87386a2ae96a7d32bb531d1</td>\n",
       "    </tr>\n",
       "    <tr>\n",
       "      <th>4</th>\n",
       "      <td>2016-10-01</td>\n",
       "      <td>01cf7e3d21494c41fb86034f2e714fa1</td>\n",
       "    </tr>\n",
       "  </tbody>\n",
       "</table>\n",
       "</div>"
      ],
      "text/plain": [
       "     month_id                         seller_id\n",
       "0  2016-09-01  1554a68530182680ad5c8b042c3ab563\n",
       "1  2016-09-01  a425f92c199eb576938df686728acd20\n",
       "2  2016-09-01  ecccfa2bb93b34a3bf033cc5d1dcdc69\n",
       "3  2016-10-01  011b0eaba87386a2ae96a7d32bb531d1\n",
       "4  2016-10-01  01cf7e3d21494c41fb86034f2e714fa1"
      ]
     },
     "execution_count": 4,
     "metadata": {},
     "output_type": "execute_result"
    }
   ],
   "source": [
    "df.head()"
   ]
  },
  {
   "cell_type": "code",
   "execution_count": 5,
   "metadata": {},
   "outputs": [
    {
     "data": {
      "text/plain": [
       "month_id     object\n",
       "seller_id    object\n",
       "dtype: object"
      ]
     },
     "execution_count": 5,
     "metadata": {},
     "output_type": "execute_result"
    }
   ],
   "source": [
    "df.dtypes"
   ]
  },
  {
   "cell_type": "code",
   "execution_count": 6,
   "metadata": {},
   "outputs": [],
   "source": [
    "df[\"month_id\"] = pd.to_datetime(df[\"month_id\"])"
   ]
  },
  {
   "cell_type": "code",
   "execution_count": 7,
   "metadata": {},
   "outputs": [],
   "source": [
    "# Filter timerange\n",
    "df = df[df[\"month_id\"].between(\"2017-01-01\",\"2018-08-01\",inclusive=True)]"
   ]
  },
  {
   "cell_type": "code",
   "execution_count": 8,
   "metadata": {},
   "outputs": [
    {
     "data": {
      "text/html": [
       "<div>\n",
       "<style scoped>\n",
       "    .dataframe tbody tr th:only-of-type {\n",
       "        vertical-align: middle;\n",
       "    }\n",
       "\n",
       "    .dataframe tbody tr th {\n",
       "        vertical-align: top;\n",
       "    }\n",
       "\n",
       "    .dataframe thead th {\n",
       "        text-align: right;\n",
       "    }\n",
       "</style>\n",
       "<table border=\"1\" class=\"dataframe\">\n",
       "  <thead>\n",
       "    <tr style=\"text-align: right;\">\n",
       "      <th></th>\n",
       "      <th>month_id</th>\n",
       "      <th>seller_id</th>\n",
       "    </tr>\n",
       "  </thead>\n",
       "  <tbody>\n",
       "    <tr>\n",
       "      <th>147</th>\n",
       "      <td>2017-01-01</td>\n",
       "      <td>004c9cd9d87a3c30c522c48c4fc07416</td>\n",
       "    </tr>\n",
       "    <tr>\n",
       "      <th>148</th>\n",
       "      <td>2017-01-01</td>\n",
       "      <td>014c0679dd340a0e338872e7ec85666a</td>\n",
       "    </tr>\n",
       "    <tr>\n",
       "      <th>149</th>\n",
       "      <td>2017-01-01</td>\n",
       "      <td>01cf7e3d21494c41fb86034f2e714fa1</td>\n",
       "    </tr>\n",
       "    <tr>\n",
       "      <th>150</th>\n",
       "      <td>2017-01-01</td>\n",
       "      <td>054694fa03fe82cec4b7551487331d74</td>\n",
       "    </tr>\n",
       "    <tr>\n",
       "      <th>151</th>\n",
       "      <td>2017-01-01</td>\n",
       "      <td>05ff92fedb5be47920fea08e501238b9</td>\n",
       "    </tr>\n",
       "  </tbody>\n",
       "</table>\n",
       "</div>"
      ],
      "text/plain": [
       "      month_id                         seller_id\n",
       "147 2017-01-01  004c9cd9d87a3c30c522c48c4fc07416\n",
       "148 2017-01-01  014c0679dd340a0e338872e7ec85666a\n",
       "149 2017-01-01  01cf7e3d21494c41fb86034f2e714fa1\n",
       "150 2017-01-01  054694fa03fe82cec4b7551487331d74\n",
       "151 2017-01-01  05ff92fedb5be47920fea08e501238b9"
      ]
     },
     "execution_count": 8,
     "metadata": {},
     "output_type": "execute_result"
    }
   ],
   "source": [
    "df.head()"
   ]
  },
  {
   "cell_type": "markdown",
   "metadata": {},
   "source": [
    "Make it comment"
   ]
  },
  {
   "cell_type": "code",
   "execution_count": 9,
   "metadata": {},
   "outputs": [
    {
     "data": {
      "text/html": [
       "<div>\n",
       "<style scoped>\n",
       "    .dataframe tbody tr th:only-of-type {\n",
       "        vertical-align: middle;\n",
       "    }\n",
       "\n",
       "    .dataframe tbody tr th {\n",
       "        vertical-align: top;\n",
       "    }\n",
       "\n",
       "    .dataframe thead th {\n",
       "        text-align: right;\n",
       "    }\n",
       "</style>\n",
       "<table border=\"1\" class=\"dataframe\">\n",
       "  <thead>\n",
       "    <tr style=\"text-align: right;\">\n",
       "      <th></th>\n",
       "      <th>month_id</th>\n",
       "      <th>seller_id</th>\n",
       "    </tr>\n",
       "  </thead>\n",
       "  <tbody>\n",
       "    <tr>\n",
       "      <th>150</th>\n",
       "      <td>2017-01-01</td>\n",
       "      <td>054694fa03fe82cec4b7551487331d74</td>\n",
       "    </tr>\n",
       "    <tr>\n",
       "      <th>381</th>\n",
       "      <td>2017-02-01</td>\n",
       "      <td>054694fa03fe82cec4b7551487331d74</td>\n",
       "    </tr>\n",
       "    <tr>\n",
       "      <th>810</th>\n",
       "      <td>2017-03-01</td>\n",
       "      <td>054694fa03fe82cec4b7551487331d74</td>\n",
       "    </tr>\n",
       "    <tr>\n",
       "      <th>1310</th>\n",
       "      <td>2017-04-01</td>\n",
       "      <td>054694fa03fe82cec4b7551487331d74</td>\n",
       "    </tr>\n",
       "    <tr>\n",
       "      <th>1817</th>\n",
       "      <td>2017-05-01</td>\n",
       "      <td>054694fa03fe82cec4b7551487331d74</td>\n",
       "    </tr>\n",
       "    <tr>\n",
       "      <th>2397</th>\n",
       "      <td>2017-06-01</td>\n",
       "      <td>054694fa03fe82cec4b7551487331d74</td>\n",
       "    </tr>\n",
       "    <tr>\n",
       "      <th>4260</th>\n",
       "      <td>2017-09-01</td>\n",
       "      <td>054694fa03fe82cec4b7551487331d74</td>\n",
       "    </tr>\n",
       "    <tr>\n",
       "      <th>4992</th>\n",
       "      <td>2017-10-01</td>\n",
       "      <td>054694fa03fe82cec4b7551487331d74</td>\n",
       "    </tr>\n",
       "    <tr>\n",
       "      <th>7600</th>\n",
       "      <td>2018-01-01</td>\n",
       "      <td>054694fa03fe82cec4b7551487331d74</td>\n",
       "    </tr>\n",
       "    <tr>\n",
       "      <th>10517</th>\n",
       "      <td>2018-04-01</td>\n",
       "      <td>054694fa03fe82cec4b7551487331d74</td>\n",
       "    </tr>\n",
       "  </tbody>\n",
       "</table>\n",
       "</div>"
      ],
      "text/plain": [
       "        month_id                         seller_id\n",
       "150   2017-01-01  054694fa03fe82cec4b7551487331d74\n",
       "381   2017-02-01  054694fa03fe82cec4b7551487331d74\n",
       "810   2017-03-01  054694fa03fe82cec4b7551487331d74\n",
       "1310  2017-04-01  054694fa03fe82cec4b7551487331d74\n",
       "1817  2017-05-01  054694fa03fe82cec4b7551487331d74\n",
       "2397  2017-06-01  054694fa03fe82cec4b7551487331d74\n",
       "4260  2017-09-01  054694fa03fe82cec4b7551487331d74\n",
       "4992  2017-10-01  054694fa03fe82cec4b7551487331d74\n",
       "7600  2018-01-01  054694fa03fe82cec4b7551487331d74\n",
       "10517 2018-04-01  054694fa03fe82cec4b7551487331d74"
      ]
     },
     "execution_count": 9,
     "metadata": {},
     "output_type": "execute_result"
    }
   ],
   "source": [
    "sample = df[df[\"seller_id\"].eq(\"054694fa03fe82cec4b7551487331d74\")]\n",
    "sample"
   ]
  },
  {
   "cell_type": "code",
   "execution_count": 10,
   "metadata": {},
   "outputs": [
    {
     "data": {
      "text/html": [
       "<div>\n",
       "<style scoped>\n",
       "    .dataframe tbody tr th:only-of-type {\n",
       "        vertical-align: middle;\n",
       "    }\n",
       "\n",
       "    .dataframe tbody tr th {\n",
       "        vertical-align: top;\n",
       "    }\n",
       "\n",
       "    .dataframe thead th {\n",
       "        text-align: right;\n",
       "    }\n",
       "</style>\n",
       "<table border=\"1\" class=\"dataframe\">\n",
       "  <thead>\n",
       "    <tr style=\"text-align: right;\">\n",
       "      <th></th>\n",
       "      <th>month_id</th>\n",
       "      <th>seller_id</th>\n",
       "      <th>shifted_month_id</th>\n",
       "    </tr>\n",
       "  </thead>\n",
       "  <tbody>\n",
       "    <tr>\n",
       "      <th>150</th>\n",
       "      <td>2017-01-01</td>\n",
       "      <td>054694fa03fe82cec4b7551487331d74</td>\n",
       "      <td>NaT</td>\n",
       "    </tr>\n",
       "    <tr>\n",
       "      <th>381</th>\n",
       "      <td>2017-02-01</td>\n",
       "      <td>054694fa03fe82cec4b7551487331d74</td>\n",
       "      <td>2017-01-01</td>\n",
       "    </tr>\n",
       "    <tr>\n",
       "      <th>810</th>\n",
       "      <td>2017-03-01</td>\n",
       "      <td>054694fa03fe82cec4b7551487331d74</td>\n",
       "      <td>2017-02-01</td>\n",
       "    </tr>\n",
       "    <tr>\n",
       "      <th>1310</th>\n",
       "      <td>2017-04-01</td>\n",
       "      <td>054694fa03fe82cec4b7551487331d74</td>\n",
       "      <td>2017-03-01</td>\n",
       "    </tr>\n",
       "    <tr>\n",
       "      <th>1817</th>\n",
       "      <td>2017-05-01</td>\n",
       "      <td>054694fa03fe82cec4b7551487331d74</td>\n",
       "      <td>2017-04-01</td>\n",
       "    </tr>\n",
       "    <tr>\n",
       "      <th>2397</th>\n",
       "      <td>2017-06-01</td>\n",
       "      <td>054694fa03fe82cec4b7551487331d74</td>\n",
       "      <td>2017-05-01</td>\n",
       "    </tr>\n",
       "    <tr>\n",
       "      <th>4260</th>\n",
       "      <td>2017-09-01</td>\n",
       "      <td>054694fa03fe82cec4b7551487331d74</td>\n",
       "      <td>2017-06-01</td>\n",
       "    </tr>\n",
       "    <tr>\n",
       "      <th>4992</th>\n",
       "      <td>2017-10-01</td>\n",
       "      <td>054694fa03fe82cec4b7551487331d74</td>\n",
       "      <td>2017-09-01</td>\n",
       "    </tr>\n",
       "    <tr>\n",
       "      <th>7600</th>\n",
       "      <td>2018-01-01</td>\n",
       "      <td>054694fa03fe82cec4b7551487331d74</td>\n",
       "      <td>2017-10-01</td>\n",
       "    </tr>\n",
       "    <tr>\n",
       "      <th>10517</th>\n",
       "      <td>2018-04-01</td>\n",
       "      <td>054694fa03fe82cec4b7551487331d74</td>\n",
       "      <td>2018-01-01</td>\n",
       "    </tr>\n",
       "  </tbody>\n",
       "</table>\n",
       "</div>"
      ],
      "text/plain": [
       "        month_id                         seller_id shifted_month_id\n",
       "150   2017-01-01  054694fa03fe82cec4b7551487331d74              NaT\n",
       "381   2017-02-01  054694fa03fe82cec4b7551487331d74       2017-01-01\n",
       "810   2017-03-01  054694fa03fe82cec4b7551487331d74       2017-02-01\n",
       "1310  2017-04-01  054694fa03fe82cec4b7551487331d74       2017-03-01\n",
       "1817  2017-05-01  054694fa03fe82cec4b7551487331d74       2017-04-01\n",
       "2397  2017-06-01  054694fa03fe82cec4b7551487331d74       2017-05-01\n",
       "4260  2017-09-01  054694fa03fe82cec4b7551487331d74       2017-06-01\n",
       "4992  2017-10-01  054694fa03fe82cec4b7551487331d74       2017-09-01\n",
       "7600  2018-01-01  054694fa03fe82cec4b7551487331d74       2017-10-01\n",
       "10517 2018-04-01  054694fa03fe82cec4b7551487331d74       2018-01-01"
      ]
     },
     "execution_count": 10,
     "metadata": {},
     "output_type": "execute_result"
    }
   ],
   "source": [
    "sample = sample.assign(shifted_month_id=sample[\"month_id\"].shift(1))\n",
    "sample"
   ]
  },
  {
   "cell_type": "code",
   "execution_count": 11,
   "metadata": {},
   "outputs": [
    {
     "data": {
      "text/html": [
       "<div>\n",
       "<style scoped>\n",
       "    .dataframe tbody tr th:only-of-type {\n",
       "        vertical-align: middle;\n",
       "    }\n",
       "\n",
       "    .dataframe tbody tr th {\n",
       "        vertical-align: top;\n",
       "    }\n",
       "\n",
       "    .dataframe thead th {\n",
       "        text-align: right;\n",
       "    }\n",
       "</style>\n",
       "<table border=\"1\" class=\"dataframe\">\n",
       "  <thead>\n",
       "    <tr style=\"text-align: right;\">\n",
       "      <th></th>\n",
       "      <th>month_id</th>\n",
       "      <th>seller_id</th>\n",
       "      <th>shifted_month_id</th>\n",
       "      <th>growth_type</th>\n",
       "    </tr>\n",
       "  </thead>\n",
       "  <tbody>\n",
       "    <tr>\n",
       "      <th>150</th>\n",
       "      <td>2017-01-01</td>\n",
       "      <td>054694fa03fe82cec4b7551487331d74</td>\n",
       "      <td>NaT</td>\n",
       "      <td>new</td>\n",
       "    </tr>\n",
       "    <tr>\n",
       "      <th>381</th>\n",
       "      <td>2017-02-01</td>\n",
       "      <td>054694fa03fe82cec4b7551487331d74</td>\n",
       "      <td>2017-01-01</td>\n",
       "      <td>nan</td>\n",
       "    </tr>\n",
       "    <tr>\n",
       "      <th>810</th>\n",
       "      <td>2017-03-01</td>\n",
       "      <td>054694fa03fe82cec4b7551487331d74</td>\n",
       "      <td>2017-02-01</td>\n",
       "      <td>nan</td>\n",
       "    </tr>\n",
       "    <tr>\n",
       "      <th>1310</th>\n",
       "      <td>2017-04-01</td>\n",
       "      <td>054694fa03fe82cec4b7551487331d74</td>\n",
       "      <td>2017-03-01</td>\n",
       "      <td>nan</td>\n",
       "    </tr>\n",
       "    <tr>\n",
       "      <th>1817</th>\n",
       "      <td>2017-05-01</td>\n",
       "      <td>054694fa03fe82cec4b7551487331d74</td>\n",
       "      <td>2017-04-01</td>\n",
       "      <td>nan</td>\n",
       "    </tr>\n",
       "    <tr>\n",
       "      <th>2397</th>\n",
       "      <td>2017-06-01</td>\n",
       "      <td>054694fa03fe82cec4b7551487331d74</td>\n",
       "      <td>2017-05-01</td>\n",
       "      <td>nan</td>\n",
       "    </tr>\n",
       "    <tr>\n",
       "      <th>4260</th>\n",
       "      <td>2017-09-01</td>\n",
       "      <td>054694fa03fe82cec4b7551487331d74</td>\n",
       "      <td>2017-06-01</td>\n",
       "      <td>nan</td>\n",
       "    </tr>\n",
       "    <tr>\n",
       "      <th>4992</th>\n",
       "      <td>2017-10-01</td>\n",
       "      <td>054694fa03fe82cec4b7551487331d74</td>\n",
       "      <td>2017-09-01</td>\n",
       "      <td>nan</td>\n",
       "    </tr>\n",
       "    <tr>\n",
       "      <th>7600</th>\n",
       "      <td>2018-01-01</td>\n",
       "      <td>054694fa03fe82cec4b7551487331d74</td>\n",
       "      <td>2017-10-01</td>\n",
       "      <td>nan</td>\n",
       "    </tr>\n",
       "    <tr>\n",
       "      <th>10517</th>\n",
       "      <td>2018-04-01</td>\n",
       "      <td>054694fa03fe82cec4b7551487331d74</td>\n",
       "      <td>2018-01-01</td>\n",
       "      <td>nan</td>\n",
       "    </tr>\n",
       "  </tbody>\n",
       "</table>\n",
       "</div>"
      ],
      "text/plain": [
       "        month_id                         seller_id shifted_month_id  \\\n",
       "150   2017-01-01  054694fa03fe82cec4b7551487331d74              NaT   \n",
       "381   2017-02-01  054694fa03fe82cec4b7551487331d74       2017-01-01   \n",
       "810   2017-03-01  054694fa03fe82cec4b7551487331d74       2017-02-01   \n",
       "1310  2017-04-01  054694fa03fe82cec4b7551487331d74       2017-03-01   \n",
       "1817  2017-05-01  054694fa03fe82cec4b7551487331d74       2017-04-01   \n",
       "2397  2017-06-01  054694fa03fe82cec4b7551487331d74       2017-05-01   \n",
       "4260  2017-09-01  054694fa03fe82cec4b7551487331d74       2017-06-01   \n",
       "4992  2017-10-01  054694fa03fe82cec4b7551487331d74       2017-09-01   \n",
       "7600  2018-01-01  054694fa03fe82cec4b7551487331d74       2017-10-01   \n",
       "10517 2018-04-01  054694fa03fe82cec4b7551487331d74       2018-01-01   \n",
       "\n",
       "      growth_type  \n",
       "150           new  \n",
       "381           nan  \n",
       "810           nan  \n",
       "1310          nan  \n",
       "1817          nan  \n",
       "2397          nan  \n",
       "4260          nan  \n",
       "4992          nan  \n",
       "7600          nan  \n",
       "10517         nan  "
      ]
     },
     "execution_count": 11,
     "metadata": {},
     "output_type": "execute_result"
    }
   ],
   "source": [
    "# identify new\n",
    "sample = sample.assign(growth_type=np.where(sample[\"shifted_month_id\"].isna(),\"new\", np.nan))\n",
    "sample"
   ]
  },
  {
   "cell_type": "code",
   "execution_count": 12,
   "metadata": {},
   "outputs": [
    {
     "data": {
      "text/plain": [
       "150           NaN\n",
       "381      1.018501\n",
       "810      0.919937\n",
       "1310     1.018501\n",
       "1817     0.985647\n",
       "2397     1.018501\n",
       "4260     3.022649\n",
       "4992     0.985647\n",
       "7600     3.022649\n",
       "10517    2.956940\n",
       "dtype: float64"
      ]
     },
     "execution_count": 12,
     "metadata": {},
     "output_type": "execute_result"
    }
   ],
   "source": [
    "(sample[\"month_id\"] - sample[\"shifted_month_id\"])/np.timedelta64(1, \"M\")"
   ]
  },
  {
   "cell_type": "code",
   "execution_count": 13,
   "metadata": {},
   "outputs": [
    {
     "data": {
      "text/plain": [
       "150       1\n",
       "381       2\n",
       "810       3\n",
       "1310      4\n",
       "1817      5\n",
       "2397      6\n",
       "4260      9\n",
       "4992     10\n",
       "7600      1\n",
       "10517     4\n",
       "Name: month_id, dtype: int64"
      ]
     },
     "execution_count": 13,
     "metadata": {},
     "output_type": "execute_result"
    }
   ],
   "source": [
    "sample[\"month_id\"].dt.month"
   ]
  },
  {
   "cell_type": "code",
   "execution_count": 14,
   "metadata": {},
   "outputs": [
    {
     "data": {
      "text/plain": [
       "pandas.core.series.Series"
      ]
     },
     "execution_count": 14,
     "metadata": {},
     "output_type": "execute_result"
    }
   ],
   "source": [
    "type(sample[\"month_id\"])"
   ]
  },
  {
   "cell_type": "code",
   "execution_count": 15,
   "metadata": {},
   "outputs": [
    {
     "data": {
      "text/plain": [
       "pandas.core.series.Series"
      ]
     },
     "execution_count": 15,
     "metadata": {},
     "output_type": "execute_result"
    }
   ],
   "source": [
    "type(sample.month_id)"
   ]
  },
  {
   "cell_type": "markdown",
   "metadata": {},
   "source": [
    "Let's stop here."
   ]
  },
  {
   "cell_type": "code",
   "execution_count": 16,
   "metadata": {},
   "outputs": [
    {
     "data": {
      "text/html": [
       "<div>\n",
       "<style scoped>\n",
       "    .dataframe tbody tr th:only-of-type {\n",
       "        vertical-align: middle;\n",
       "    }\n",
       "\n",
       "    .dataframe tbody tr th {\n",
       "        vertical-align: top;\n",
       "    }\n",
       "\n",
       "    .dataframe thead th {\n",
       "        text-align: right;\n",
       "    }\n",
       "</style>\n",
       "<table border=\"1\" class=\"dataframe\">\n",
       "  <thead>\n",
       "    <tr style=\"text-align: right;\">\n",
       "      <th></th>\n",
       "      <th>month_id</th>\n",
       "      <th>seller_id</th>\n",
       "      <th>shifted_month_id</th>\n",
       "      <th>growth_type</th>\n",
       "    </tr>\n",
       "  </thead>\n",
       "  <tbody>\n",
       "    <tr>\n",
       "      <th>150</th>\n",
       "      <td>2017-01-01</td>\n",
       "      <td>054694fa03fe82cec4b7551487331d74</td>\n",
       "      <td>NaT</td>\n",
       "      <td>new</td>\n",
       "    </tr>\n",
       "    <tr>\n",
       "      <th>381</th>\n",
       "      <td>2017-02-01</td>\n",
       "      <td>054694fa03fe82cec4b7551487331d74</td>\n",
       "      <td>2017-01-01</td>\n",
       "      <td>nan</td>\n",
       "    </tr>\n",
       "    <tr>\n",
       "      <th>810</th>\n",
       "      <td>2017-03-01</td>\n",
       "      <td>054694fa03fe82cec4b7551487331d74</td>\n",
       "      <td>2017-02-01</td>\n",
       "      <td>nan</td>\n",
       "    </tr>\n",
       "    <tr>\n",
       "      <th>1310</th>\n",
       "      <td>2017-04-01</td>\n",
       "      <td>054694fa03fe82cec4b7551487331d74</td>\n",
       "      <td>2017-03-01</td>\n",
       "      <td>nan</td>\n",
       "    </tr>\n",
       "    <tr>\n",
       "      <th>1817</th>\n",
       "      <td>2017-05-01</td>\n",
       "      <td>054694fa03fe82cec4b7551487331d74</td>\n",
       "      <td>2017-04-01</td>\n",
       "      <td>nan</td>\n",
       "    </tr>\n",
       "    <tr>\n",
       "      <th>2397</th>\n",
       "      <td>2017-06-01</td>\n",
       "      <td>054694fa03fe82cec4b7551487331d74</td>\n",
       "      <td>2017-05-01</td>\n",
       "      <td>nan</td>\n",
       "    </tr>\n",
       "    <tr>\n",
       "      <th>4260</th>\n",
       "      <td>2017-09-01</td>\n",
       "      <td>054694fa03fe82cec4b7551487331d74</td>\n",
       "      <td>2017-06-01</td>\n",
       "      <td>nan</td>\n",
       "    </tr>\n",
       "    <tr>\n",
       "      <th>4992</th>\n",
       "      <td>2017-10-01</td>\n",
       "      <td>054694fa03fe82cec4b7551487331d74</td>\n",
       "      <td>2017-09-01</td>\n",
       "      <td>nan</td>\n",
       "    </tr>\n",
       "    <tr>\n",
       "      <th>7600</th>\n",
       "      <td>2018-01-01</td>\n",
       "      <td>054694fa03fe82cec4b7551487331d74</td>\n",
       "      <td>2017-10-01</td>\n",
       "      <td>nan</td>\n",
       "    </tr>\n",
       "    <tr>\n",
       "      <th>10517</th>\n",
       "      <td>2018-04-01</td>\n",
       "      <td>054694fa03fe82cec4b7551487331d74</td>\n",
       "      <td>2018-01-01</td>\n",
       "      <td>nan</td>\n",
       "    </tr>\n",
       "  </tbody>\n",
       "</table>\n",
       "</div>"
      ],
      "text/plain": [
       "        month_id                         seller_id shifted_month_id  \\\n",
       "150   2017-01-01  054694fa03fe82cec4b7551487331d74              NaT   \n",
       "381   2017-02-01  054694fa03fe82cec4b7551487331d74       2017-01-01   \n",
       "810   2017-03-01  054694fa03fe82cec4b7551487331d74       2017-02-01   \n",
       "1310  2017-04-01  054694fa03fe82cec4b7551487331d74       2017-03-01   \n",
       "1817  2017-05-01  054694fa03fe82cec4b7551487331d74       2017-04-01   \n",
       "2397  2017-06-01  054694fa03fe82cec4b7551487331d74       2017-05-01   \n",
       "4260  2017-09-01  054694fa03fe82cec4b7551487331d74       2017-06-01   \n",
       "4992  2017-10-01  054694fa03fe82cec4b7551487331d74       2017-09-01   \n",
       "7600  2018-01-01  054694fa03fe82cec4b7551487331d74       2017-10-01   \n",
       "10517 2018-04-01  054694fa03fe82cec4b7551487331d74       2018-01-01   \n",
       "\n",
       "      growth_type  \n",
       "150           new  \n",
       "381           nan  \n",
       "810           nan  \n",
       "1310          nan  \n",
       "1817          nan  \n",
       "2397          nan  \n",
       "4260          nan  \n",
       "4992          nan  \n",
       "7600          nan  \n",
       "10517         nan  "
      ]
     },
     "execution_count": 16,
     "metadata": {},
     "output_type": "execute_result"
    }
   ],
   "source": [
    "sample"
   ]
  },
  {
   "cell_type": "code",
   "execution_count": 17,
   "metadata": {},
   "outputs": [
    {
     "data": {
      "text/html": [
       "<div>\n",
       "<style scoped>\n",
       "    .dataframe tbody tr th:only-of-type {\n",
       "        vertical-align: middle;\n",
       "    }\n",
       "\n",
       "    .dataframe tbody tr th {\n",
       "        vertical-align: top;\n",
       "    }\n",
       "\n",
       "    .dataframe thead th {\n",
       "        text-align: right;\n",
       "    }\n",
       "</style>\n",
       "<table border=\"1\" class=\"dataframe\">\n",
       "  <thead>\n",
       "    <tr style=\"text-align: right;\">\n",
       "      <th></th>\n",
       "      <th>month_id</th>\n",
       "      <th>seller_id</th>\n",
       "      <th>shifted_month_id</th>\n",
       "      <th>growth_type</th>\n",
       "      <th>previous_month</th>\n",
       "    </tr>\n",
       "  </thead>\n",
       "  <tbody>\n",
       "    <tr>\n",
       "      <th>150</th>\n",
       "      <td>2017-01-01</td>\n",
       "      <td>054694fa03fe82cec4b7551487331d74</td>\n",
       "      <td>NaT</td>\n",
       "      <td>new</td>\n",
       "      <td>2016-12-01</td>\n",
       "    </tr>\n",
       "    <tr>\n",
       "      <th>381</th>\n",
       "      <td>2017-02-01</td>\n",
       "      <td>054694fa03fe82cec4b7551487331d74</td>\n",
       "      <td>2017-01-01</td>\n",
       "      <td>nan</td>\n",
       "      <td>2017-01-01</td>\n",
       "    </tr>\n",
       "    <tr>\n",
       "      <th>810</th>\n",
       "      <td>2017-03-01</td>\n",
       "      <td>054694fa03fe82cec4b7551487331d74</td>\n",
       "      <td>2017-02-01</td>\n",
       "      <td>nan</td>\n",
       "      <td>2017-02-01</td>\n",
       "    </tr>\n",
       "    <tr>\n",
       "      <th>1310</th>\n",
       "      <td>2017-04-01</td>\n",
       "      <td>054694fa03fe82cec4b7551487331d74</td>\n",
       "      <td>2017-03-01</td>\n",
       "      <td>nan</td>\n",
       "      <td>2017-03-01</td>\n",
       "    </tr>\n",
       "    <tr>\n",
       "      <th>1817</th>\n",
       "      <td>2017-05-01</td>\n",
       "      <td>054694fa03fe82cec4b7551487331d74</td>\n",
       "      <td>2017-04-01</td>\n",
       "      <td>nan</td>\n",
       "      <td>2017-04-01</td>\n",
       "    </tr>\n",
       "    <tr>\n",
       "      <th>2397</th>\n",
       "      <td>2017-06-01</td>\n",
       "      <td>054694fa03fe82cec4b7551487331d74</td>\n",
       "      <td>2017-05-01</td>\n",
       "      <td>nan</td>\n",
       "      <td>2017-05-01</td>\n",
       "    </tr>\n",
       "    <tr>\n",
       "      <th>4260</th>\n",
       "      <td>2017-09-01</td>\n",
       "      <td>054694fa03fe82cec4b7551487331d74</td>\n",
       "      <td>2017-06-01</td>\n",
       "      <td>nan</td>\n",
       "      <td>2017-08-01</td>\n",
       "    </tr>\n",
       "    <tr>\n",
       "      <th>4992</th>\n",
       "      <td>2017-10-01</td>\n",
       "      <td>054694fa03fe82cec4b7551487331d74</td>\n",
       "      <td>2017-09-01</td>\n",
       "      <td>nan</td>\n",
       "      <td>2017-09-01</td>\n",
       "    </tr>\n",
       "    <tr>\n",
       "      <th>7600</th>\n",
       "      <td>2018-01-01</td>\n",
       "      <td>054694fa03fe82cec4b7551487331d74</td>\n",
       "      <td>2017-10-01</td>\n",
       "      <td>nan</td>\n",
       "      <td>2017-12-01</td>\n",
       "    </tr>\n",
       "    <tr>\n",
       "      <th>10517</th>\n",
       "      <td>2018-04-01</td>\n",
       "      <td>054694fa03fe82cec4b7551487331d74</td>\n",
       "      <td>2018-01-01</td>\n",
       "      <td>nan</td>\n",
       "      <td>2018-03-01</td>\n",
       "    </tr>\n",
       "  </tbody>\n",
       "</table>\n",
       "</div>"
      ],
      "text/plain": [
       "        month_id                         seller_id shifted_month_id  \\\n",
       "150   2017-01-01  054694fa03fe82cec4b7551487331d74              NaT   \n",
       "381   2017-02-01  054694fa03fe82cec4b7551487331d74       2017-01-01   \n",
       "810   2017-03-01  054694fa03fe82cec4b7551487331d74       2017-02-01   \n",
       "1310  2017-04-01  054694fa03fe82cec4b7551487331d74       2017-03-01   \n",
       "1817  2017-05-01  054694fa03fe82cec4b7551487331d74       2017-04-01   \n",
       "2397  2017-06-01  054694fa03fe82cec4b7551487331d74       2017-05-01   \n",
       "4260  2017-09-01  054694fa03fe82cec4b7551487331d74       2017-06-01   \n",
       "4992  2017-10-01  054694fa03fe82cec4b7551487331d74       2017-09-01   \n",
       "7600  2018-01-01  054694fa03fe82cec4b7551487331d74       2017-10-01   \n",
       "10517 2018-04-01  054694fa03fe82cec4b7551487331d74       2018-01-01   \n",
       "\n",
       "      growth_type previous_month  \n",
       "150           new     2016-12-01  \n",
       "381           nan     2017-01-01  \n",
       "810           nan     2017-02-01  \n",
       "1310          nan     2017-03-01  \n",
       "1817          nan     2017-04-01  \n",
       "2397          nan     2017-05-01  \n",
       "4260          nan     2017-08-01  \n",
       "4992          nan     2017-09-01  \n",
       "7600          nan     2017-12-01  \n",
       "10517         nan     2018-03-01  "
      ]
     },
     "execution_count": 17,
     "metadata": {},
     "output_type": "execute_result"
    }
   ],
   "source": [
    "sample = sample.assign(previous_month=sample[\"month_id\"] - pd.offsets.MonthEnd() - pd.offsets.MonthBegin())\n",
    "sample"
   ]
  },
  {
   "cell_type": "code",
   "execution_count": 18,
   "metadata": {},
   "outputs": [],
   "source": [
    "sample.loc[sample[\"growth_type\"].isna(),\"growth_type\"] = np.where(sample[\"shifted_month_id\"].eq(sample[\"previous_month\"]),\"repeat\",\"return\")"
   ]
  },
  {
   "cell_type": "markdown",
   "metadata": {},
   "source": [
    "End of comment\n",
    "\n",
    "----"
   ]
  },
  {
   "cell_type": "code",
   "execution_count": 19,
   "metadata": {},
   "outputs": [
    {
     "data": {
      "text/html": [
       "<div>\n",
       "<style scoped>\n",
       "    .dataframe tbody tr th:only-of-type {\n",
       "        vertical-align: middle;\n",
       "    }\n",
       "\n",
       "    .dataframe tbody tr th {\n",
       "        vertical-align: top;\n",
       "    }\n",
       "\n",
       "    .dataframe thead th {\n",
       "        text-align: right;\n",
       "    }\n",
       "</style>\n",
       "<table border=\"1\" class=\"dataframe\">\n",
       "  <thead>\n",
       "    <tr style=\"text-align: right;\">\n",
       "      <th></th>\n",
       "      <th>month_id</th>\n",
       "      <th>seller_id</th>\n",
       "    </tr>\n",
       "  </thead>\n",
       "  <tbody>\n",
       "    <tr>\n",
       "      <th>147</th>\n",
       "      <td>2017-01-01</td>\n",
       "      <td>004c9cd9d87a3c30c522c48c4fc07416</td>\n",
       "    </tr>\n",
       "    <tr>\n",
       "      <th>148</th>\n",
       "      <td>2017-01-01</td>\n",
       "      <td>014c0679dd340a0e338872e7ec85666a</td>\n",
       "    </tr>\n",
       "    <tr>\n",
       "      <th>149</th>\n",
       "      <td>2017-01-01</td>\n",
       "      <td>01cf7e3d21494c41fb86034f2e714fa1</td>\n",
       "    </tr>\n",
       "    <tr>\n",
       "      <th>150</th>\n",
       "      <td>2017-01-01</td>\n",
       "      <td>054694fa03fe82cec4b7551487331d74</td>\n",
       "    </tr>\n",
       "    <tr>\n",
       "      <th>151</th>\n",
       "      <td>2017-01-01</td>\n",
       "      <td>05ff92fedb5be47920fea08e501238b9</td>\n",
       "    </tr>\n",
       "  </tbody>\n",
       "</table>\n",
       "</div>"
      ],
      "text/plain": [
       "      month_id                         seller_id\n",
       "147 2017-01-01  004c9cd9d87a3c30c522c48c4fc07416\n",
       "148 2017-01-01  014c0679dd340a0e338872e7ec85666a\n",
       "149 2017-01-01  01cf7e3d21494c41fb86034f2e714fa1\n",
       "150 2017-01-01  054694fa03fe82cec4b7551487331d74\n",
       "151 2017-01-01  05ff92fedb5be47920fea08e501238b9"
      ]
     },
     "execution_count": 19,
     "metadata": {},
     "output_type": "execute_result"
    }
   ],
   "source": [
    "df.head()"
   ]
  },
  {
   "cell_type": "code",
   "execution_count": 20,
   "metadata": {},
   "outputs": [
    {
     "data": {
      "text/html": [
       "<div>\n",
       "<style scoped>\n",
       "    .dataframe tbody tr th:only-of-type {\n",
       "        vertical-align: middle;\n",
       "    }\n",
       "\n",
       "    .dataframe tbody tr th {\n",
       "        vertical-align: top;\n",
       "    }\n",
       "\n",
       "    .dataframe thead th {\n",
       "        text-align: right;\n",
       "    }\n",
       "</style>\n",
       "<table border=\"1\" class=\"dataframe\">\n",
       "  <thead>\n",
       "    <tr style=\"text-align: right;\">\n",
       "      <th></th>\n",
       "      <th>month_id</th>\n",
       "      <th>seller_id</th>\n",
       "      <th>shifted_month</th>\n",
       "    </tr>\n",
       "  </thead>\n",
       "  <tbody>\n",
       "    <tr>\n",
       "      <th>147</th>\n",
       "      <td>2017-01-01</td>\n",
       "      <td>004c9cd9d87a3c30c522c48c4fc07416</td>\n",
       "      <td>2017-02-01</td>\n",
       "    </tr>\n",
       "    <tr>\n",
       "      <th>148</th>\n",
       "      <td>2017-01-01</td>\n",
       "      <td>014c0679dd340a0e338872e7ec85666a</td>\n",
       "      <td>2017-02-01</td>\n",
       "    </tr>\n",
       "    <tr>\n",
       "      <th>149</th>\n",
       "      <td>2017-01-01</td>\n",
       "      <td>01cf7e3d21494c41fb86034f2e714fa1</td>\n",
       "      <td>2017-02-01</td>\n",
       "    </tr>\n",
       "    <tr>\n",
       "      <th>150</th>\n",
       "      <td>2017-01-01</td>\n",
       "      <td>054694fa03fe82cec4b7551487331d74</td>\n",
       "      <td>2017-02-01</td>\n",
       "    </tr>\n",
       "    <tr>\n",
       "      <th>151</th>\n",
       "      <td>2017-01-01</td>\n",
       "      <td>05ff92fedb5be47920fea08e501238b9</td>\n",
       "      <td>2017-02-01</td>\n",
       "    </tr>\n",
       "  </tbody>\n",
       "</table>\n",
       "</div>"
      ],
      "text/plain": [
       "      month_id                         seller_id shifted_month\n",
       "147 2017-01-01  004c9cd9d87a3c30c522c48c4fc07416    2017-02-01\n",
       "148 2017-01-01  014c0679dd340a0e338872e7ec85666a    2017-02-01\n",
       "149 2017-01-01  01cf7e3d21494c41fb86034f2e714fa1    2017-02-01\n",
       "150 2017-01-01  054694fa03fe82cec4b7551487331d74    2017-02-01\n",
       "151 2017-01-01  05ff92fedb5be47920fea08e501238b9    2017-02-01"
      ]
     },
     "execution_count": 20,
     "metadata": {},
     "output_type": "execute_result"
    }
   ],
   "source": [
    "df_shifted = df.assign(shifted_month=df[\"month_id\"] + pd.DateOffset(months=1))\n",
    "df_shifted.head()"
   ]
  },
  {
   "cell_type": "code",
   "execution_count": 21,
   "metadata": {},
   "outputs": [
    {
     "data": {
      "text/html": [
       "<div>\n",
       "<style scoped>\n",
       "    .dataframe tbody tr th:only-of-type {\n",
       "        vertical-align: middle;\n",
       "    }\n",
       "\n",
       "    .dataframe tbody tr th {\n",
       "        vertical-align: top;\n",
       "    }\n",
       "\n",
       "    .dataframe thead th {\n",
       "        text-align: right;\n",
       "    }\n",
       "</style>\n",
       "<table border=\"1\" class=\"dataframe\">\n",
       "  <thead>\n",
       "    <tr style=\"text-align: right;\">\n",
       "      <th></th>\n",
       "      <th>seller_id</th>\n",
       "      <th>first_month</th>\n",
       "    </tr>\n",
       "  </thead>\n",
       "  <tbody>\n",
       "    <tr>\n",
       "      <th>0</th>\n",
       "      <td>0015a82c2db000af6aaaf3ae2ecb0532</td>\n",
       "      <td>2017-09-01</td>\n",
       "    </tr>\n",
       "    <tr>\n",
       "      <th>1</th>\n",
       "      <td>001cca7ae9ae17fb1caed9dfb1094831</td>\n",
       "      <td>2017-02-01</td>\n",
       "    </tr>\n",
       "    <tr>\n",
       "      <th>2</th>\n",
       "      <td>001e6ad469a905060d959994f1b41e4f</td>\n",
       "      <td>2018-08-01</td>\n",
       "    </tr>\n",
       "    <tr>\n",
       "      <th>3</th>\n",
       "      <td>002100f778ceb8431b7a1020ff7ab48f</td>\n",
       "      <td>2017-09-01</td>\n",
       "    </tr>\n",
       "    <tr>\n",
       "      <th>4</th>\n",
       "      <td>003554e2dce176b5555353e4f3555ac8</td>\n",
       "      <td>2017-12-01</td>\n",
       "    </tr>\n",
       "  </tbody>\n",
       "</table>\n",
       "</div>"
      ],
      "text/plain": [
       "                          seller_id first_month\n",
       "0  0015a82c2db000af6aaaf3ae2ecb0532  2017-09-01\n",
       "1  001cca7ae9ae17fb1caed9dfb1094831  2017-02-01\n",
       "2  001e6ad469a905060d959994f1b41e4f  2018-08-01\n",
       "3  002100f778ceb8431b7a1020ff7ab48f  2017-09-01\n",
       "4  003554e2dce176b5555353e4f3555ac8  2017-12-01"
      ]
     },
     "execution_count": 21,
     "metadata": {},
     "output_type": "execute_result"
    }
   ],
   "source": [
    "df_first = (df\n",
    "            .groupby(\"seller_id\")\n",
    "            .min()\n",
    "            .reset_index()\n",
    "            .rename(columns={\"month_id\": \"first_month\"}))\n",
    "df_first.head()"
   ]
  },
  {
   "cell_type": "code",
   "execution_count": 22,
   "metadata": {},
   "outputs": [
    {
     "data": {
      "text/html": [
       "<div>\n",
       "<style scoped>\n",
       "    .dataframe tbody tr th:only-of-type {\n",
       "        vertical-align: middle;\n",
       "    }\n",
       "\n",
       "    .dataframe tbody tr th {\n",
       "        vertical-align: top;\n",
       "    }\n",
       "\n",
       "    .dataframe thead th {\n",
       "        text-align: right;\n",
       "    }\n",
       "</style>\n",
       "<table border=\"1\" class=\"dataframe\">\n",
       "  <thead>\n",
       "    <tr style=\"text-align: right;\">\n",
       "      <th></th>\n",
       "      <th>month_id</th>\n",
       "      <th>seller_id</th>\n",
       "      <th>first_month</th>\n",
       "    </tr>\n",
       "  </thead>\n",
       "  <tbody>\n",
       "    <tr>\n",
       "      <th>0</th>\n",
       "      <td>2017-01-01</td>\n",
       "      <td>004c9cd9d87a3c30c522c48c4fc07416</td>\n",
       "      <td>2017-01-01</td>\n",
       "    </tr>\n",
       "    <tr>\n",
       "      <th>1</th>\n",
       "      <td>2017-01-01</td>\n",
       "      <td>014c0679dd340a0e338872e7ec85666a</td>\n",
       "      <td>2017-01-01</td>\n",
       "    </tr>\n",
       "    <tr>\n",
       "      <th>2</th>\n",
       "      <td>2017-01-01</td>\n",
       "      <td>01cf7e3d21494c41fb86034f2e714fa1</td>\n",
       "      <td>2017-01-01</td>\n",
       "    </tr>\n",
       "    <tr>\n",
       "      <th>3</th>\n",
       "      <td>2017-01-01</td>\n",
       "      <td>054694fa03fe82cec4b7551487331d74</td>\n",
       "      <td>2017-01-01</td>\n",
       "    </tr>\n",
       "    <tr>\n",
       "      <th>4</th>\n",
       "      <td>2017-01-01</td>\n",
       "      <td>05ff92fedb5be47920fea08e501238b9</td>\n",
       "      <td>2017-01-01</td>\n",
       "    </tr>\n",
       "  </tbody>\n",
       "</table>\n",
       "</div>"
      ],
      "text/plain": [
       "    month_id                         seller_id first_month\n",
       "0 2017-01-01  004c9cd9d87a3c30c522c48c4fc07416  2017-01-01\n",
       "1 2017-01-01  014c0679dd340a0e338872e7ec85666a  2017-01-01\n",
       "2 2017-01-01  01cf7e3d21494c41fb86034f2e714fa1  2017-01-01\n",
       "3 2017-01-01  054694fa03fe82cec4b7551487331d74  2017-01-01\n",
       "4 2017-01-01  05ff92fedb5be47920fea08e501238b9  2017-01-01"
      ]
     },
     "execution_count": 22,
     "metadata": {},
     "output_type": "execute_result"
    }
   ],
   "source": [
    "df = df.merge(df_first, how=\"left\", on=\"seller_id\")\n",
    "df.head()"
   ]
  },
  {
   "cell_type": "code",
   "execution_count": 23,
   "metadata": {},
   "outputs": [
    {
     "data": {
      "text/html": [
       "<div>\n",
       "<style scoped>\n",
       "    .dataframe tbody tr th:only-of-type {\n",
       "        vertical-align: middle;\n",
       "    }\n",
       "\n",
       "    .dataframe tbody tr th {\n",
       "        vertical-align: top;\n",
       "    }\n",
       "\n",
       "    .dataframe thead th {\n",
       "        text-align: right;\n",
       "    }\n",
       "</style>\n",
       "<table border=\"1\" class=\"dataframe\">\n",
       "  <thead>\n",
       "    <tr style=\"text-align: right;\">\n",
       "      <th></th>\n",
       "      <th>month_id_x</th>\n",
       "      <th>seller_id</th>\n",
       "      <th>first_month</th>\n",
       "      <th>month_id_y</th>\n",
       "      <th>shifted_month</th>\n",
       "    </tr>\n",
       "  </thead>\n",
       "  <tbody>\n",
       "    <tr>\n",
       "      <th>0</th>\n",
       "      <td>2017-01-01</td>\n",
       "      <td>004c9cd9d87a3c30c522c48c4fc07416</td>\n",
       "      <td>2017-01-01</td>\n",
       "      <td>NaT</td>\n",
       "      <td>NaT</td>\n",
       "    </tr>\n",
       "    <tr>\n",
       "      <th>1</th>\n",
       "      <td>2017-01-01</td>\n",
       "      <td>014c0679dd340a0e338872e7ec85666a</td>\n",
       "      <td>2017-01-01</td>\n",
       "      <td>NaT</td>\n",
       "      <td>NaT</td>\n",
       "    </tr>\n",
       "    <tr>\n",
       "      <th>2</th>\n",
       "      <td>2017-01-01</td>\n",
       "      <td>01cf7e3d21494c41fb86034f2e714fa1</td>\n",
       "      <td>2017-01-01</td>\n",
       "      <td>NaT</td>\n",
       "      <td>NaT</td>\n",
       "    </tr>\n",
       "    <tr>\n",
       "      <th>3</th>\n",
       "      <td>2017-01-01</td>\n",
       "      <td>054694fa03fe82cec4b7551487331d74</td>\n",
       "      <td>2017-01-01</td>\n",
       "      <td>NaT</td>\n",
       "      <td>NaT</td>\n",
       "    </tr>\n",
       "    <tr>\n",
       "      <th>4</th>\n",
       "      <td>2017-01-01</td>\n",
       "      <td>05ff92fedb5be47920fea08e501238b9</td>\n",
       "      <td>2017-01-01</td>\n",
       "      <td>NaT</td>\n",
       "      <td>NaT</td>\n",
       "    </tr>\n",
       "    <tr>\n",
       "      <th>...</th>\n",
       "      <td>...</td>\n",
       "      <td>...</td>\n",
       "      <td>...</td>\n",
       "      <td>...</td>\n",
       "      <td>...</td>\n",
       "    </tr>\n",
       "    <tr>\n",
       "      <th>21541</th>\n",
       "      <td>NaT</td>\n",
       "      <td>ff1fb4c404b2efe68b03350a8dc24122</td>\n",
       "      <td>NaT</td>\n",
       "      <td>2018-08-01</td>\n",
       "      <td>2018-09-01</td>\n",
       "    </tr>\n",
       "    <tr>\n",
       "      <th>21542</th>\n",
       "      <td>NaT</td>\n",
       "      <td>ffa6adafb71b807dc13159e26431354c</td>\n",
       "      <td>NaT</td>\n",
       "      <td>2018-08-01</td>\n",
       "      <td>2018-09-01</td>\n",
       "    </tr>\n",
       "    <tr>\n",
       "      <th>21543</th>\n",
       "      <td>NaT</td>\n",
       "      <td>ffc470761de7d0232558ba5e786e57b7</td>\n",
       "      <td>NaT</td>\n",
       "      <td>2018-08-01</td>\n",
       "      <td>2018-09-01</td>\n",
       "    </tr>\n",
       "    <tr>\n",
       "      <th>21544</th>\n",
       "      <td>NaT</td>\n",
       "      <td>ffdd9f82b9a447f6f8d4b91554cc7dd3</td>\n",
       "      <td>NaT</td>\n",
       "      <td>2018-08-01</td>\n",
       "      <td>2018-09-01</td>\n",
       "    </tr>\n",
       "    <tr>\n",
       "      <th>21545</th>\n",
       "      <td>NaT</td>\n",
       "      <td>fffd5413c0700ac820c7069d66d98c89</td>\n",
       "      <td>NaT</td>\n",
       "      <td>2018-08-01</td>\n",
       "      <td>2018-09-01</td>\n",
       "    </tr>\n",
       "  </tbody>\n",
       "</table>\n",
       "<p>21546 rows × 5 columns</p>\n",
       "</div>"
      ],
      "text/plain": [
       "      month_id_x                         seller_id first_month month_id_y  \\\n",
       "0     2017-01-01  004c9cd9d87a3c30c522c48c4fc07416  2017-01-01        NaT   \n",
       "1     2017-01-01  014c0679dd340a0e338872e7ec85666a  2017-01-01        NaT   \n",
       "2     2017-01-01  01cf7e3d21494c41fb86034f2e714fa1  2017-01-01        NaT   \n",
       "3     2017-01-01  054694fa03fe82cec4b7551487331d74  2017-01-01        NaT   \n",
       "4     2017-01-01  05ff92fedb5be47920fea08e501238b9  2017-01-01        NaT   \n",
       "...          ...                               ...         ...        ...   \n",
       "21541        NaT  ff1fb4c404b2efe68b03350a8dc24122         NaT 2018-08-01   \n",
       "21542        NaT  ffa6adafb71b807dc13159e26431354c         NaT 2018-08-01   \n",
       "21543        NaT  ffc470761de7d0232558ba5e786e57b7         NaT 2018-08-01   \n",
       "21544        NaT  ffdd9f82b9a447f6f8d4b91554cc7dd3         NaT 2018-08-01   \n",
       "21545        NaT  fffd5413c0700ac820c7069d66d98c89         NaT 2018-08-01   \n",
       "\n",
       "      shifted_month  \n",
       "0               NaT  \n",
       "1               NaT  \n",
       "2               NaT  \n",
       "3               NaT  \n",
       "4               NaT  \n",
       "...             ...  \n",
       "21541    2018-09-01  \n",
       "21542    2018-09-01  \n",
       "21543    2018-09-01  \n",
       "21544    2018-09-01  \n",
       "21545    2018-09-01  \n",
       "\n",
       "[21546 rows x 5 columns]"
      ]
     },
     "execution_count": 23,
     "metadata": {},
     "output_type": "execute_result"
    }
   ],
   "source": [
    "df = df.merge(df_shifted,\n",
    "              how=\"outer\",\n",
    "              left_on=[\"month_id\", \"seller_id\"],\n",
    "              right_on=[\"shifted_month\", \"seller_id\"])\n",
    "df"
   ]
  },
  {
   "cell_type": "code",
   "execution_count": 24,
   "metadata": {},
   "outputs": [],
   "source": [
    "# remove the rows outside of daterange (after aug 2018)\n",
    "df = df[~df[\"shifted_month\"].eq(df[\"shifted_month\"].max())].copy()"
   ]
  },
  {
   "cell_type": "code",
   "execution_count": 25,
   "metadata": {},
   "outputs": [
    {
     "data": {
      "text/html": [
       "<div>\n",
       "<style scoped>\n",
       "    .dataframe tbody tr th:only-of-type {\n",
       "        vertical-align: middle;\n",
       "    }\n",
       "\n",
       "    .dataframe tbody tr th {\n",
       "        vertical-align: top;\n",
       "    }\n",
       "\n",
       "    .dataframe thead th {\n",
       "        text-align: right;\n",
       "    }\n",
       "</style>\n",
       "<table border=\"1\" class=\"dataframe\">\n",
       "  <thead>\n",
       "    <tr style=\"text-align: right;\">\n",
       "      <th></th>\n",
       "      <th>month_id_x</th>\n",
       "      <th>seller_id</th>\n",
       "      <th>first_month</th>\n",
       "      <th>month_id_y</th>\n",
       "      <th>shifted_month</th>\n",
       "    </tr>\n",
       "  </thead>\n",
       "  <tbody>\n",
       "    <tr>\n",
       "      <th>0</th>\n",
       "      <td>2017-01-01</td>\n",
       "      <td>004c9cd9d87a3c30c522c48c4fc07416</td>\n",
       "      <td>2017-01-01</td>\n",
       "      <td>NaT</td>\n",
       "      <td>NaT</td>\n",
       "    </tr>\n",
       "    <tr>\n",
       "      <th>1</th>\n",
       "      <td>2017-01-01</td>\n",
       "      <td>014c0679dd340a0e338872e7ec85666a</td>\n",
       "      <td>2017-01-01</td>\n",
       "      <td>NaT</td>\n",
       "      <td>NaT</td>\n",
       "    </tr>\n",
       "    <tr>\n",
       "      <th>2</th>\n",
       "      <td>2017-01-01</td>\n",
       "      <td>01cf7e3d21494c41fb86034f2e714fa1</td>\n",
       "      <td>2017-01-01</td>\n",
       "      <td>NaT</td>\n",
       "      <td>NaT</td>\n",
       "    </tr>\n",
       "    <tr>\n",
       "      <th>3</th>\n",
       "      <td>2017-01-01</td>\n",
       "      <td>054694fa03fe82cec4b7551487331d74</td>\n",
       "      <td>2017-01-01</td>\n",
       "      <td>NaT</td>\n",
       "      <td>NaT</td>\n",
       "    </tr>\n",
       "    <tr>\n",
       "      <th>4</th>\n",
       "      <td>2017-01-01</td>\n",
       "      <td>05ff92fedb5be47920fea08e501238b9</td>\n",
       "      <td>2017-01-01</td>\n",
       "      <td>NaT</td>\n",
       "      <td>NaT</td>\n",
       "    </tr>\n",
       "  </tbody>\n",
       "</table>\n",
       "</div>"
      ],
      "text/plain": [
       "  month_id_x                         seller_id first_month month_id_y  \\\n",
       "0 2017-01-01  004c9cd9d87a3c30c522c48c4fc07416  2017-01-01        NaT   \n",
       "1 2017-01-01  014c0679dd340a0e338872e7ec85666a  2017-01-01        NaT   \n",
       "2 2017-01-01  01cf7e3d21494c41fb86034f2e714fa1  2017-01-01        NaT   \n",
       "3 2017-01-01  054694fa03fe82cec4b7551487331d74  2017-01-01        NaT   \n",
       "4 2017-01-01  05ff92fedb5be47920fea08e501238b9  2017-01-01        NaT   \n",
       "\n",
       "  shifted_month  \n",
       "0           NaT  \n",
       "1           NaT  \n",
       "2           NaT  \n",
       "3           NaT  \n",
       "4           NaT  "
      ]
     },
     "execution_count": 25,
     "metadata": {},
     "output_type": "execute_result"
    }
   ],
   "source": [
    "df.head()"
   ]
  },
  {
   "cell_type": "code",
   "execution_count": 26,
   "metadata": {},
   "outputs": [
    {
     "data": {
      "text/plain": [
       "month_id_x       3975\n",
       "seller_id           0\n",
       "first_month      3975\n",
       "month_id_y       5253\n",
       "shifted_month    5253\n",
       "dtype: int64"
      ]
     },
     "execution_count": 26,
     "metadata": {},
     "output_type": "execute_result"
    }
   ],
   "source": [
    "df.isna().sum()"
   ]
  },
  {
   "cell_type": "code",
   "execution_count": 27,
   "metadata": {},
   "outputs": [
    {
     "data": {
      "text/html": [
       "<div>\n",
       "<style scoped>\n",
       "    .dataframe tbody tr th:only-of-type {\n",
       "        vertical-align: middle;\n",
       "    }\n",
       "\n",
       "    .dataframe tbody tr th {\n",
       "        vertical-align: top;\n",
       "    }\n",
       "\n",
       "    .dataframe thead th {\n",
       "        text-align: right;\n",
       "    }\n",
       "</style>\n",
       "<table border=\"1\" class=\"dataframe\">\n",
       "  <thead>\n",
       "    <tr style=\"text-align: right;\">\n",
       "      <th></th>\n",
       "      <th>month_id_x</th>\n",
       "      <th>seller_id</th>\n",
       "      <th>first_month</th>\n",
       "      <th>month_id_y</th>\n",
       "      <th>shifted_month</th>\n",
       "      <th>month_id</th>\n",
       "    </tr>\n",
       "  </thead>\n",
       "  <tbody>\n",
       "    <tr>\n",
       "      <th>0</th>\n",
       "      <td>2017-01-01</td>\n",
       "      <td>004c9cd9d87a3c30c522c48c4fc07416</td>\n",
       "      <td>2017-01-01</td>\n",
       "      <td>NaT</td>\n",
       "      <td>NaT</td>\n",
       "      <td>2017-01-01</td>\n",
       "    </tr>\n",
       "    <tr>\n",
       "      <th>1</th>\n",
       "      <td>2017-01-01</td>\n",
       "      <td>014c0679dd340a0e338872e7ec85666a</td>\n",
       "      <td>2017-01-01</td>\n",
       "      <td>NaT</td>\n",
       "      <td>NaT</td>\n",
       "      <td>2017-01-01</td>\n",
       "    </tr>\n",
       "    <tr>\n",
       "      <th>2</th>\n",
       "      <td>2017-01-01</td>\n",
       "      <td>01cf7e3d21494c41fb86034f2e714fa1</td>\n",
       "      <td>2017-01-01</td>\n",
       "      <td>NaT</td>\n",
       "      <td>NaT</td>\n",
       "      <td>2017-01-01</td>\n",
       "    </tr>\n",
       "    <tr>\n",
       "      <th>3</th>\n",
       "      <td>2017-01-01</td>\n",
       "      <td>054694fa03fe82cec4b7551487331d74</td>\n",
       "      <td>2017-01-01</td>\n",
       "      <td>NaT</td>\n",
       "      <td>NaT</td>\n",
       "      <td>2017-01-01</td>\n",
       "    </tr>\n",
       "    <tr>\n",
       "      <th>4</th>\n",
       "      <td>2017-01-01</td>\n",
       "      <td>05ff92fedb5be47920fea08e501238b9</td>\n",
       "      <td>2017-01-01</td>\n",
       "      <td>NaT</td>\n",
       "      <td>NaT</td>\n",
       "      <td>2017-01-01</td>\n",
       "    </tr>\n",
       "  </tbody>\n",
       "</table>\n",
       "</div>"
      ],
      "text/plain": [
       "  month_id_x                         seller_id first_month month_id_y  \\\n",
       "0 2017-01-01  004c9cd9d87a3c30c522c48c4fc07416  2017-01-01        NaT   \n",
       "1 2017-01-01  014c0679dd340a0e338872e7ec85666a  2017-01-01        NaT   \n",
       "2 2017-01-01  01cf7e3d21494c41fb86034f2e714fa1  2017-01-01        NaT   \n",
       "3 2017-01-01  054694fa03fe82cec4b7551487331d74  2017-01-01        NaT   \n",
       "4 2017-01-01  05ff92fedb5be47920fea08e501238b9  2017-01-01        NaT   \n",
       "\n",
       "  shifted_month   month_id  \n",
       "0           NaT 2017-01-01  \n",
       "1           NaT 2017-01-01  \n",
       "2           NaT 2017-01-01  \n",
       "3           NaT 2017-01-01  \n",
       "4           NaT 2017-01-01  "
      ]
     },
     "execution_count": 27,
     "metadata": {},
     "output_type": "execute_result"
    }
   ],
   "source": [
    "# coalesce month_id\n",
    "df = df.assign(month_id=df[\"month_id_x\"].combine_first(df[\"shifted_month\"]))\n",
    "df.head()"
   ]
  },
  {
   "cell_type": "code",
   "execution_count": 31,
   "metadata": {},
   "outputs": [],
   "source": [
    "df = (df\n",
    "      .assign(inactive_1m=df[\"month_id_x\"].isna().astype(int))\n",
    "      .assign(new=df[\"month_id_x\"].eq(df[\"first_month\"]).astype(int))\n",
    "      .assign(repeat=df[\"month_id_x\"].eq(df[\"shifted_month\"]).astype(int)))"
   ]
  },
  {
   "cell_type": "code",
   "execution_count": 35,
   "metadata": {},
   "outputs": [],
   "source": [
    "df = df.assign(returning=1 - df[[\"inactive_1m\", \"new\", \"repeat\"]].sum(axis=1))"
   ]
  },
  {
   "cell_type": "markdown",
   "metadata": {},
   "source": [
    "show idxmax() method"
   ]
  },
  {
   "cell_type": "code",
   "execution_count": 41,
   "metadata": {},
   "outputs": [
    {
     "data": {
      "text/html": [
       "<div>\n",
       "<style scoped>\n",
       "    .dataframe tbody tr th:only-of-type {\n",
       "        vertical-align: middle;\n",
       "    }\n",
       "\n",
       "    .dataframe tbody tr th {\n",
       "        vertical-align: top;\n",
       "    }\n",
       "\n",
       "    .dataframe thead th {\n",
       "        text-align: right;\n",
       "    }\n",
       "</style>\n",
       "<table border=\"1\" class=\"dataframe\">\n",
       "  <thead>\n",
       "    <tr style=\"text-align: right;\">\n",
       "      <th></th>\n",
       "      <th>inactive_1m</th>\n",
       "      <th>new</th>\n",
       "      <th>repeat</th>\n",
       "      <th>returning</th>\n",
       "    </tr>\n",
       "  </thead>\n",
       "  <tbody>\n",
       "    <tr>\n",
       "      <th>134</th>\n",
       "      <td>0</td>\n",
       "      <td>1</td>\n",
       "      <td>0</td>\n",
       "      <td>0</td>\n",
       "    </tr>\n",
       "  </tbody>\n",
       "</table>\n",
       "</div>"
      ],
      "text/plain": [
       "     inactive_1m  new  repeat  returning\n",
       "134            0    1       0          0"
      ]
     },
     "execution_count": 41,
     "metadata": {},
     "output_type": "execute_result"
    }
   ],
   "source": [
    "df.loc[[134]][[\"inactive_1m\", \"new\", \"repeat\", \"returning\"]]"
   ]
  },
  {
   "cell_type": "code",
   "execution_count": 42,
   "metadata": {},
   "outputs": [
    {
     "data": {
      "text/plain": [
       "134    new\n",
       "dtype: object"
      ]
     },
     "execution_count": 42,
     "metadata": {},
     "output_type": "execute_result"
    }
   ],
   "source": [
    "df.loc[[134]][[\"inactive_1m\", \"new\", \"repeat\", \"returning\"]].idxmax(axis=1)"
   ]
  },
  {
   "cell_type": "code",
   "execution_count": 45,
   "metadata": {},
   "outputs": [
    {
     "data": {
      "text/html": [
       "<div>\n",
       "<style scoped>\n",
       "    .dataframe tbody tr th:only-of-type {\n",
       "        vertical-align: middle;\n",
       "    }\n",
       "\n",
       "    .dataframe tbody tr th {\n",
       "        vertical-align: top;\n",
       "    }\n",
       "\n",
       "    .dataframe thead th {\n",
       "        text-align: right;\n",
       "    }\n",
       "</style>\n",
       "<table border=\"1\" class=\"dataframe\">\n",
       "  <thead>\n",
       "    <tr style=\"text-align: right;\">\n",
       "      <th></th>\n",
       "      <th>inactive_1m</th>\n",
       "      <th>new</th>\n",
       "      <th>repeat</th>\n",
       "      <th>returning</th>\n",
       "    </tr>\n",
       "  </thead>\n",
       "  <tbody>\n",
       "    <tr>\n",
       "      <th>5923</th>\n",
       "      <td>0</td>\n",
       "      <td>0</td>\n",
       "      <td>0</td>\n",
       "      <td>1</td>\n",
       "    </tr>\n",
       "  </tbody>\n",
       "</table>\n",
       "</div>"
      ],
      "text/plain": [
       "      inactive_1m  new  repeat  returning\n",
       "5923            0    0       0          1"
      ]
     },
     "execution_count": 45,
     "metadata": {},
     "output_type": "execute_result"
    }
   ],
   "source": [
    "df.loc[[5923]][[\"inactive_1m\", \"new\", \"repeat\", \"returning\"]]"
   ]
  },
  {
   "cell_type": "code",
   "execution_count": 46,
   "metadata": {},
   "outputs": [
    {
     "data": {
      "text/plain": [
       "5923    returning\n",
       "dtype: object"
      ]
     },
     "execution_count": 46,
     "metadata": {},
     "output_type": "execute_result"
    }
   ],
   "source": [
    "df.loc[[5923]][[\"inactive_1m\", \"new\", \"repeat\", \"returning\"]].idxmax(axis=1)"
   ]
  },
  {
   "cell_type": "markdown",
   "metadata": {},
   "source": [
    "----"
   ]
  },
  {
   "cell_type": "code",
   "execution_count": 50,
   "metadata": {},
   "outputs": [],
   "source": [
    "df = df.assign(growth_type=df[[\"inactive_1m\", \"new\", \"repeat\", \"returning\"]].idxmax(axis=1))\n",
    "df = df[[\"month_id\", \"seller_id\", \"growth_type\"]].copy()"
   ]
  },
  {
   "cell_type": "code",
   "execution_count": 52,
   "metadata": {},
   "outputs": [
    {
     "data": {
      "text/html": [
       "<div>\n",
       "<style scoped>\n",
       "    .dataframe tbody tr th:only-of-type {\n",
       "        vertical-align: middle;\n",
       "    }\n",
       "\n",
       "    .dataframe tbody tr th {\n",
       "        vertical-align: top;\n",
       "    }\n",
       "\n",
       "    .dataframe thead th {\n",
       "        text-align: right;\n",
       "    }\n",
       "</style>\n",
       "<table border=\"1\" class=\"dataframe\">\n",
       "  <thead>\n",
       "    <tr style=\"text-align: right;\">\n",
       "      <th></th>\n",
       "      <th>month_id</th>\n",
       "      <th>seller_id</th>\n",
       "      <th>growth_type</th>\n",
       "    </tr>\n",
       "  </thead>\n",
       "  <tbody>\n",
       "    <tr>\n",
       "      <th>0</th>\n",
       "      <td>2017-01-01</td>\n",
       "      <td>004c9cd9d87a3c30c522c48c4fc07416</td>\n",
       "      <td>new</td>\n",
       "    </tr>\n",
       "    <tr>\n",
       "      <th>1</th>\n",
       "      <td>2017-01-01</td>\n",
       "      <td>014c0679dd340a0e338872e7ec85666a</td>\n",
       "      <td>new</td>\n",
       "    </tr>\n",
       "    <tr>\n",
       "      <th>2</th>\n",
       "      <td>2017-01-01</td>\n",
       "      <td>01cf7e3d21494c41fb86034f2e714fa1</td>\n",
       "      <td>new</td>\n",
       "    </tr>\n",
       "    <tr>\n",
       "      <th>3</th>\n",
       "      <td>2017-01-01</td>\n",
       "      <td>054694fa03fe82cec4b7551487331d74</td>\n",
       "      <td>new</td>\n",
       "    </tr>\n",
       "    <tr>\n",
       "      <th>4</th>\n",
       "      <td>2017-01-01</td>\n",
       "      <td>05ff92fedb5be47920fea08e501238b9</td>\n",
       "      <td>new</td>\n",
       "    </tr>\n",
       "  </tbody>\n",
       "</table>\n",
       "</div>"
      ],
      "text/plain": [
       "    month_id                         seller_id growth_type\n",
       "0 2017-01-01  004c9cd9d87a3c30c522c48c4fc07416         new\n",
       "1 2017-01-01  014c0679dd340a0e338872e7ec85666a         new\n",
       "2 2017-01-01  01cf7e3d21494c41fb86034f2e714fa1         new\n",
       "3 2017-01-01  054694fa03fe82cec4b7551487331d74         new\n",
       "4 2017-01-01  05ff92fedb5be47920fea08e501238b9         new"
      ]
     },
     "execution_count": 52,
     "metadata": {},
     "output_type": "execute_result"
    }
   ],
   "source": [
    "df.head()"
   ]
  },
  {
   "cell_type": "code",
   "execution_count": 56,
   "metadata": {},
   "outputs": [],
   "source": [
    "df_agg = df.groupby([\"month_id\", \"growth_type\"]).count().reset_index().rename(columns={\"seller_id\": \"active_sellers\"})"
   ]
  },
  {
   "cell_type": "code",
   "execution_count": 57,
   "metadata": {},
   "outputs": [
    {
     "name": "stderr",
     "output_type": "stream",
     "text": [
      "/Users/at/miniconda3/envs/code_red/lib/python3.7/site-packages/pandas/plotting/_matplotlib/converter.py:103: FutureWarning: Using an implicitly registered datetime converter for a matplotlib plotting method. The converter was registered by pandas on import. Future versions of pandas will require you to explicitly register matplotlib converters.\n",
      "\n",
      "To register the converters:\n",
      "\t>>> from pandas.plotting import register_matplotlib_converters\n",
      "\t>>> register_matplotlib_converters()\n",
      "  warnings.warn(msg, FutureWarning)\n"
     ]
    },
    {
     "data": {
      "image/png": "[encoded data removed]",
      "text/plain": [
       "<Figure size 1152x648 with 1 Axes>"
      ]
     },
     "metadata": {
      "needs_background": "light"
     },
     "output_type": "display_data"
    }
   ],
   "source": [
    "fig, ax = plt.subplots(figsize=(16,9))\n",
    "sns.lineplot(data=df_agg,\n",
    "             x=\"month_id\",\n",
    "             y=\"active_sellers\",\n",
    "             hue=\"growth_type\",\n",
    "             ax=ax);"
   ]
  }
 ],
 "metadata": {
  "kernelspec": {
   "display_name": "Python 3",
   "language": "python",
   "name": "python3"
  },
  "language_info": {
   "codemirror_mode": {
    "name": "ipython",
    "version": 3
   },
   "file_extension": ".py",
   "mimetype": "text/x-python",
   "name": "python",
   "nbconvert_exporter": "python",
   "pygments_lexer": "ipython3",
   "version": "3.7.5"
  }
 },
 "nbformat": 4,
 "nbformat_minor": 2
}
