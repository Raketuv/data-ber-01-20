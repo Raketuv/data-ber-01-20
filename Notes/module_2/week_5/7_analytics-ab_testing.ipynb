{
 "cells": [
  {
   "cell_type": "code",
   "execution_count": 1,
   "metadata": {},
   "outputs": [],
   "source": [
    "import pandas as pd\n",
    "import numpy as np\n",
    "import uuid\n",
    "import random\n",
    "import seaborn as sns\n",
    "import matplotlib.pyplot as plt\n",
    "import scipy\n",
    "from pandas.plotting import register_matplotlib_converters\n",
    "register_matplotlib_converters()\n",
    "\n",
    "%matplotlib inline\n",
    "sns.set_style(\"ticks\")"
   ]
  },
  {
   "cell_type": "markdown",
   "metadata": {},
   "source": [
    "Olist conducted an experiment to see if altering the delivery estimation could result in higher review scores.\n",
    "\n",
    "# Generate random data for A/B testing"
   ]
  },
  {
   "cell_type": "code",
   "execution_count": 2,
   "metadata": {},
   "outputs": [],
   "source": [
    "date_range = pd.date_range(start=\"2018-07-01\", end=\"2018-09-01\")"
   ]
  },
  {
   "cell_type": "code",
   "execution_count": 3,
   "metadata": {},
   "outputs": [
    {
     "data": {
      "text/plain": [
       "DatetimeIndex(['2018-07-01', '2018-07-02', '2018-07-03', '2018-07-04',\n",
       "               '2018-07-05', '2018-07-06', '2018-07-07', '2018-07-08',\n",
       "               '2018-07-09', '2018-07-10', '2018-07-11', '2018-07-12',\n",
       "               '2018-07-13', '2018-07-14', '2018-07-15', '2018-07-16',\n",
       "               '2018-07-17', '2018-07-18', '2018-07-19', '2018-07-20',\n",
       "               '2018-07-21', '2018-07-22', '2018-07-23', '2018-07-24',\n",
       "               '2018-07-25', '2018-07-26', '2018-07-27', '2018-07-28',\n",
       "               '2018-07-29', '2018-07-30', '2018-07-31', '2018-08-01',\n",
       "               '2018-08-02', '2018-08-03', '2018-08-04', '2018-08-05',\n",
       "               '2018-08-06', '2018-08-07', '2018-08-08', '2018-08-09',\n",
       "               '2018-08-10', '2018-08-11', '2018-08-12', '2018-08-13',\n",
       "               '2018-08-14', '2018-08-15', '2018-08-16', '2018-08-17',\n",
       "               '2018-08-18', '2018-08-19', '2018-08-20', '2018-08-21',\n",
       "               '2018-08-22', '2018-08-23', '2018-08-24', '2018-08-25',\n",
       "               '2018-08-26', '2018-08-27', '2018-08-28', '2018-08-29',\n",
       "               '2018-08-30', '2018-08-31', '2018-09-01'],\n",
       "              dtype='datetime64[ns]', freq='D')"
      ]
     },
     "execution_count": 3,
     "metadata": {},
     "output_type": "execute_result"
    }
   ],
   "source": [
    "date_range"
   ]
  },
  {
   "cell_type": "code",
   "execution_count": 4,
   "metadata": {},
   "outputs": [
    {
     "data": {
      "text/plain": [
       "numpy.datetime64('2018-07-15')"
      ]
     },
     "execution_count": 4,
     "metadata": {},
     "output_type": "execute_result"
    }
   ],
   "source": [
    "np.datetime64(\"2018-07-15\")"
   ]
  },
  {
   "cell_type": "code",
   "execution_count": 5,
   "metadata": {},
   "outputs": [],
   "source": [
    "control = {1: 10,\n",
    "           2: 3,\n",
    "           3: 8,\n",
    "           4: 20,\n",
    "           5: 59}\n",
    "\n",
    "test = {1: 10,\n",
    "        2: 2,\n",
    "        3: 10,\n",
    "        4: 22,\n",
    "        5: 63}\n",
    "\n",
    "def generate_review_distribution(freq_dict):\n",
    "    l = []\n",
    "    for key, value in freq_dict.items():\n",
    "        l += [key] * value\n",
    "    return l"
   ]
  },
  {
   "cell_type": "code",
   "execution_count": 6,
   "metadata": {},
   "outputs": [],
   "source": [
    "def get_random_review(date, group):\n",
    "    if (group == 102) & (date >= np.datetime64(\"2018-07-15\")):\n",
    "        random_reviews = generate_review_distribution(test)\n",
    "    else:\n",
    "        random_reviews = generate_review_distribution(control)\n",
    "    return random.choice(random_reviews)\n",
    "    \n",
    "def generate_random_observation(date, group):\n",
    "    return str(uuid.uuid4()), get_random_review(date, group)"
   ]
  },
  {
   "cell_type": "code",
   "execution_count": 7,
   "metadata": {},
   "outputs": [],
   "source": [
    "# create list of dicts to later on convert to a dataframe\n",
    "rows = []\n",
    "for date in date_range:\n",
    "    # two groups\n",
    "    for group in [101,102]:\n",
    "        # pick a random number of orders btw 350 and 450\n",
    "        orders = random.choice(range(350,450))\n",
    "        for obs in range(orders):\n",
    "            order_id, review_score = generate_random_observation(date, group)\n",
    "            rows.append({\"date_id\": date,\n",
    "                         \"experiment_id\": group,\n",
    "                         \"order_id\": order_id,\n",
    "                         \"review_score\": review_score})\n",
    "            \n",
    "df = pd.DataFrame(rows)"
   ]
  },
  {
   "cell_type": "code",
   "execution_count": 8,
   "metadata": {},
   "outputs": [
    {
     "data": {
      "text/html": [
       "<div>\n",
       "<style scoped>\n",
       "    .dataframe tbody tr th:only-of-type {\n",
       "        vertical-align: middle;\n",
       "    }\n",
       "\n",
       "    .dataframe tbody tr th {\n",
       "        vertical-align: top;\n",
       "    }\n",
       "\n",
       "    .dataframe thead th {\n",
       "        text-align: right;\n",
       "    }\n",
       "</style>\n",
       "<table border=\"1\" class=\"dataframe\">\n",
       "  <thead>\n",
       "    <tr style=\"text-align: right;\">\n",
       "      <th></th>\n",
       "      <th>date_id</th>\n",
       "      <th>experiment_id</th>\n",
       "      <th>order_id</th>\n",
       "      <th>review_score</th>\n",
       "    </tr>\n",
       "  </thead>\n",
       "  <tbody>\n",
       "    <tr>\n",
       "      <th>0</th>\n",
       "      <td>2018-07-01</td>\n",
       "      <td>101</td>\n",
       "      <td>04a383ea-26c9-4015-8b6b-1ee25e11bd64</td>\n",
       "      <td>5</td>\n",
       "    </tr>\n",
       "    <tr>\n",
       "      <th>1</th>\n",
       "      <td>2018-07-01</td>\n",
       "      <td>101</td>\n",
       "      <td>9dcf93db-1dde-4873-a88d-c461ddbb7fff</td>\n",
       "      <td>4</td>\n",
       "    </tr>\n",
       "    <tr>\n",
       "      <th>2</th>\n",
       "      <td>2018-07-01</td>\n",
       "      <td>101</td>\n",
       "      <td>615b1654-a1b6-4ee2-93b8-1bdd14f72939</td>\n",
       "      <td>5</td>\n",
       "    </tr>\n",
       "    <tr>\n",
       "      <th>3</th>\n",
       "      <td>2018-07-01</td>\n",
       "      <td>101</td>\n",
       "      <td>b701be35-505b-4ac4-a98a-f5e48643da0b</td>\n",
       "      <td>1</td>\n",
       "    </tr>\n",
       "    <tr>\n",
       "      <th>4</th>\n",
       "      <td>2018-07-01</td>\n",
       "      <td>101</td>\n",
       "      <td>80c07215-ec76-404f-bc84-70abaa2ee2c3</td>\n",
       "      <td>3</td>\n",
       "    </tr>\n",
       "    <tr>\n",
       "      <th>...</th>\n",
       "      <td>...</td>\n",
       "      <td>...</td>\n",
       "      <td>...</td>\n",
       "      <td>...</td>\n",
       "    </tr>\n",
       "    <tr>\n",
       "      <th>50636</th>\n",
       "      <td>2018-09-01</td>\n",
       "      <td>102</td>\n",
       "      <td>4f6b55cb-0514-4f23-9dc8-b44dcf351c23</td>\n",
       "      <td>4</td>\n",
       "    </tr>\n",
       "    <tr>\n",
       "      <th>50637</th>\n",
       "      <td>2018-09-01</td>\n",
       "      <td>102</td>\n",
       "      <td>0e6a93f2-502e-4a10-a358-632755c48f21</td>\n",
       "      <td>4</td>\n",
       "    </tr>\n",
       "    <tr>\n",
       "      <th>50638</th>\n",
       "      <td>2018-09-01</td>\n",
       "      <td>102</td>\n",
       "      <td>8ad8ab40-72ff-4567-9b1c-91438e612785</td>\n",
       "      <td>4</td>\n",
       "    </tr>\n",
       "    <tr>\n",
       "      <th>50639</th>\n",
       "      <td>2018-09-01</td>\n",
       "      <td>102</td>\n",
       "      <td>80d3f60a-b035-4977-b5c5-f97571bdf44a</td>\n",
       "      <td>1</td>\n",
       "    </tr>\n",
       "    <tr>\n",
       "      <th>50640</th>\n",
       "      <td>2018-09-01</td>\n",
       "      <td>102</td>\n",
       "      <td>b3bf38f1-107c-46ca-89df-ac1b039bd7ce</td>\n",
       "      <td>1</td>\n",
       "    </tr>\n",
       "  </tbody>\n",
       "</table>\n",
       "<p>50641 rows × 4 columns</p>\n",
       "</div>"
      ],
      "text/plain": [
       "         date_id  experiment_id                              order_id  \\\n",
       "0     2018-07-01            101  04a383ea-26c9-4015-8b6b-1ee25e11bd64   \n",
       "1     2018-07-01            101  9dcf93db-1dde-4873-a88d-c461ddbb7fff   \n",
       "2     2018-07-01            101  615b1654-a1b6-4ee2-93b8-1bdd14f72939   \n",
       "3     2018-07-01            101  b701be35-505b-4ac4-a98a-f5e48643da0b   \n",
       "4     2018-07-01            101  80c07215-ec76-404f-bc84-70abaa2ee2c3   \n",
       "...          ...            ...                                   ...   \n",
       "50636 2018-09-01            102  4f6b55cb-0514-4f23-9dc8-b44dcf351c23   \n",
       "50637 2018-09-01            102  0e6a93f2-502e-4a10-a358-632755c48f21   \n",
       "50638 2018-09-01            102  8ad8ab40-72ff-4567-9b1c-91438e612785   \n",
       "50639 2018-09-01            102  80d3f60a-b035-4977-b5c5-f97571bdf44a   \n",
       "50640 2018-09-01            102  b3bf38f1-107c-46ca-89df-ac1b039bd7ce   \n",
       "\n",
       "       review_score  \n",
       "0                 5  \n",
       "1                 4  \n",
       "2                 5  \n",
       "3                 1  \n",
       "4                 3  \n",
       "...             ...  \n",
       "50636             4  \n",
       "50637             4  \n",
       "50638             4  \n",
       "50639             1  \n",
       "50640             1  \n",
       "\n",
       "[50641 rows x 4 columns]"
      ]
     },
     "execution_count": 8,
     "metadata": {},
     "output_type": "execute_result"
    }
   ],
   "source": [
    "df"
   ]
  },
  {
   "cell_type": "markdown",
   "metadata": {},
   "source": [
    "### Plot data and calculate means"
   ]
  },
  {
   "cell_type": "code",
   "execution_count": 9,
   "metadata": {},
   "outputs": [
    {
     "data": {
      "image/png": "[encoded data removed]",
      "text/plain": [
       "<Figure size 720x576 with 1 Axes>"
      ]
     },
     "metadata": {},
     "output_type": "display_data"
    }
   ],
   "source": [
    "fig, ax = plt.subplots(figsize=(10,8))\n",
    "sns.lineplot(data=df.groupby([\"date_id\", \"experiment_id\"]).mean().reset_index(),\n",
    "             x=\"date_id\",\n",
    "             y=\"review_score\",\n",
    "             hue=\"experiment_id\",\n",
    "             ax=ax);\n",
    "ax.axvline(\"2018-07-15\", color=\"r\")\n",
    "ax.set_ylim(3,5);"
   ]
  },
  {
   "cell_type": "code",
   "execution_count": 10,
   "metadata": {},
   "outputs": [
    {
     "data": {
      "text/html": [
       "<div>\n",
       "<style scoped>\n",
       "    .dataframe tbody tr th:only-of-type {\n",
       "        vertical-align: middle;\n",
       "    }\n",
       "\n",
       "    .dataframe tbody tr th {\n",
       "        vertical-align: top;\n",
       "    }\n",
       "\n",
       "    .dataframe thead th {\n",
       "        text-align: right;\n",
       "    }\n",
       "</style>\n",
       "<table border=\"1\" class=\"dataframe\">\n",
       "  <thead>\n",
       "    <tr style=\"text-align: right;\">\n",
       "      <th></th>\n",
       "      <th>review_score</th>\n",
       "    </tr>\n",
       "    <tr>\n",
       "      <th>experiment_id</th>\n",
       "      <th></th>\n",
       "    </tr>\n",
       "  </thead>\n",
       "  <tbody>\n",
       "    <tr>\n",
       "      <th>101</th>\n",
       "      <td>4.144716</td>\n",
       "    </tr>\n",
       "    <tr>\n",
       "      <th>102</th>\n",
       "      <td>4.174121</td>\n",
       "    </tr>\n",
       "  </tbody>\n",
       "</table>\n",
       "</div>"
      ],
      "text/plain": [
       "               review_score\n",
       "experiment_id              \n",
       "101                4.144716\n",
       "102                4.174121"
      ]
     },
     "execution_count": 10,
     "metadata": {},
     "output_type": "execute_result"
    }
   ],
   "source": [
    "df[df[\"date_id\"] > \"2018-07-15\"].groupby(\"experiment_id\").mean()"
   ]
  },
  {
   "cell_type": "code",
   "execution_count": 11,
   "metadata": {},
   "outputs": [],
   "source": [
    "df.to_csv(\"olist_experiment_data.csv\")"
   ]
  },
  {
   "cell_type": "markdown",
   "metadata": {},
   "source": [
    "How do we know if this difference did not just occure by chance?\n",
    "We have uncertainty because we are looking at a sample and want to generalize to all users.\n",
    "\n",
    "\n",
    "We use statistics => t-test"
   ]
  },
  {
   "cell_type": "markdown",
   "metadata": {},
   "source": [
    "# Central Limit Theorem"
   ]
  },
  {
   "cell_type": "code",
   "execution_count": 12,
   "metadata": {},
   "outputs": [
    {
     "data": {
      "image/png": "[encoded data removed]",
      "text/plain": [
       "<Figure size 432x288 with 1 Axes>"
      ]
     },
     "metadata": {},
     "output_type": "display_data"
    }
   ],
   "source": [
    "sns.distplot(np.random.exponential(size=1000));"
   ]
  },
  {
   "cell_type": "code",
   "execution_count": 13,
   "metadata": {},
   "outputs": [],
   "source": [
    "means = []\n",
    "for i in range(1000):\n",
    "    means.append(np.random.exponential(size=1000).mean())"
   ]
  },
  {
   "cell_type": "code",
   "execution_count": 14,
   "metadata": {},
   "outputs": [
    {
     "data": {
      "image/png": "[encoded data removed]",
      "text/plain": [
       "<Figure size 432x288 with 1 Axes>"
      ]
     },
     "metadata": {},
     "output_type": "display_data"
    }
   ],
   "source": [
    "sns.distplot(means);"
   ]
  },
  {
   "cell_type": "markdown",
   "metadata": {},
   "source": [
    "Create a function that allows us to tweak the parameters and use different distributions"
   ]
  },
  {
   "cell_type": "code",
   "execution_count": 15,
   "metadata": {},
   "outputs": [],
   "source": [
    "def plot_clt(sample_size, repetition, distr):\n",
    "    sample_means = [distr(size=sample_size).mean() for i in range(repetition)]\n",
    "    sns.distplot(sample_means, color=\"r\")"
   ]
  },
  {
   "cell_type": "code",
   "execution_count": 16,
   "metadata": {},
   "outputs": [
    {
     "data": {
      "image/png": "[encoded data removed]",
      "text/plain": [
       "<Figure size 432x288 with 1 Axes>"
      ]
     },
     "metadata": {},
     "output_type": "display_data"
    }
   ],
   "source": [
    "plot_clt(35, 10000, np.random.exponential)"
   ]
  },
  {
   "cell_type": "code",
   "execution_count": 17,
   "metadata": {},
   "outputs": [
    {
     "data": {
      "image/png": "[encoded data removed]",
      "text/plain": [
       "<Figure size 432x288 with 1 Axes>"
      ]
     },
     "metadata": {},
     "output_type": "display_data"
    }
   ],
   "source": [
    "plot_clt(100, 1000, np.random.exponential)"
   ]
  },
  {
   "cell_type": "code",
   "execution_count": 18,
   "metadata": {},
   "outputs": [
    {
     "data": {
      "image/png": "[encoded data removed]",
      "text/plain": [
       "<Figure size 432x288 with 1 Axes>"
      ]
     },
     "metadata": {},
     "output_type": "display_data"
    }
   ],
   "source": [
    "sns.distplot(np.random.poisson(size=1000));"
   ]
  },
  {
   "cell_type": "code",
   "execution_count": 19,
   "metadata": {},
   "outputs": [
    {
     "data": {
      "image/png": "[encoded data removed]",
      "text/plain": [
       "<Figure size 432x288 with 1 Axes>"
      ]
     },
     "metadata": {},
     "output_type": "display_data"
    }
   ],
   "source": [
    "plot_clt(1000, 2000, np.random.poisson)"
   ]
  },
  {
   "cell_type": "code",
   "execution_count": 20,
   "metadata": {},
   "outputs": [],
   "source": [
    "# alter function so I can layer multiple plots on the same graph\n",
    "def plot_clt(sample_size, repetition, distr, ax=None, color=None):\n",
    "    sample_means = [distr(size=sample_size).mean() for i in range(repetition)]\n",
    "    sns.distplot(sample_means, color=color, ax=ax)"
   ]
  },
  {
   "cell_type": "code",
   "execution_count": 21,
   "metadata": {},
   "outputs": [
    {
     "data": {
      "image/png": "[encoded data removed]",
      "text/plain": [
       "<Figure size 432x288 with 1 Axes>"
      ]
     },
     "metadata": {},
     "output_type": "display_data"
    }
   ],
   "source": [
    "plot_clt(1000, 2000, np.random.poisson)"
   ]
  },
  {
   "cell_type": "markdown",
   "metadata": {},
   "source": [
    "test the functions"
   ]
  },
  {
   "cell_type": "code",
   "execution_count": 22,
   "metadata": {},
   "outputs": [
    {
     "data": {
      "image/png": "[encoded data removed]",
      "text/plain": [
       "<Figure size 720x432 with 1 Axes>"
      ]
     },
     "metadata": {},
     "output_type": "display_data"
    }
   ],
   "source": [
    "fig, ax = plt.subplots(figsize=(10,6))\n",
    "plot_clt(100,100,np.random.poisson,ax,\"r\")\n",
    "plot_clt(1000,1000,np.random.poisson,ax,\"g\")"
   ]
  },
  {
   "cell_type": "code",
   "execution_count": 23,
   "metadata": {},
   "outputs": [
    {
     "data": {
      "image/png": "[encoded data removed]",
      "text/plain": [
       "<Figure size 720x432 with 1 Axes>"
      ]
     },
     "metadata": {},
     "output_type": "display_data"
    }
   ],
   "source": [
    "# alter repetitions, keep sample_size\n",
    "fig, ax = plt.subplots(figsize=(10,6))\n",
    "plot_clt(1000,100,np.random.poisson,ax,\"r\")\n",
    "plot_clt(1000,1000,np.random.poisson,ax,\"g\")\n",
    "plot_clt(1000,10000,np.random.poisson,ax,\"b\")"
   ]
  },
  {
   "cell_type": "code",
   "execution_count": 24,
   "metadata": {},
   "outputs": [
    {
     "data": {
      "image/png": "[encoded data removed]",
      "text/plain": [
       "<Figure size 432x288 with 1 Axes>"
      ]
     },
     "metadata": {},
     "output_type": "display_data"
    }
   ],
   "source": [
    "plot_clt(1000,100,np.random.poisson)"
   ]
  },
  {
   "cell_type": "code",
   "execution_count": 25,
   "metadata": {},
   "outputs": [
    {
     "data": {
      "image/png": "[encoded data removed]",
      "text/plain": [
       "<Figure size 720x432 with 1 Axes>"
      ]
     },
     "metadata": {},
     "output_type": "display_data"
    }
   ],
   "source": [
    "# keep repetitions, alter sample_size\n",
    "fig, ax = plt.subplots(figsize=(10,6))\n",
    "plot_clt(10,5000,np.random.poisson,ax,\"r\")\n",
    "plot_clt(100,5000,np.random.poisson,ax,\"g\")\n",
    "plot_clt(1000,5000,np.random.poisson,ax,\"b\")"
   ]
  },
  {
   "cell_type": "markdown",
   "metadata": {},
   "source": [
    "# Run that t-test\n",
    "\n",
    "Testing the hypothesis that our newly introduced change had no effect. \n",
    "\n",
    "Nullhypothesis:\n",
    "\n",
    "$H_0: avg\\_rating_{control} = avg\\_rating_{test}$\n",
    "\n",
    "$ <=> avg\\_rating_{control} - avg\\_rating_{test} = 0$\n",
    "\n",
    "Against the alternative hypothesis:\n",
    "\n",
    "$H_1: avg\\_rating_{control} \\neq avg\\_rating_{test}$"
   ]
  },
  {
   "cell_type": "code",
   "execution_count": 26,
   "metadata": {},
   "outputs": [
    {
     "data": {
      "text/plain": [
       "date_id          datetime64[ns]\n",
       "experiment_id             int64\n",
       "order_id                 object\n",
       "review_score              int64\n",
       "dtype: object"
      ]
     },
     "execution_count": 26,
     "metadata": {},
     "output_type": "execute_result"
    }
   ],
   "source": [
    "df.dtypes"
   ]
  },
  {
   "cell_type": "code",
   "execution_count": 27,
   "metadata": {},
   "outputs": [
    {
     "data": {
      "text/html": [
       "<div>\n",
       "<style scoped>\n",
       "    .dataframe tbody tr th:only-of-type {\n",
       "        vertical-align: middle;\n",
       "    }\n",
       "\n",
       "    .dataframe tbody tr th {\n",
       "        vertical-align: top;\n",
       "    }\n",
       "\n",
       "    .dataframe thead th {\n",
       "        text-align: right;\n",
       "    }\n",
       "</style>\n",
       "<table border=\"1\" class=\"dataframe\">\n",
       "  <thead>\n",
       "    <tr style=\"text-align: right;\">\n",
       "      <th></th>\n",
       "      <th>date_id</th>\n",
       "      <th>experiment_id</th>\n",
       "      <th>order_id</th>\n",
       "      <th>review_score</th>\n",
       "    </tr>\n",
       "  </thead>\n",
       "  <tbody>\n",
       "    <tr>\n",
       "      <th>11044</th>\n",
       "      <td>2018-07-15</td>\n",
       "      <td>101</td>\n",
       "      <td>6aba2d77-ac80-4214-8668-f58314e77895</td>\n",
       "      <td>2</td>\n",
       "    </tr>\n",
       "    <tr>\n",
       "      <th>11045</th>\n",
       "      <td>2018-07-15</td>\n",
       "      <td>101</td>\n",
       "      <td>32c06ad1-4029-4abb-bf6a-5aa86025a56a</td>\n",
       "      <td>5</td>\n",
       "    </tr>\n",
       "    <tr>\n",
       "      <th>11046</th>\n",
       "      <td>2018-07-15</td>\n",
       "      <td>101</td>\n",
       "      <td>04e25dee-c06e-47a7-bcf0-5d8b60c02d27</td>\n",
       "      <td>5</td>\n",
       "    </tr>\n",
       "    <tr>\n",
       "      <th>11047</th>\n",
       "      <td>2018-07-15</td>\n",
       "      <td>101</td>\n",
       "      <td>7807c847-b575-43f3-b462-9a3a540a0f70</td>\n",
       "      <td>3</td>\n",
       "    </tr>\n",
       "    <tr>\n",
       "      <th>11048</th>\n",
       "      <td>2018-07-15</td>\n",
       "      <td>101</td>\n",
       "      <td>6b0cf8a8-9e87-4097-aacd-249587d67f4a</td>\n",
       "      <td>5</td>\n",
       "    </tr>\n",
       "  </tbody>\n",
       "</table>\n",
       "</div>"
      ],
      "text/plain": [
       "         date_id  experiment_id                              order_id  \\\n",
       "11044 2018-07-15            101  6aba2d77-ac80-4214-8668-f58314e77895   \n",
       "11045 2018-07-15            101  32c06ad1-4029-4abb-bf6a-5aa86025a56a   \n",
       "11046 2018-07-15            101  04e25dee-c06e-47a7-bcf0-5d8b60c02d27   \n",
       "11047 2018-07-15            101  7807c847-b575-43f3-b462-9a3a540a0f70   \n",
       "11048 2018-07-15            101  6b0cf8a8-9e87-4097-aacd-249587d67f4a   \n",
       "\n",
       "       review_score  \n",
       "11044             2  \n",
       "11045             5  \n",
       "11046             5  \n",
       "11047             3  \n",
       "11048             5  "
      ]
     },
     "execution_count": 27,
     "metadata": {},
     "output_type": "execute_result"
    }
   ],
   "source": [
    "# we only started the experiment on 2018-07-15\n",
    "df = df[df[\"date_id\"].gt(\"2018-07-14\")]\n",
    "df.head()"
   ]
  },
  {
   "cell_type": "code",
   "execution_count": 28,
   "metadata": {},
   "outputs": [
    {
     "data": {
      "text/html": [
       "<div>\n",
       "<style scoped>\n",
       "    .dataframe tbody tr th:only-of-type {\n",
       "        vertical-align: middle;\n",
       "    }\n",
       "\n",
       "    .dataframe tbody tr th {\n",
       "        vertical-align: top;\n",
       "    }\n",
       "\n",
       "    .dataframe thead th {\n",
       "        text-align: right;\n",
       "    }\n",
       "</style>\n",
       "<table border=\"1\" class=\"dataframe\">\n",
       "  <thead>\n",
       "    <tr style=\"text-align: right;\">\n",
       "      <th></th>\n",
       "      <th>avg_review_score</th>\n",
       "    </tr>\n",
       "    <tr>\n",
       "      <th>experiment_id</th>\n",
       "      <th></th>\n",
       "    </tr>\n",
       "  </thead>\n",
       "  <tbody>\n",
       "    <tr>\n",
       "      <th>101</th>\n",
       "      <td>4.143935</td>\n",
       "    </tr>\n",
       "    <tr>\n",
       "      <th>102</th>\n",
       "      <td>4.174859</td>\n",
       "    </tr>\n",
       "  </tbody>\n",
       "</table>\n",
       "</div>"
      ],
      "text/plain": [
       "               avg_review_score\n",
       "experiment_id                  \n",
       "101                    4.143935\n",
       "102                    4.174859"
      ]
     },
     "execution_count": 28,
     "metadata": {},
     "output_type": "execute_result"
    }
   ],
   "source": [
    "# get the means\n",
    "means = (df\n",
    "         .groupby(\"experiment_id\")\n",
    "         .agg({\"review_score\": \"mean\"})\n",
    "         .rename(columns={\"review_score\": \"avg_review_score\"}))\n",
    "means"
   ]
  },
  {
   "cell_type": "code",
   "execution_count": 29,
   "metadata": {},
   "outputs": [
    {
     "data": {
      "text/html": [
       "<div>\n",
       "<style scoped>\n",
       "    .dataframe tbody tr th:only-of-type {\n",
       "        vertical-align: middle;\n",
       "    }\n",
       "\n",
       "    .dataframe tbody tr th {\n",
       "        vertical-align: top;\n",
       "    }\n",
       "\n",
       "    .dataframe thead th {\n",
       "        text-align: right;\n",
       "    }\n",
       "</style>\n",
       "<table border=\"1\" class=\"dataframe\">\n",
       "  <thead>\n",
       "    <tr style=\"text-align: right;\">\n",
       "      <th></th>\n",
       "      <th>review_score_var</th>\n",
       "    </tr>\n",
       "    <tr>\n",
       "      <th>experiment_id</th>\n",
       "      <th></th>\n",
       "    </tr>\n",
       "  </thead>\n",
       "  <tbody>\n",
       "    <tr>\n",
       "      <th>101</th>\n",
       "      <td>1.675907</td>\n",
       "    </tr>\n",
       "    <tr>\n",
       "      <th>102</th>\n",
       "      <td>1.565963</td>\n",
       "    </tr>\n",
       "  </tbody>\n",
       "</table>\n",
       "</div>"
      ],
      "text/plain": [
       "               review_score_var\n",
       "experiment_id                  \n",
       "101                    1.675907\n",
       "102                    1.565963"
      ]
     },
     "execution_count": 29,
     "metadata": {},
     "output_type": "execute_result"
    }
   ],
   "source": [
    "var = (df\n",
    "       .groupby(\"experiment_id\")\n",
    "       .agg({\"review_score\": \"var\"})\n",
    "       .rename(columns={\"review_score\": \"review_score_var\"}))\n",
    "var"
   ]
  },
  {
   "cell_type": "code",
   "execution_count": 30,
   "metadata": {},
   "outputs": [
    {
     "data": {
      "text/html": [
       "<div>\n",
       "<style scoped>\n",
       "    .dataframe tbody tr th:only-of-type {\n",
       "        vertical-align: middle;\n",
       "    }\n",
       "\n",
       "    .dataframe tbody tr th {\n",
       "        vertical-align: top;\n",
       "    }\n",
       "\n",
       "    .dataframe thead th {\n",
       "        text-align: right;\n",
       "    }\n",
       "</style>\n",
       "<table border=\"1\" class=\"dataframe\">\n",
       "  <thead>\n",
       "    <tr style=\"text-align: right;\">\n",
       "      <th></th>\n",
       "      <th>review_score_std</th>\n",
       "    </tr>\n",
       "    <tr>\n",
       "      <th>experiment_id</th>\n",
       "      <th></th>\n",
       "    </tr>\n",
       "  </thead>\n",
       "  <tbody>\n",
       "    <tr>\n",
       "      <th>101</th>\n",
       "      <td>1.294568</td>\n",
       "    </tr>\n",
       "    <tr>\n",
       "      <th>102</th>\n",
       "      <td>1.251384</td>\n",
       "    </tr>\n",
       "  </tbody>\n",
       "</table>\n",
       "</div>"
      ],
      "text/plain": [
       "               review_score_std\n",
       "experiment_id                  \n",
       "101                    1.294568\n",
       "102                    1.251384"
      ]
     },
     "execution_count": 30,
     "metadata": {},
     "output_type": "execute_result"
    }
   ],
   "source": [
    "stds = (df\n",
    "        .groupby(\"experiment_id\")\n",
    "        .agg({\"review_score\": \"std\"})\n",
    "        .rename(columns={\"review_score\": \"review_score_std\"}))\n",
    "stds"
   ]
  },
  {
   "cell_type": "code",
   "execution_count": 31,
   "metadata": {},
   "outputs": [
    {
     "data": {
      "text/html": [
       "<div>\n",
       "<style scoped>\n",
       "    .dataframe tbody tr th:only-of-type {\n",
       "        vertical-align: middle;\n",
       "    }\n",
       "\n",
       "    .dataframe tbody tr th {\n",
       "        vertical-align: top;\n",
       "    }\n",
       "\n",
       "    .dataframe thead th {\n",
       "        text-align: right;\n",
       "    }\n",
       "</style>\n",
       "<table border=\"1\" class=\"dataframe\">\n",
       "  <thead>\n",
       "    <tr style=\"text-align: right;\">\n",
       "      <th></th>\n",
       "      <th>sample_size</th>\n",
       "    </tr>\n",
       "    <tr>\n",
       "      <th>experiment_id</th>\n",
       "      <th></th>\n",
       "    </tr>\n",
       "  </thead>\n",
       "  <tbody>\n",
       "    <tr>\n",
       "      <th>101</th>\n",
       "      <td>19884</td>\n",
       "    </tr>\n",
       "    <tr>\n",
       "      <th>102</th>\n",
       "      <td>19713</td>\n",
       "    </tr>\n",
       "  </tbody>\n",
       "</table>\n",
       "</div>"
      ],
      "text/plain": [
       "               sample_size\n",
       "experiment_id             \n",
       "101                  19884\n",
       "102                  19713"
      ]
     },
     "execution_count": 31,
     "metadata": {},
     "output_type": "execute_result"
    }
   ],
   "source": [
    "ssizes = (df\n",
    "          .groupby(\"experiment_id\")\n",
    "          .agg({\"review_score\": \"count\"})\n",
    "          .rename(columns={\"review_score\": \"sample_size\"}))\n",
    "ssizes"
   ]
  },
  {
   "cell_type": "markdown",
   "metadata": {},
   "source": [
    "Plot the distribution of the sample mean"
   ]
  },
  {
   "cell_type": "code",
   "execution_count": 32,
   "metadata": {},
   "outputs": [
    {
     "data": {
      "image/png": "[encoded data removed]",
      "text/plain": [
       "<Figure size 720x432 with 1 Axes>"
      ]
     },
     "metadata": {},
     "output_type": "display_data"
    }
   ],
   "source": [
    "fig, ax = plt.subplots(figsize=(10,6))\n",
    "# control\n",
    "# calculate the standard error\n",
    "se_c = stds.loc[101,\"review_score_std\"] / np.sqrt(ssizes.loc[101,\"sample_size\"])\n",
    "pdf_c = scipy.stats.norm.pdf(np.linspace(4.1,4.3),\n",
    "                             means.loc[101,\"avg_review_score\"],\n",
    "                             se_c)\n",
    "plt.plot(np.linspace(4.1,4.3), pdf_c);\n",
    "ax.axvline(means.loc[101,\"avg_review_score\"], color=\"r\");\n",
    "\n",
    "# test\n",
    "se_t = stds.loc[102,\"review_score_std\"] / np.sqrt(ssizes.loc[102,\"sample_size\"])\n",
    "pdf_t = scipy.stats.norm.pdf(np.linspace(4.1,4.3),\n",
    "                             means.loc[102,\"avg_review_score\"],\n",
    "                             se_t)\n",
    "plt.plot(np.linspace(4.1,4.3), pdf_t);\n",
    "ax.axvline(means.loc[102,\"avg_review_score\"], color=\"r\");"
   ]
  },
  {
   "cell_type": "code",
   "execution_count": 33,
   "metadata": {},
   "outputs": [],
   "source": [
    "combined_standard_error = np.sqrt(var.loc[101,\"review_score_var\"]/ssizes.loc[101,\"sample_size\"] + var.loc[102,\"review_score_var\"]/ssizes.loc[102,\"sample_size\"])\n",
    "diff_mean = means.loc[101,\"avg_review_score\"] - means.loc[102,\"avg_review_score\"]"
   ]
  },
  {
   "cell_type": "code",
   "execution_count": 34,
   "metadata": {},
   "outputs": [
    {
     "data": {
      "image/png": "[encoded data removed]",
      "text/plain": [
       "<Figure size 720x432 with 1 Axes>"
      ]
     },
     "metadata": {},
     "output_type": "display_data"
    }
   ],
   "source": [
    "fig, ax = plt.subplots(figsize=(10,6))\n",
    "\n",
    "x = np.linspace(-.1,.1)\n",
    "pdf = scipy.stats.norm.pdf(x,\n",
    "                           0,\n",
    "                           combined_standard_error)\n",
    "plt.plot(x, pdf);\n",
    "ax.axvline(diff_mean, color=\"r\");"
   ]
  },
  {
   "cell_type": "code",
   "execution_count": 35,
   "metadata": {},
   "outputs": [
    {
     "data": {
      "text/plain": [
       "-2.4168378019583567"
      ]
     },
     "execution_count": 35,
     "metadata": {},
     "output_type": "execute_result"
    }
   ],
   "source": [
    "t = diff_mean / combined_standard_error\n",
    "t"
   ]
  },
  {
   "cell_type": "code",
   "execution_count": 36,
   "metadata": {},
   "outputs": [
    {
     "data": {
      "text/plain": [
       "Ttest_indResult(statistic=-2.4168378019583563, pvalue=0.01566048471221509)"
      ]
     },
     "execution_count": 36,
     "metadata": {},
     "output_type": "execute_result"
    }
   ],
   "source": [
    "scipy.stats.ttest_ind(df.loc[df[\"experiment_id\"].eq(101),\"review_score\"],\n",
    "                      df.loc[df[\"experiment_id\"].eq(102),\"review_score\"],\n",
    "                      equal_var=False)"
   ]
  },
  {
   "cell_type": "markdown",
   "metadata": {},
   "source": [
    "### Inference\n",
    "Applying an alpha level of 5%, we reject the null hypothesis that the mean of both samples are equal. Hence, we conclude that the change we introduced has had a statistically significant impact on the average `review_score`. The effect size is estimated to be approximately 0.03, resulting in an increase of average review scores from 4.14 to 4.17.\n",
    "\n",
    "### Interpreting the p-value\n",
    "Given our sample, assuming the null hypothesis, the likelihood of obtaining the difference we observed or more extreme is 0.8%.\n",
    "\n",
    "**Generally**:\n",
    "\n",
    "Given the data, assuming the null hypothesis is true, how likely is it that we obtain the value we observed or more extreme.\n",
    "\n",
    "## Plot convergence"
   ]
  },
  {
   "cell_type": "code",
   "execution_count": 37,
   "metadata": {},
   "outputs": [
    {
     "data": {
      "text/html": [
       "<div>\n",
       "<style scoped>\n",
       "    .dataframe tbody tr th:only-of-type {\n",
       "        vertical-align: middle;\n",
       "    }\n",
       "\n",
       "    .dataframe tbody tr th {\n",
       "        vertical-align: top;\n",
       "    }\n",
       "\n",
       "    .dataframe thead th {\n",
       "        text-align: right;\n",
       "    }\n",
       "</style>\n",
       "<table border=\"1\" class=\"dataframe\">\n",
       "  <thead>\n",
       "    <tr style=\"text-align: right;\">\n",
       "      <th></th>\n",
       "      <th>date_id</th>\n",
       "      <th>experiment_id</th>\n",
       "      <th>order_id</th>\n",
       "      <th>review_score</th>\n",
       "    </tr>\n",
       "  </thead>\n",
       "  <tbody>\n",
       "    <tr>\n",
       "      <th>11044</th>\n",
       "      <td>2018-07-15</td>\n",
       "      <td>101</td>\n",
       "      <td>6aba2d77-ac80-4214-8668-f58314e77895</td>\n",
       "      <td>2</td>\n",
       "    </tr>\n",
       "    <tr>\n",
       "      <th>11045</th>\n",
       "      <td>2018-07-15</td>\n",
       "      <td>101</td>\n",
       "      <td>32c06ad1-4029-4abb-bf6a-5aa86025a56a</td>\n",
       "      <td>5</td>\n",
       "    </tr>\n",
       "    <tr>\n",
       "      <th>11046</th>\n",
       "      <td>2018-07-15</td>\n",
       "      <td>101</td>\n",
       "      <td>04e25dee-c06e-47a7-bcf0-5d8b60c02d27</td>\n",
       "      <td>5</td>\n",
       "    </tr>\n",
       "    <tr>\n",
       "      <th>11047</th>\n",
       "      <td>2018-07-15</td>\n",
       "      <td>101</td>\n",
       "      <td>7807c847-b575-43f3-b462-9a3a540a0f70</td>\n",
       "      <td>3</td>\n",
       "    </tr>\n",
       "    <tr>\n",
       "      <th>11048</th>\n",
       "      <td>2018-07-15</td>\n",
       "      <td>101</td>\n",
       "      <td>6b0cf8a8-9e87-4097-aacd-249587d67f4a</td>\n",
       "      <td>5</td>\n",
       "    </tr>\n",
       "    <tr>\n",
       "      <th>...</th>\n",
       "      <td>...</td>\n",
       "      <td>...</td>\n",
       "      <td>...</td>\n",
       "      <td>...</td>\n",
       "    </tr>\n",
       "    <tr>\n",
       "      <th>50636</th>\n",
       "      <td>2018-09-01</td>\n",
       "      <td>102</td>\n",
       "      <td>4f6b55cb-0514-4f23-9dc8-b44dcf351c23</td>\n",
       "      <td>4</td>\n",
       "    </tr>\n",
       "    <tr>\n",
       "      <th>50637</th>\n",
       "      <td>2018-09-01</td>\n",
       "      <td>102</td>\n",
       "      <td>0e6a93f2-502e-4a10-a358-632755c48f21</td>\n",
       "      <td>4</td>\n",
       "    </tr>\n",
       "    <tr>\n",
       "      <th>50638</th>\n",
       "      <td>2018-09-01</td>\n",
       "      <td>102</td>\n",
       "      <td>8ad8ab40-72ff-4567-9b1c-91438e612785</td>\n",
       "      <td>4</td>\n",
       "    </tr>\n",
       "    <tr>\n",
       "      <th>50639</th>\n",
       "      <td>2018-09-01</td>\n",
       "      <td>102</td>\n",
       "      <td>80d3f60a-b035-4977-b5c5-f97571bdf44a</td>\n",
       "      <td>1</td>\n",
       "    </tr>\n",
       "    <tr>\n",
       "      <th>50640</th>\n",
       "      <td>2018-09-01</td>\n",
       "      <td>102</td>\n",
       "      <td>b3bf38f1-107c-46ca-89df-ac1b039bd7ce</td>\n",
       "      <td>1</td>\n",
       "    </tr>\n",
       "  </tbody>\n",
       "</table>\n",
       "<p>39597 rows × 4 columns</p>\n",
       "</div>"
      ],
      "text/plain": [
       "         date_id  experiment_id                              order_id  \\\n",
       "11044 2018-07-15            101  6aba2d77-ac80-4214-8668-f58314e77895   \n",
       "11045 2018-07-15            101  32c06ad1-4029-4abb-bf6a-5aa86025a56a   \n",
       "11046 2018-07-15            101  04e25dee-c06e-47a7-bcf0-5d8b60c02d27   \n",
       "11047 2018-07-15            101  7807c847-b575-43f3-b462-9a3a540a0f70   \n",
       "11048 2018-07-15            101  6b0cf8a8-9e87-4097-aacd-249587d67f4a   \n",
       "...          ...            ...                                   ...   \n",
       "50636 2018-09-01            102  4f6b55cb-0514-4f23-9dc8-b44dcf351c23   \n",
       "50637 2018-09-01            102  0e6a93f2-502e-4a10-a358-632755c48f21   \n",
       "50638 2018-09-01            102  8ad8ab40-72ff-4567-9b1c-91438e612785   \n",
       "50639 2018-09-01            102  80d3f60a-b035-4977-b5c5-f97571bdf44a   \n",
       "50640 2018-09-01            102  b3bf38f1-107c-46ca-89df-ac1b039bd7ce   \n",
       "\n",
       "       review_score  \n",
       "11044             2  \n",
       "11045             5  \n",
       "11046             5  \n",
       "11047             3  \n",
       "11048             5  \n",
       "...             ...  \n",
       "50636             4  \n",
       "50637             4  \n",
       "50638             4  \n",
       "50639             1  \n",
       "50640             1  \n",
       "\n",
       "[39597 rows x 4 columns]"
      ]
     },
     "execution_count": 37,
     "metadata": {},
     "output_type": "execute_result"
    }
   ],
   "source": [
    "df_exp = df.loc[df[\"date_id\"].ge(\"2018-07-15\")].copy()\n",
    "df_exp"
   ]
  },
  {
   "cell_type": "markdown",
   "metadata": {},
   "source": [
    "Start with first day"
   ]
  },
  {
   "cell_type": "code",
   "execution_count": 38,
   "metadata": {},
   "outputs": [],
   "source": [
    "sample_date = \"2018-07-16\"\n",
    "# for any given date, fetch the rows from df_exp up until that date\n",
    "s_df = df_exp[df_exp[\"date_id\"].le(sample_date)]\n",
    "\n",
    "# compute all required statistics\n",
    "s_stats = s_df.groupby(\"experiment_id\").agg({\"review_score\": [\"mean\", \"var\", \"std\", \"count\"]})\n",
    "s_diff_mean = s_stats.loc[101,\"review_score\"][\"mean\"] - s_stats.loc[102,\"review_score\"][\"mean\"]\n",
    "s_cse = np.sqrt(s_stats.loc[101,\"review_score\"][\"var\"]/s_stats.loc[101,\"review_score\"][\"count\"] + s_stats.loc[102,\"review_score\"][\"var\"]/s_stats.loc[102,\"review_score\"][\"count\"])\n",
    "\n",
    "# run t-test\n",
    "s_test = scipy.stats.ttest_ind(s_df[s_df[\"experiment_id\"].eq(101)][\"review_score\"],\n",
    "                               s_df[s_df[\"experiment_id\"].eq(102)][\"review_score\"],\n",
    "                               equal_var=False)\n",
    "\n",
    "s_t = s_test.statistic\n",
    "s_p = s_test.pvalue\n",
    "\n",
    "row = {\"date_id\": sample_date,\n",
    "       \"diff_mean\": s_diff_mean,\n",
    "       \"se\": s_cse,\n",
    "       \"lc\": s_diff_mean - (1.96 * s_cse),\n",
    "       \"uc\": s_diff_mean + (1.96 * s_cse),\n",
    "       \"t-statistic\": s_t,\n",
    "       \"p-value\": s_p}"
   ]
  },
  {
   "cell_type": "code",
   "execution_count": 39,
   "metadata": {},
   "outputs": [
    {
     "data": {
      "text/html": [
       "<div>\n",
       "<style scoped>\n",
       "    .dataframe tbody tr th:only-of-type {\n",
       "        vertical-align: middle;\n",
       "    }\n",
       "\n",
       "    .dataframe tbody tr th {\n",
       "        vertical-align: top;\n",
       "    }\n",
       "\n",
       "    .dataframe thead th {\n",
       "        text-align: right;\n",
       "    }\n",
       "</style>\n",
       "<table border=\"1\" class=\"dataframe\">\n",
       "  <thead>\n",
       "    <tr style=\"text-align: right;\">\n",
       "      <th></th>\n",
       "      <th>date_id</th>\n",
       "      <th>diff_mean</th>\n",
       "      <th>se</th>\n",
       "      <th>lc</th>\n",
       "      <th>uc</th>\n",
       "      <th>t-statistic</th>\n",
       "      <th>p-value</th>\n",
       "    </tr>\n",
       "  </thead>\n",
       "  <tbody>\n",
       "    <tr>\n",
       "      <th>0</th>\n",
       "      <td>2018-07-16</td>\n",
       "      <td>-0.010778</td>\n",
       "      <td>0.059232</td>\n",
       "      <td>-0.126872</td>\n",
       "      <td>0.105316</td>\n",
       "      <td>-0.181964</td>\n",
       "      <td>0.855632</td>\n",
       "    </tr>\n",
       "  </tbody>\n",
       "</table>\n",
       "</div>"
      ],
      "text/plain": [
       "      date_id  diff_mean        se        lc        uc  t-statistic   p-value\n",
       "0  2018-07-16  -0.010778  0.059232 -0.126872  0.105316    -0.181964  0.855632"
      ]
     },
     "execution_count": 39,
     "metadata": {},
     "output_type": "execute_result"
    }
   ],
   "source": [
    "pd.DataFrame([row])"
   ]
  },
  {
   "cell_type": "code",
   "execution_count": 40,
   "metadata": {},
   "outputs": [],
   "source": [
    "def generate_cum_test_results(df, date):\n",
    "    df_cum = df[df[\"date_id\"].le(date)]\n",
    "    \n",
    "    # compute all required statistics\n",
    "    stats = df_cum.groupby(\"experiment_id\").agg({\"review_score\": [\"mean\", \"var\", \"std\", \"count\"]})\n",
    "    diff_mean = stats.loc[102,\"review_score\"][\"mean\"] - stats.loc[101,\"review_score\"][\"mean\"]\n",
    "    cse = np.sqrt(stats.loc[101,\"review_score\"][\"var\"]/stats.loc[101,\"review_score\"][\"count\"] + stats.loc[102,\"review_score\"][\"var\"]/stats.loc[102,\"review_score\"][\"count\"])\n",
    "    \n",
    "    # run t-test\n",
    "    test = scipy.stats.ttest_ind(df_cum[df_cum[\"experiment_id\"].eq(101)][\"review_score\"],\n",
    "                                 df_cum[df_cum[\"experiment_id\"].eq(102)][\"review_score\"],\n",
    "                                 equal_var=False)\n",
    "    \n",
    "    t = test.statistic\n",
    "    p = test.pvalue\n",
    "    \n",
    "    return {\"date_id\": date,\n",
    "            \"diff_mean\": diff_mean,\n",
    "            \"se\": cse,\n",
    "            \"lc\": diff_mean - (1.96 * cse),\n",
    "            \"uc\": diff_mean + (1.96 * cse),\n",
    "            \"t-statistic\": t,\n",
    "            \"p-value\": p}"
   ]
  },
  {
   "cell_type": "code",
   "execution_count": 41,
   "metadata": {},
   "outputs": [
    {
     "data": {
      "text/html": [
       "<div>\n",
       "<style scoped>\n",
       "    .dataframe tbody tr th:only-of-type {\n",
       "        vertical-align: middle;\n",
       "    }\n",
       "\n",
       "    .dataframe tbody tr th {\n",
       "        vertical-align: top;\n",
       "    }\n",
       "\n",
       "    .dataframe thead th {\n",
       "        text-align: right;\n",
       "    }\n",
       "</style>\n",
       "<table border=\"1\" class=\"dataframe\">\n",
       "  <thead>\n",
       "    <tr style=\"text-align: right;\">\n",
       "      <th></th>\n",
       "      <th>date_id</th>\n",
       "      <th>diff_mean</th>\n",
       "      <th>se</th>\n",
       "      <th>lc</th>\n",
       "      <th>uc</th>\n",
       "      <th>t-statistic</th>\n",
       "      <th>p-value</th>\n",
       "    </tr>\n",
       "  </thead>\n",
       "  <tbody>\n",
       "    <tr>\n",
       "      <th>0</th>\n",
       "      <td>2018-07-16</td>\n",
       "      <td>0.010778</td>\n",
       "      <td>0.059232</td>\n",
       "      <td>-0.105316</td>\n",
       "      <td>0.126872</td>\n",
       "      <td>-0.181964</td>\n",
       "      <td>0.855632</td>\n",
       "    </tr>\n",
       "  </tbody>\n",
       "</table>\n",
       "</div>"
      ],
      "text/plain": [
       "      date_id  diff_mean        se        lc        uc  t-statistic   p-value\n",
       "0  2018-07-16   0.010778  0.059232 -0.105316  0.126872    -0.181964  0.855632"
      ]
     },
     "execution_count": 41,
     "metadata": {},
     "output_type": "execute_result"
    }
   ],
   "source": [
    "pd.DataFrame([generate_cum_test_results(df_exp, sample_date)])"
   ]
  },
  {
   "cell_type": "code",
   "execution_count": 42,
   "metadata": {},
   "outputs": [
    {
     "data": {
      "text/plain": [
       "DatetimeIndex(['2018-07-15', '2018-07-16', '2018-07-17', '2018-07-18',\n",
       "               '2018-07-19', '2018-07-20', '2018-07-21', '2018-07-22',\n",
       "               '2018-07-23', '2018-07-24', '2018-07-25', '2018-07-26',\n",
       "               '2018-07-27', '2018-07-28', '2018-07-29', '2018-07-30',\n",
       "               '2018-07-31', '2018-08-01', '2018-08-02', '2018-08-03',\n",
       "               '2018-08-04', '2018-08-05', '2018-08-06', '2018-08-07',\n",
       "               '2018-08-08', '2018-08-09', '2018-08-10', '2018-08-11',\n",
       "               '2018-08-12', '2018-08-13', '2018-08-14', '2018-08-15',\n",
       "               '2018-08-16', '2018-08-17', '2018-08-18', '2018-08-19',\n",
       "               '2018-08-20', '2018-08-21', '2018-08-22', '2018-08-23',\n",
       "               '2018-08-24', '2018-08-25', '2018-08-26', '2018-08-27',\n",
       "               '2018-08-28', '2018-08-29', '2018-08-30', '2018-08-31',\n",
       "               '2018-09-01'],\n",
       "              dtype='datetime64[ns]', freq='D')"
      ]
     },
     "execution_count": 42,
     "metadata": {},
     "output_type": "execute_result"
    }
   ],
   "source": [
    "pd.date_range(start=\"2018-07-15\", end=\"2018-09-01\")"
   ]
  },
  {
   "cell_type": "code",
   "execution_count": 43,
   "metadata": {},
   "outputs": [],
   "source": [
    "df_cum_exp = pd.DataFrame([generate_cum_test_results(df_exp, date) for date in pd.date_range(start=\"2018-07-15\", end=\"2018-09-01\")])"
   ]
  },
  {
   "cell_type": "code",
   "execution_count": 44,
   "metadata": {},
   "outputs": [
    {
     "data": {
      "text/html": [
       "<div>\n",
       "<style scoped>\n",
       "    .dataframe tbody tr th:only-of-type {\n",
       "        vertical-align: middle;\n",
       "    }\n",
       "\n",
       "    .dataframe tbody tr th {\n",
       "        vertical-align: top;\n",
       "    }\n",
       "\n",
       "    .dataframe thead th {\n",
       "        text-align: right;\n",
       "    }\n",
       "</style>\n",
       "<table border=\"1\" class=\"dataframe\">\n",
       "  <thead>\n",
       "    <tr style=\"text-align: right;\">\n",
       "      <th></th>\n",
       "      <th>date_id</th>\n",
       "      <th>diff_mean</th>\n",
       "      <th>se</th>\n",
       "      <th>lc</th>\n",
       "      <th>uc</th>\n",
       "      <th>t-statistic</th>\n",
       "      <th>p-value</th>\n",
       "    </tr>\n",
       "  </thead>\n",
       "  <tbody>\n",
       "    <tr>\n",
       "      <th>0</th>\n",
       "      <td>2018-07-15</td>\n",
       "      <td>0.097950</td>\n",
       "      <td>0.084928</td>\n",
       "      <td>-0.068509</td>\n",
       "      <td>0.264409</td>\n",
       "      <td>-1.153327</td>\n",
       "      <td>0.249097</td>\n",
       "    </tr>\n",
       "    <tr>\n",
       "      <th>1</th>\n",
       "      <td>2018-07-16</td>\n",
       "      <td>0.010778</td>\n",
       "      <td>0.059232</td>\n",
       "      <td>-0.105316</td>\n",
       "      <td>0.126872</td>\n",
       "      <td>-0.181964</td>\n",
       "      <td>0.855632</td>\n",
       "    </tr>\n",
       "    <tr>\n",
       "      <th>2</th>\n",
       "      <td>2018-07-17</td>\n",
       "      <td>0.049865</td>\n",
       "      <td>0.050535</td>\n",
       "      <td>-0.049184</td>\n",
       "      <td>0.148913</td>\n",
       "      <td>-0.986740</td>\n",
       "      <td>0.323865</td>\n",
       "    </tr>\n",
       "    <tr>\n",
       "      <th>3</th>\n",
       "      <td>2018-07-18</td>\n",
       "      <td>0.037196</td>\n",
       "      <td>0.044583</td>\n",
       "      <td>-0.050186</td>\n",
       "      <td>0.124578</td>\n",
       "      <td>-0.834319</td>\n",
       "      <td>0.404162</td>\n",
       "    </tr>\n",
       "    <tr>\n",
       "      <th>4</th>\n",
       "      <td>2018-07-19</td>\n",
       "      <td>0.026840</td>\n",
       "      <td>0.039578</td>\n",
       "      <td>-0.050733</td>\n",
       "      <td>0.104412</td>\n",
       "      <td>-0.678153</td>\n",
       "      <td>0.497713</td>\n",
       "    </tr>\n",
       "  </tbody>\n",
       "</table>\n",
       "</div>"
      ],
      "text/plain": [
       "     date_id  diff_mean        se        lc        uc  t-statistic   p-value\n",
       "0 2018-07-15   0.097950  0.084928 -0.068509  0.264409    -1.153327  0.249097\n",
       "1 2018-07-16   0.010778  0.059232 -0.105316  0.126872    -0.181964  0.855632\n",
       "2 2018-07-17   0.049865  0.050535 -0.049184  0.148913    -0.986740  0.323865\n",
       "3 2018-07-18   0.037196  0.044583 -0.050186  0.124578    -0.834319  0.404162\n",
       "4 2018-07-19   0.026840  0.039578 -0.050733  0.104412    -0.678153  0.497713"
      ]
     },
     "execution_count": 44,
     "metadata": {},
     "output_type": "execute_result"
    }
   ],
   "source": [
    "df_cum_exp.head()"
   ]
  },
  {
   "cell_type": "code",
   "execution_count": 66,
   "metadata": {},
   "outputs": [
    {
     "data": {
      "image/png": "[encoded data removed]",
      "text/plain": [
       "<Figure size 1152x720 with 1 Axes>"
      ]
     },
     "metadata": {},
     "output_type": "display_data"
    }
   ],
   "source": [
    "fig, ax = plt.subplots(figsize=(16,10))\n",
    "\n",
    "sns.lineplot(data=df_cum_exp,\n",
    "             x=\"date_id\",\n",
    "             y=\"diff_mean\",\n",
    "             ax=ax);\n",
    "ax.set_title(\"Convergence of t-test\");\n",
    "ax.axhline(0, color=\"r\");\n",
    "ax.fill_between(x=df_cum_exp[\"date_id\"], \n",
    "                y1=df_cum_exp[\"lc\"], \n",
    "                y2=df_cum_exp[\"uc\"],\n",
    "                alpha=0.2);\n",
    "\n",
    "df_sig = df_cum_exp.assign(sig=df_cum_exp[\"p-value\"].le(.05).astype(int))\n",
    "df_sig = df_sig[df_sig[\"sig\"].eq(1)]\n",
    "df_sig = df_sig.assign(shifted_date=df_sig[\"date_id\"].shift(1))\n",
    "df_sig = df_sig.assign(new_range_ind=(~df_sig[\"date_id\"].eq(df_sig[\"shifted_date\"] + np.timedelta64(1,\"D\"))).astype(int))\n",
    "df_sig = (df_sig\n",
    "          .assign(range_id=df_sig[\"new_range_ind\"].cumsum())\n",
    "          .drop(columns=[\"sig\",\n",
    "                         \"shifted_date\",\n",
    "                         \"new_range_ind\"]))\n",
    "for start_date, end_date in df_sig.groupby(\"range_id\").agg({\"date_id\": [\"min\", \"max\"]}).values:\n",
    "    ax.axvspan(start_date,\n",
    "               end_date,\n",
    "               color=\"g\",\n",
    "               alpha=0.1);"
   ]
  },
  {
   "cell_type": "code",
   "execution_count": 67,
   "metadata": {},
   "outputs": [
    {
     "data": {
      "text/html": [
       "<div>\n",
       "<style scoped>\n",
       "    .dataframe tbody tr th:only-of-type {\n",
       "        vertical-align: middle;\n",
       "    }\n",
       "\n",
       "    .dataframe tbody tr th {\n",
       "        vertical-align: top;\n",
       "    }\n",
       "\n",
       "    .dataframe thead th {\n",
       "        text-align: right;\n",
       "    }\n",
       "</style>\n",
       "<table border=\"1\" class=\"dataframe\">\n",
       "  <thead>\n",
       "    <tr style=\"text-align: right;\">\n",
       "      <th></th>\n",
       "      <th>date_id</th>\n",
       "      <th>diff_mean</th>\n",
       "      <th>se</th>\n",
       "      <th>lc</th>\n",
       "      <th>uc</th>\n",
       "      <th>t-statistic</th>\n",
       "      <th>p-value</th>\n",
       "    </tr>\n",
       "  </thead>\n",
       "  <tbody>\n",
       "    <tr>\n",
       "      <th>0</th>\n",
       "      <td>2018-07-15</td>\n",
       "      <td>0.097950</td>\n",
       "      <td>0.084928</td>\n",
       "      <td>-0.068509</td>\n",
       "      <td>0.264409</td>\n",
       "      <td>-1.153327</td>\n",
       "      <td>0.249097</td>\n",
       "    </tr>\n",
       "    <tr>\n",
       "      <th>1</th>\n",
       "      <td>2018-07-16</td>\n",
       "      <td>0.010778</td>\n",
       "      <td>0.059232</td>\n",
       "      <td>-0.105316</td>\n",
       "      <td>0.126872</td>\n",
       "      <td>-0.181964</td>\n",
       "      <td>0.855632</td>\n",
       "    </tr>\n",
       "    <tr>\n",
       "      <th>2</th>\n",
       "      <td>2018-07-17</td>\n",
       "      <td>0.049865</td>\n",
       "      <td>0.050535</td>\n",
       "      <td>-0.049184</td>\n",
       "      <td>0.148913</td>\n",
       "      <td>-0.986740</td>\n",
       "      <td>0.323865</td>\n",
       "    </tr>\n",
       "    <tr>\n",
       "      <th>3</th>\n",
       "      <td>2018-07-18</td>\n",
       "      <td>0.037196</td>\n",
       "      <td>0.044583</td>\n",
       "      <td>-0.050186</td>\n",
       "      <td>0.124578</td>\n",
       "      <td>-0.834319</td>\n",
       "      <td>0.404162</td>\n",
       "    </tr>\n",
       "    <tr>\n",
       "      <th>4</th>\n",
       "      <td>2018-07-19</td>\n",
       "      <td>0.026840</td>\n",
       "      <td>0.039578</td>\n",
       "      <td>-0.050733</td>\n",
       "      <td>0.104412</td>\n",
       "      <td>-0.678153</td>\n",
       "      <td>0.497713</td>\n",
       "    </tr>\n",
       "    <tr>\n",
       "      <th>5</th>\n",
       "      <td>2018-07-20</td>\n",
       "      <td>0.050397</td>\n",
       "      <td>0.036563</td>\n",
       "      <td>-0.021265</td>\n",
       "      <td>0.122060</td>\n",
       "      <td>-1.378381</td>\n",
       "      <td>0.168149</td>\n",
       "    </tr>\n",
       "    <tr>\n",
       "      <th>6</th>\n",
       "      <td>2018-07-21</td>\n",
       "      <td>0.068419</td>\n",
       "      <td>0.033881</td>\n",
       "      <td>0.002013</td>\n",
       "      <td>0.134825</td>\n",
       "      <td>-2.019415</td>\n",
       "      <td>0.043491</td>\n",
       "    </tr>\n",
       "    <tr>\n",
       "      <th>7</th>\n",
       "      <td>2018-07-22</td>\n",
       "      <td>0.064776</td>\n",
       "      <td>0.031558</td>\n",
       "      <td>0.002923</td>\n",
       "      <td>0.126630</td>\n",
       "      <td>-2.052628</td>\n",
       "      <td>0.040149</td>\n",
       "    </tr>\n",
       "    <tr>\n",
       "      <th>8</th>\n",
       "      <td>2018-07-23</td>\n",
       "      <td>0.053057</td>\n",
       "      <td>0.029972</td>\n",
       "      <td>-0.005687</td>\n",
       "      <td>0.111802</td>\n",
       "      <td>-1.770239</td>\n",
       "      <td>0.076729</td>\n",
       "    </tr>\n",
       "    <tr>\n",
       "      <th>9</th>\n",
       "      <td>2018-07-24</td>\n",
       "      <td>0.041658</td>\n",
       "      <td>0.028346</td>\n",
       "      <td>-0.013900</td>\n",
       "      <td>0.097217</td>\n",
       "      <td>-1.469618</td>\n",
       "      <td>0.141704</td>\n",
       "    </tr>\n",
       "    <tr>\n",
       "      <th>10</th>\n",
       "      <td>2018-07-25</td>\n",
       "      <td>0.057093</td>\n",
       "      <td>0.027006</td>\n",
       "      <td>0.004162</td>\n",
       "      <td>0.110025</td>\n",
       "      <td>-2.114099</td>\n",
       "      <td>0.034535</td>\n",
       "    </tr>\n",
       "    <tr>\n",
       "      <th>11</th>\n",
       "      <td>2018-07-26</td>\n",
       "      <td>0.063383</td>\n",
       "      <td>0.025898</td>\n",
       "      <td>0.012623</td>\n",
       "      <td>0.114143</td>\n",
       "      <td>-2.447424</td>\n",
       "      <td>0.014406</td>\n",
       "    </tr>\n",
       "    <tr>\n",
       "      <th>12</th>\n",
       "      <td>2018-07-27</td>\n",
       "      <td>0.055376</td>\n",
       "      <td>0.024954</td>\n",
       "      <td>0.006466</td>\n",
       "      <td>0.104286</td>\n",
       "      <td>-2.219112</td>\n",
       "      <td>0.026500</td>\n",
       "    </tr>\n",
       "    <tr>\n",
       "      <th>13</th>\n",
       "      <td>2018-07-28</td>\n",
       "      <td>0.054502</td>\n",
       "      <td>0.024108</td>\n",
       "      <td>0.007251</td>\n",
       "      <td>0.101754</td>\n",
       "      <td>-2.260752</td>\n",
       "      <td>0.023794</td>\n",
       "    </tr>\n",
       "    <tr>\n",
       "      <th>14</th>\n",
       "      <td>2018-07-29</td>\n",
       "      <td>0.045180</td>\n",
       "      <td>0.023214</td>\n",
       "      <td>-0.000320</td>\n",
       "      <td>0.090679</td>\n",
       "      <td>-1.946205</td>\n",
       "      <td>0.051653</td>\n",
       "    </tr>\n",
       "    <tr>\n",
       "      <th>15</th>\n",
       "      <td>2018-07-30</td>\n",
       "      <td>0.041686</td>\n",
       "      <td>0.022460</td>\n",
       "      <td>-0.002336</td>\n",
       "      <td>0.085708</td>\n",
       "      <td>-1.855974</td>\n",
       "      <td>0.063480</td>\n",
       "    </tr>\n",
       "    <tr>\n",
       "      <th>16</th>\n",
       "      <td>2018-07-31</td>\n",
       "      <td>0.042744</td>\n",
       "      <td>0.021732</td>\n",
       "      <td>0.000149</td>\n",
       "      <td>0.085338</td>\n",
       "      <td>-1.966867</td>\n",
       "      <td>0.049219</td>\n",
       "    </tr>\n",
       "    <tr>\n",
       "      <th>17</th>\n",
       "      <td>2018-08-01</td>\n",
       "      <td>0.043217</td>\n",
       "      <td>0.021107</td>\n",
       "      <td>0.001847</td>\n",
       "      <td>0.084587</td>\n",
       "      <td>-2.047508</td>\n",
       "      <td>0.040626</td>\n",
       "    </tr>\n",
       "    <tr>\n",
       "      <th>18</th>\n",
       "      <td>2018-08-02</td>\n",
       "      <td>0.039852</td>\n",
       "      <td>0.020517</td>\n",
       "      <td>-0.000363</td>\n",
       "      <td>0.080066</td>\n",
       "      <td>-1.942326</td>\n",
       "      <td>0.052116</td>\n",
       "    </tr>\n",
       "    <tr>\n",
       "      <th>19</th>\n",
       "      <td>2018-08-03</td>\n",
       "      <td>0.047611</td>\n",
       "      <td>0.019983</td>\n",
       "      <td>0.008445</td>\n",
       "      <td>0.086778</td>\n",
       "      <td>-2.382582</td>\n",
       "      <td>0.017203</td>\n",
       "    </tr>\n",
       "    <tr>\n",
       "      <th>20</th>\n",
       "      <td>2018-08-04</td>\n",
       "      <td>0.042362</td>\n",
       "      <td>0.019518</td>\n",
       "      <td>0.004107</td>\n",
       "      <td>0.080617</td>\n",
       "      <td>-2.170446</td>\n",
       "      <td>0.029987</td>\n",
       "    </tr>\n",
       "    <tr>\n",
       "      <th>21</th>\n",
       "      <td>2018-08-05</td>\n",
       "      <td>0.044067</td>\n",
       "      <td>0.019088</td>\n",
       "      <td>0.006653</td>\n",
       "      <td>0.081480</td>\n",
       "      <td>-2.308555</td>\n",
       "      <td>0.020980</td>\n",
       "    </tr>\n",
       "    <tr>\n",
       "      <th>22</th>\n",
       "      <td>2018-08-06</td>\n",
       "      <td>0.040457</td>\n",
       "      <td>0.018673</td>\n",
       "      <td>0.003857</td>\n",
       "      <td>0.077057</td>\n",
       "      <td>-2.166559</td>\n",
       "      <td>0.030281</td>\n",
       "    </tr>\n",
       "    <tr>\n",
       "      <th>23</th>\n",
       "      <td>2018-08-07</td>\n",
       "      <td>0.039753</td>\n",
       "      <td>0.018276</td>\n",
       "      <td>0.003933</td>\n",
       "      <td>0.075573</td>\n",
       "      <td>-2.175187</td>\n",
       "      <td>0.029628</td>\n",
       "    </tr>\n",
       "    <tr>\n",
       "      <th>24</th>\n",
       "      <td>2018-08-08</td>\n",
       "      <td>0.035307</td>\n",
       "      <td>0.017919</td>\n",
       "      <td>0.000185</td>\n",
       "      <td>0.070429</td>\n",
       "      <td>-1.970320</td>\n",
       "      <td>0.048815</td>\n",
       "    </tr>\n",
       "    <tr>\n",
       "      <th>25</th>\n",
       "      <td>2018-08-09</td>\n",
       "      <td>0.039967</td>\n",
       "      <td>0.017564</td>\n",
       "      <td>0.005542</td>\n",
       "      <td>0.074392</td>\n",
       "      <td>-2.275511</td>\n",
       "      <td>0.022885</td>\n",
       "    </tr>\n",
       "    <tr>\n",
       "      <th>26</th>\n",
       "      <td>2018-08-10</td>\n",
       "      <td>0.044788</td>\n",
       "      <td>0.017213</td>\n",
       "      <td>0.011051</td>\n",
       "      <td>0.078525</td>\n",
       "      <td>-2.602049</td>\n",
       "      <td>0.009273</td>\n",
       "    </tr>\n",
       "    <tr>\n",
       "      <th>27</th>\n",
       "      <td>2018-08-11</td>\n",
       "      <td>0.041430</td>\n",
       "      <td>0.016879</td>\n",
       "      <td>0.008346</td>\n",
       "      <td>0.074513</td>\n",
       "      <td>-2.454439</td>\n",
       "      <td>0.014118</td>\n",
       "    </tr>\n",
       "    <tr>\n",
       "      <th>28</th>\n",
       "      <td>2018-08-12</td>\n",
       "      <td>0.050152</td>\n",
       "      <td>0.016581</td>\n",
       "      <td>0.017654</td>\n",
       "      <td>0.082651</td>\n",
       "      <td>-3.024691</td>\n",
       "      <td>0.002492</td>\n",
       "    </tr>\n",
       "    <tr>\n",
       "      <th>29</th>\n",
       "      <td>2018-08-13</td>\n",
       "      <td>0.046700</td>\n",
       "      <td>0.016321</td>\n",
       "      <td>0.014711</td>\n",
       "      <td>0.078689</td>\n",
       "      <td>-2.861336</td>\n",
       "      <td>0.004222</td>\n",
       "    </tr>\n",
       "    <tr>\n",
       "      <th>30</th>\n",
       "      <td>2018-08-14</td>\n",
       "      <td>0.042520</td>\n",
       "      <td>0.016027</td>\n",
       "      <td>0.011108</td>\n",
       "      <td>0.073932</td>\n",
       "      <td>-2.653119</td>\n",
       "      <td>0.007980</td>\n",
       "    </tr>\n",
       "    <tr>\n",
       "      <th>31</th>\n",
       "      <td>2018-08-15</td>\n",
       "      <td>0.041930</td>\n",
       "      <td>0.015753</td>\n",
       "      <td>0.011054</td>\n",
       "      <td>0.072806</td>\n",
       "      <td>-2.661674</td>\n",
       "      <td>0.007780</td>\n",
       "    </tr>\n",
       "    <tr>\n",
       "      <th>32</th>\n",
       "      <td>2018-08-16</td>\n",
       "      <td>0.042155</td>\n",
       "      <td>0.015538</td>\n",
       "      <td>0.011702</td>\n",
       "      <td>0.072609</td>\n",
       "      <td>-2.713114</td>\n",
       "      <td>0.006670</td>\n",
       "    </tr>\n",
       "    <tr>\n",
       "      <th>33</th>\n",
       "      <td>2018-08-17</td>\n",
       "      <td>0.044008</td>\n",
       "      <td>0.015356</td>\n",
       "      <td>0.013911</td>\n",
       "      <td>0.074105</td>\n",
       "      <td>-2.865927</td>\n",
       "      <td>0.004161</td>\n",
       "    </tr>\n",
       "    <tr>\n",
       "      <th>34</th>\n",
       "      <td>2018-08-18</td>\n",
       "      <td>0.042841</td>\n",
       "      <td>0.015160</td>\n",
       "      <td>0.013128</td>\n",
       "      <td>0.072555</td>\n",
       "      <td>-2.825936</td>\n",
       "      <td>0.004718</td>\n",
       "    </tr>\n",
       "    <tr>\n",
       "      <th>35</th>\n",
       "      <td>2018-08-19</td>\n",
       "      <td>0.040465</td>\n",
       "      <td>0.014948</td>\n",
       "      <td>0.011167</td>\n",
       "      <td>0.069763</td>\n",
       "      <td>-2.707089</td>\n",
       "      <td>0.006792</td>\n",
       "    </tr>\n",
       "    <tr>\n",
       "      <th>36</th>\n",
       "      <td>2018-08-20</td>\n",
       "      <td>0.038102</td>\n",
       "      <td>0.014721</td>\n",
       "      <td>0.009248</td>\n",
       "      <td>0.066956</td>\n",
       "      <td>-2.588234</td>\n",
       "      <td>0.009652</td>\n",
       "    </tr>\n",
       "    <tr>\n",
       "      <th>37</th>\n",
       "      <td>2018-08-21</td>\n",
       "      <td>0.036160</td>\n",
       "      <td>0.014495</td>\n",
       "      <td>0.007750</td>\n",
       "      <td>0.064571</td>\n",
       "      <td>-2.494646</td>\n",
       "      <td>0.012613</td>\n",
       "    </tr>\n",
       "    <tr>\n",
       "      <th>38</th>\n",
       "      <td>2018-08-22</td>\n",
       "      <td>0.034315</td>\n",
       "      <td>0.014314</td>\n",
       "      <td>0.006261</td>\n",
       "      <td>0.062370</td>\n",
       "      <td>-2.397413</td>\n",
       "      <td>0.016517</td>\n",
       "    </tr>\n",
       "    <tr>\n",
       "      <th>39</th>\n",
       "      <td>2018-08-23</td>\n",
       "      <td>0.035060</td>\n",
       "      <td>0.014123</td>\n",
       "      <td>0.007378</td>\n",
       "      <td>0.062741</td>\n",
       "      <td>-2.482440</td>\n",
       "      <td>0.013054</td>\n",
       "    </tr>\n",
       "    <tr>\n",
       "      <th>40</th>\n",
       "      <td>2018-08-24</td>\n",
       "      <td>0.034389</td>\n",
       "      <td>0.013956</td>\n",
       "      <td>0.007035</td>\n",
       "      <td>0.061743</td>\n",
       "      <td>-2.464063</td>\n",
       "      <td>0.013742</td>\n",
       "    </tr>\n",
       "    <tr>\n",
       "      <th>41</th>\n",
       "      <td>2018-08-25</td>\n",
       "      <td>0.031064</td>\n",
       "      <td>0.013804</td>\n",
       "      <td>0.004008</td>\n",
       "      <td>0.058121</td>\n",
       "      <td>-2.250361</td>\n",
       "      <td>0.024432</td>\n",
       "    </tr>\n",
       "    <tr>\n",
       "      <th>42</th>\n",
       "      <td>2018-08-26</td>\n",
       "      <td>0.031326</td>\n",
       "      <td>0.013651</td>\n",
       "      <td>0.004570</td>\n",
       "      <td>0.058083</td>\n",
       "      <td>-2.294790</td>\n",
       "      <td>0.021751</td>\n",
       "    </tr>\n",
       "    <tr>\n",
       "      <th>43</th>\n",
       "      <td>2018-08-27</td>\n",
       "      <td>0.031989</td>\n",
       "      <td>0.013509</td>\n",
       "      <td>0.005511</td>\n",
       "      <td>0.058468</td>\n",
       "      <td>-2.367908</td>\n",
       "      <td>0.017894</td>\n",
       "    </tr>\n",
       "    <tr>\n",
       "      <th>44</th>\n",
       "      <td>2018-08-28</td>\n",
       "      <td>0.027469</td>\n",
       "      <td>0.013355</td>\n",
       "      <td>0.001292</td>\n",
       "      <td>0.053646</td>\n",
       "      <td>-2.056770</td>\n",
       "      <td>0.039716</td>\n",
       "    </tr>\n",
       "    <tr>\n",
       "      <th>45</th>\n",
       "      <td>2018-08-29</td>\n",
       "      <td>0.030388</td>\n",
       "      <td>0.013230</td>\n",
       "      <td>0.004458</td>\n",
       "      <td>0.056318</td>\n",
       "      <td>-2.296984</td>\n",
       "      <td>0.021625</td>\n",
       "    </tr>\n",
       "    <tr>\n",
       "      <th>46</th>\n",
       "      <td>2018-08-30</td>\n",
       "      <td>0.028174</td>\n",
       "      <td>0.013081</td>\n",
       "      <td>0.002536</td>\n",
       "      <td>0.053812</td>\n",
       "      <td>-2.153870</td>\n",
       "      <td>0.031257</td>\n",
       "    </tr>\n",
       "    <tr>\n",
       "      <th>47</th>\n",
       "      <td>2018-08-31</td>\n",
       "      <td>0.027494</td>\n",
       "      <td>0.012940</td>\n",
       "      <td>0.002132</td>\n",
       "      <td>0.052856</td>\n",
       "      <td>-2.124757</td>\n",
       "      <td>0.033613</td>\n",
       "    </tr>\n",
       "    <tr>\n",
       "      <th>48</th>\n",
       "      <td>2018-09-01</td>\n",
       "      <td>0.030924</td>\n",
       "      <td>0.012795</td>\n",
       "      <td>0.005845</td>\n",
       "      <td>0.056003</td>\n",
       "      <td>-2.416838</td>\n",
       "      <td>0.015660</td>\n",
       "    </tr>\n",
       "  </tbody>\n",
       "</table>\n",
       "</div>"
      ],
      "text/plain": [
       "      date_id  diff_mean        se        lc        uc  t-statistic   p-value\n",
       "0  2018-07-15   0.097950  0.084928 -0.068509  0.264409    -1.153327  0.249097\n",
       "1  2018-07-16   0.010778  0.059232 -0.105316  0.126872    -0.181964  0.855632\n",
       "2  2018-07-17   0.049865  0.050535 -0.049184  0.148913    -0.986740  0.323865\n",
       "3  2018-07-18   0.037196  0.044583 -0.050186  0.124578    -0.834319  0.404162\n",
       "4  2018-07-19   0.026840  0.039578 -0.050733  0.104412    -0.678153  0.497713\n",
       "5  2018-07-20   0.050397  0.036563 -0.021265  0.122060    -1.378381  0.168149\n",
       "6  2018-07-21   0.068419  0.033881  0.002013  0.134825    -2.019415  0.043491\n",
       "7  2018-07-22   0.064776  0.031558  0.002923  0.126630    -2.052628  0.040149\n",
       "8  2018-07-23   0.053057  0.029972 -0.005687  0.111802    -1.770239  0.076729\n",
       "9  2018-07-24   0.041658  0.028346 -0.013900  0.097217    -1.469618  0.141704\n",
       "10 2018-07-25   0.057093  0.027006  0.004162  0.110025    -2.114099  0.034535\n",
       "11 2018-07-26   0.063383  0.025898  0.012623  0.114143    -2.447424  0.014406\n",
       "12 2018-07-27   0.055376  0.024954  0.006466  0.104286    -2.219112  0.026500\n",
       "13 2018-07-28   0.054502  0.024108  0.007251  0.101754    -2.260752  0.023794\n",
       "14 2018-07-29   0.045180  0.023214 -0.000320  0.090679    -1.946205  0.051653\n",
       "15 2018-07-30   0.041686  0.022460 -0.002336  0.085708    -1.855974  0.063480\n",
       "16 2018-07-31   0.042744  0.021732  0.000149  0.085338    -1.966867  0.049219\n",
       "17 2018-08-01   0.043217  0.021107  0.001847  0.084587    -2.047508  0.040626\n",
       "18 2018-08-02   0.039852  0.020517 -0.000363  0.080066    -1.942326  0.052116\n",
       "19 2018-08-03   0.047611  0.019983  0.008445  0.086778    -2.382582  0.017203\n",
       "20 2018-08-04   0.042362  0.019518  0.004107  0.080617    -2.170446  0.029987\n",
       "21 2018-08-05   0.044067  0.019088  0.006653  0.081480    -2.308555  0.020980\n",
       "22 2018-08-06   0.040457  0.018673  0.003857  0.077057    -2.166559  0.030281\n",
       "23 2018-08-07   0.039753  0.018276  0.003933  0.075573    -2.175187  0.029628\n",
       "24 2018-08-08   0.035307  0.017919  0.000185  0.070429    -1.970320  0.048815\n",
       "25 2018-08-09   0.039967  0.017564  0.005542  0.074392    -2.275511  0.022885\n",
       "26 2018-08-10   0.044788  0.017213  0.011051  0.078525    -2.602049  0.009273\n",
       "27 2018-08-11   0.041430  0.016879  0.008346  0.074513    -2.454439  0.014118\n",
       "28 2018-08-12   0.050152  0.016581  0.017654  0.082651    -3.024691  0.002492\n",
       "29 2018-08-13   0.046700  0.016321  0.014711  0.078689    -2.861336  0.004222\n",
       "30 2018-08-14   0.042520  0.016027  0.011108  0.073932    -2.653119  0.007980\n",
       "31 2018-08-15   0.041930  0.015753  0.011054  0.072806    -2.661674  0.007780\n",
       "32 2018-08-16   0.042155  0.015538  0.011702  0.072609    -2.713114  0.006670\n",
       "33 2018-08-17   0.044008  0.015356  0.013911  0.074105    -2.865927  0.004161\n",
       "34 2018-08-18   0.042841  0.015160  0.013128  0.072555    -2.825936  0.004718\n",
       "35 2018-08-19   0.040465  0.014948  0.011167  0.069763    -2.707089  0.006792\n",
       "36 2018-08-20   0.038102  0.014721  0.009248  0.066956    -2.588234  0.009652\n",
       "37 2018-08-21   0.036160  0.014495  0.007750  0.064571    -2.494646  0.012613\n",
       "38 2018-08-22   0.034315  0.014314  0.006261  0.062370    -2.397413  0.016517\n",
       "39 2018-08-23   0.035060  0.014123  0.007378  0.062741    -2.482440  0.013054\n",
       "40 2018-08-24   0.034389  0.013956  0.007035  0.061743    -2.464063  0.013742\n",
       "41 2018-08-25   0.031064  0.013804  0.004008  0.058121    -2.250361  0.024432\n",
       "42 2018-08-26   0.031326  0.013651  0.004570  0.058083    -2.294790  0.021751\n",
       "43 2018-08-27   0.031989  0.013509  0.005511  0.058468    -2.367908  0.017894\n",
       "44 2018-08-28   0.027469  0.013355  0.001292  0.053646    -2.056770  0.039716\n",
       "45 2018-08-29   0.030388  0.013230  0.004458  0.056318    -2.296984  0.021625\n",
       "46 2018-08-30   0.028174  0.013081  0.002536  0.053812    -2.153870  0.031257\n",
       "47 2018-08-31   0.027494  0.012940  0.002132  0.052856    -2.124757  0.033613\n",
       "48 2018-09-01   0.030924  0.012795  0.005845  0.056003    -2.416838  0.015660"
      ]
     },
     "execution_count": 67,
     "metadata": {},
     "output_type": "execute_result"
    }
   ],
   "source": [
    "df_cum_exp"
   ]
  },
  {
   "cell_type": "code",
   "execution_count": 71,
   "metadata": {},
   "outputs": [
    {
     "data": {
      "text/plain": [
       "11044          NaT\n",
       "11045          NaT\n",
       "11046          NaT\n",
       "11047          NaT\n",
       "11048          NaT\n",
       "           ...    \n",
       "50636   2018-09-01\n",
       "50637   2018-09-01\n",
       "50638   2018-09-01\n",
       "50639   2018-09-01\n",
       "50640   2018-09-01\n",
       "Name: date_id, Length: 39597, dtype: datetime64[ns]"
      ]
     },
     "execution_count": 71,
     "metadata": {},
     "output_type": "execute_result"
    }
   ],
   "source": [
    "df[\"date_id\"].shift(10)"
   ]
  }
 ],
 "metadata": {
  "kernelspec": {
   "display_name": "Python 3",
   "language": "python",
   "name": "python3"
  },
  "language_info": {
   "codemirror_mode": {
    "name": "ipython",
    "version": 3
   },
   "file_extension": ".py",
   "mimetype": "text/x-python",
   "name": "python",
   "nbconvert_exporter": "python",
   "pygments_lexer": "ipython3",
   "version": "3.7.5"
  }
 },
 "nbformat": 4,
 "nbformat_minor": 2
}
