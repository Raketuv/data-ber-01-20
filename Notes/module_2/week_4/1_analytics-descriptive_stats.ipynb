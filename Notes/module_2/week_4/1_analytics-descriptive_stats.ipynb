{
 "cells": [
  {
   "cell_type": "code",
   "execution_count": 53,
   "metadata": {},
   "outputs": [],
   "source": [
    "import pandas as pd\n",
    "import numpy as np\n",
    "import pymysql\n",
    "import getpass\n",
    "import matplotlib\n",
    "import matplotlib.pyplot as plt\n",
    "%matplotlib inline"
   ]
  },
  {
   "cell_type": "code",
   "execution_count": 3,
   "metadata": {},
   "outputs": [
    {
     "name": "stdout",
     "output_type": "stream",
     "text": [
      "········\n"
     ]
    }
   ],
   "source": [
    "conn = pymysql.connect(host=\"localhost\",\n",
    "                       port=3306,\n",
    "                       user=\"ironhack\",\n",
    "                       passwd=getpass.getpass(),\n",
    "                       db=\"olist\")"
   ]
  },
  {
   "cell_type": "markdown",
   "metadata": {},
   "source": [
    "# 1. How many sellers do we have?"
   ]
  },
  {
   "cell_type": "code",
   "execution_count": 4,
   "metadata": {},
   "outputs": [],
   "source": [
    "sellers_query = \"\"\"\n",
    "SELECT\n",
    "    DISTINCT seller_id\n",
    "FROM olist.order_items;\n",
    "\"\"\"\n",
    "\n",
    "sellers = pd.read_sql(sellers_query, conn)"
   ]
  },
  {
   "cell_type": "code",
   "execution_count": 6,
   "metadata": {},
   "outputs": [
    {
     "data": {
      "text/plain": [
       "(3095, 1)"
      ]
     },
     "execution_count": 6,
     "metadata": {},
     "output_type": "execute_result"
    }
   ],
   "source": [
    "sellers.shape"
   ]
  },
  {
   "cell_type": "markdown",
   "metadata": {},
   "source": [
    "=> We have 3095 unique sellers!\n",
    "\n",
    "But how many in the different years?"
   ]
  },
  {
   "cell_type": "code",
   "execution_count": 7,
   "metadata": {},
   "outputs": [],
   "source": [
    "sellers_year_query = \"\"\"\n",
    "SELECT\n",
    "    DATE_FORMAT(o.order_purchase_timestamp, '%Y-01-01') AS year_id,\n",
    "    COUNT(DISTINCT seller_id) AS no_of_sellers\n",
    "FROM olist.order_items oi\n",
    "    JOIN olist.orders o\n",
    "    ON oi.order_id = o.order_id\n",
    "GROUP BY 1;\n",
    "\"\"\"\n",
    "\n",
    "sellers_year = pd.read_sql(sellers_year_query, conn)"
   ]
  },
  {
   "cell_type": "code",
   "execution_count": 8,
   "metadata": {},
   "outputs": [
    {
     "data": {
      "text/html": [
       "<div>\n",
       "<style scoped>\n",
       "    .dataframe tbody tr th:only-of-type {\n",
       "        vertical-align: middle;\n",
       "    }\n",
       "\n",
       "    .dataframe tbody tr th {\n",
       "        vertical-align: top;\n",
       "    }\n",
       "\n",
       "    .dataframe thead th {\n",
       "        text-align: right;\n",
       "    }\n",
       "</style>\n",
       "<table border=\"1\" class=\"dataframe\">\n",
       "  <thead>\n",
       "    <tr style=\"text-align: right;\">\n",
       "      <th></th>\n",
       "      <th>year_id</th>\n",
       "      <th>no_of_sellers</th>\n",
       "    </tr>\n",
       "  </thead>\n",
       "  <tbody>\n",
       "    <tr>\n",
       "      <th>0</th>\n",
       "      <td>2016-01-01</td>\n",
       "      <td>145</td>\n",
       "    </tr>\n",
       "    <tr>\n",
       "      <th>1</th>\n",
       "      <td>2017-01-01</td>\n",
       "      <td>1784</td>\n",
       "    </tr>\n",
       "    <tr>\n",
       "      <th>2</th>\n",
       "      <td>2018-01-01</td>\n",
       "      <td>2383</td>\n",
       "    </tr>\n",
       "  </tbody>\n",
       "</table>\n",
       "</div>"
      ],
      "text/plain": [
       "      year_id  no_of_sellers\n",
       "0  2016-01-01            145\n",
       "1  2017-01-01           1784\n",
       "2  2018-01-01           2383"
      ]
     },
     "execution_count": 8,
     "metadata": {},
     "output_type": "execute_result"
    }
   ],
   "source": [
    "sellers_year"
   ]
  },
  {
   "cell_type": "markdown",
   "metadata": {},
   "source": [
    "In 2018, we've had 2383. That's more than in 2017 and in 2016! \\o/\n",
    "\n",
    "# 2. How much do the sellers sell?"
   ]
  },
  {
   "cell_type": "code",
   "execution_count": 9,
   "metadata": {},
   "outputs": [],
   "source": [
    "seller_items_sold_query = \"\"\"\n",
    "SELECT\n",
    "    seller_id,\n",
    "    COUNT(1)    AS items_sold\n",
    "FROM olist.order_items\n",
    "GROUP BY 1;\n",
    "\"\"\"\n",
    "\n",
    "seller_items_sold = pd.read_sql(seller_items_sold_query, conn)"
   ]
  },
  {
   "cell_type": "code",
   "execution_count": 10,
   "metadata": {},
   "outputs": [
    {
     "data": {
      "text/html": [
       "<div>\n",
       "<style scoped>\n",
       "    .dataframe tbody tr th:only-of-type {\n",
       "        vertical-align: middle;\n",
       "    }\n",
       "\n",
       "    .dataframe tbody tr th {\n",
       "        vertical-align: top;\n",
       "    }\n",
       "\n",
       "    .dataframe thead th {\n",
       "        text-align: right;\n",
       "    }\n",
       "</style>\n",
       "<table border=\"1\" class=\"dataframe\">\n",
       "  <thead>\n",
       "    <tr style=\"text-align: right;\">\n",
       "      <th></th>\n",
       "      <th>items_sold</th>\n",
       "    </tr>\n",
       "  </thead>\n",
       "  <tbody>\n",
       "    <tr>\n",
       "      <th>count</th>\n",
       "      <td>3095.000000</td>\n",
       "    </tr>\n",
       "    <tr>\n",
       "      <th>mean</th>\n",
       "      <td>36.397415</td>\n",
       "    </tr>\n",
       "    <tr>\n",
       "      <th>std</th>\n",
       "      <td>119.193461</td>\n",
       "    </tr>\n",
       "    <tr>\n",
       "      <th>min</th>\n",
       "      <td>1.000000</td>\n",
       "    </tr>\n",
       "    <tr>\n",
       "      <th>25%</th>\n",
       "      <td>2.000000</td>\n",
       "    </tr>\n",
       "    <tr>\n",
       "      <th>50%</th>\n",
       "      <td>8.000000</td>\n",
       "    </tr>\n",
       "    <tr>\n",
       "      <th>75%</th>\n",
       "      <td>24.000000</td>\n",
       "    </tr>\n",
       "    <tr>\n",
       "      <th>max</th>\n",
       "      <td>2033.000000</td>\n",
       "    </tr>\n",
       "  </tbody>\n",
       "</table>\n",
       "</div>"
      ],
      "text/plain": [
       "        items_sold\n",
       "count  3095.000000\n",
       "mean     36.397415\n",
       "std     119.193461\n",
       "min       1.000000\n",
       "25%       2.000000\n",
       "50%       8.000000\n",
       "75%      24.000000\n",
       "max    2033.000000"
      ]
     },
     "execution_count": 10,
     "metadata": {},
     "output_type": "execute_result"
    }
   ],
   "source": [
    "seller_items_sold.describe()"
   ]
  },
  {
   "cell_type": "markdown",
   "metadata": {},
   "source": [
    "- A quarter of the sellers, sold 1 or 2 items\n",
    "- Half of the sellers, sold up to 8 items\n",
    "- The top 25% of the sellers, sold at least 24 items\n",
    "- The top seller has sold 2033 item\n",
    "- On average, sellers sell 36 items"
   ]
  },
  {
   "cell_type": "code",
   "execution_count": 15,
   "metadata": {},
   "outputs": [
    {
     "data": {
      "image/png": "[encoded data removed]",
      "text/plain": [
       "<Figure size 432x288 with 1 Axes>"
      ]
     },
     "metadata": {
      "needs_background": "light"
     },
     "output_type": "display_data"
    }
   ],
   "source": [
    "# show boxplot\n",
    "seller_items_sold.plot(kind=\"box\");"
   ]
  },
  {
   "cell_type": "code",
   "execution_count": 17,
   "metadata": {},
   "outputs": [
    {
     "data": {
      "image/png": "[encoded data removed]",
      "text/plain": [
       "<Figure size 432x288 with 1 Axes>"
      ]
     },
     "metadata": {
      "needs_background": "light"
     },
     "output_type": "display_data"
    }
   ],
   "source": [
    "# zooming in\n",
    "seller_items_sold.plot(kind=\"box\",\n",
    "                       ylim=(0,65));"
   ]
  },
  {
   "cell_type": "markdown",
   "metadata": {},
   "source": [
    "Not so useful, let's look at a histrogram"
   ]
  },
  {
   "cell_type": "code",
   "execution_count": 18,
   "metadata": {},
   "outputs": [
    {
     "data": {
      "image/png": "[encoded data removed]",
      "text/plain": [
       "<Figure size 432x288 with 1 Axes>"
      ]
     },
     "metadata": {
      "needs_background": "light"
     },
     "output_type": "display_data"
    }
   ],
   "source": [
    "seller_items_sold.plot(kind=\"hist\");"
   ]
  },
  {
   "cell_type": "markdown",
   "metadata": {},
   "source": [
    "Pretty skewed. Increase number of bins and zoom into smaller range"
   ]
  },
  {
   "cell_type": "code",
   "execution_count": 22,
   "metadata": {},
   "outputs": [
    {
     "data": {
      "image/png": "[encoded data removed]",
      "text/plain": [
       "<Figure size 432x288 with 1 Axes>"
      ]
     },
     "metadata": {
      "needs_background": "light"
     },
     "output_type": "display_data"
    }
   ],
   "source": [
    "seller_items_sold.plot(bins=100, \n",
    "                       kind=\"hist\",\n",
    "                       xlim=(0,250));"
   ]
  },
  {
   "cell_type": "markdown",
   "metadata": {},
   "source": [
    "Plot the percentiles. Because, why not?"
   ]
  },
  {
   "cell_type": "code",
   "execution_count": 23,
   "metadata": {},
   "outputs": [
    {
     "data": {
      "text/plain": [
       "8.0"
      ]
     },
     "execution_count": 23,
     "metadata": {},
     "output_type": "execute_result"
    }
   ],
   "source": [
    "np.quantile(seller_items_sold[\"items_sold\"], .5)"
   ]
  },
  {
   "cell_type": "code",
   "execution_count": 24,
   "metadata": {},
   "outputs": [
    {
     "data": {
      "text/plain": [
       "array([ 2.,  8., 24.])"
      ]
     },
     "execution_count": 24,
     "metadata": {},
     "output_type": "execute_result"
    }
   ],
   "source": [
    "np.quantile(seller_items_sold[\"items_sold\"], [.25, .5, .75])"
   ]
  },
  {
   "cell_type": "code",
   "execution_count": 29,
   "metadata": {},
   "outputs": [
    {
     "ename": "ValueError",
     "evalue": "Quantiles must be in the range [0, 1]",
     "output_type": "error",
     "traceback": [
      "\u001b[0;31m---------------------------------------------------------------------------\u001b[0m",
      "\u001b[0;31mValueError\u001b[0m                                Traceback (most recent call last)",
      "\u001b[0;32m<ipython-input-29-9bf34cdfc8ab>\u001b[0m in \u001b[0;36m<module>\u001b[0;34m\u001b[0m\n\u001b[0;32m----> 1\u001b[0;31m \u001b[0mnp\u001b[0m\u001b[0;34m.\u001b[0m\u001b[0mquantile\u001b[0m\u001b[0;34m(\u001b[0m\u001b[0mseller_items_sold\u001b[0m\u001b[0;34m[\u001b[0m\u001b[0;34m\"items_sold\"\u001b[0m\u001b[0;34m]\u001b[0m\u001b[0;34m,\u001b[0m \u001b[0mrange\u001b[0m\u001b[0;34m(\u001b[0m\u001b[0;36m1\u001b[0m\u001b[0;34m,\u001b[0m\u001b[0;36m100\u001b[0m\u001b[0;34m)\u001b[0m\u001b[0;34m)\u001b[0m\u001b[0;34m\u001b[0m\u001b[0;34m\u001b[0m\u001b[0m\n\u001b[0m",
      "\u001b[0;32m<__array_function__ internals>\u001b[0m in \u001b[0;36mquantile\u001b[0;34m(*args, **kwargs)\u001b[0m\n",
      "\u001b[0;32m~/miniconda3/envs/code_red/lib/python3.7/site-packages/numpy/lib/function_base.py\u001b[0m in \u001b[0;36mquantile\u001b[0;34m(a, q, axis, out, overwrite_input, interpolation, keepdims)\u001b[0m\n\u001b[1;32m   3821\u001b[0m     \u001b[0mq\u001b[0m \u001b[0;34m=\u001b[0m \u001b[0mnp\u001b[0m\u001b[0;34m.\u001b[0m\u001b[0masanyarray\u001b[0m\u001b[0;34m(\u001b[0m\u001b[0mq\u001b[0m\u001b[0;34m)\u001b[0m\u001b[0;34m\u001b[0m\u001b[0;34m\u001b[0m\u001b[0m\n\u001b[1;32m   3822\u001b[0m     \u001b[0;32mif\u001b[0m \u001b[0;32mnot\u001b[0m \u001b[0m_quantile_is_valid\u001b[0m\u001b[0;34m(\u001b[0m\u001b[0mq\u001b[0m\u001b[0;34m)\u001b[0m\u001b[0;34m:\u001b[0m\u001b[0;34m\u001b[0m\u001b[0;34m\u001b[0m\u001b[0m\n\u001b[0;32m-> 3823\u001b[0;31m         \u001b[0;32mraise\u001b[0m \u001b[0mValueError\u001b[0m\u001b[0;34m(\u001b[0m\u001b[0;34m\"Quantiles must be in the range [0, 1]\"\u001b[0m\u001b[0;34m)\u001b[0m\u001b[0;34m\u001b[0m\u001b[0;34m\u001b[0m\u001b[0m\n\u001b[0m\u001b[1;32m   3824\u001b[0m     return _quantile_unchecked(\n\u001b[1;32m   3825\u001b[0m         a, q, axis, out, overwrite_input, interpolation, keepdims)\n",
      "\u001b[0;31mValueError\u001b[0m: Quantiles must be in the range [0, 1]"
     ]
    }
   ],
   "source": [
    "np.quantile(seller_items_sold[\"items_sold\"], range(1,100))"
   ]
  },
  {
   "cell_type": "code",
   "execution_count": 37,
   "metadata": {},
   "outputs": [
    {
     "data": {
      "text/plain": [
       "[0.01,\n",
       " 0.02,\n",
       " 0.03,\n",
       " 0.04,\n",
       " 0.05,\n",
       " 0.06,\n",
       " 0.07,\n",
       " 0.08,\n",
       " 0.09,\n",
       " 0.1,\n",
       " 0.11,\n",
       " 0.12,\n",
       " 0.13,\n",
       " 0.14,\n",
       " 0.15,\n",
       " 0.16,\n",
       " 0.17,\n",
       " 0.18,\n",
       " 0.19,\n",
       " 0.2,\n",
       " 0.21,\n",
       " 0.22,\n",
       " 0.23,\n",
       " 0.24,\n",
       " 0.25,\n",
       " 0.26,\n",
       " 0.27,\n",
       " 0.28,\n",
       " 0.29,\n",
       " 0.3,\n",
       " 0.31,\n",
       " 0.32,\n",
       " 0.33,\n",
       " 0.34,\n",
       " 0.35,\n",
       " 0.36,\n",
       " 0.37,\n",
       " 0.38,\n",
       " 0.39,\n",
       " 0.4,\n",
       " 0.41,\n",
       " 0.42,\n",
       " 0.43,\n",
       " 0.44,\n",
       " 0.45,\n",
       " 0.46,\n",
       " 0.47,\n",
       " 0.48,\n",
       " 0.49,\n",
       " 0.5,\n",
       " 0.51,\n",
       " 0.52,\n",
       " 0.53,\n",
       " 0.54,\n",
       " 0.55,\n",
       " 0.56,\n",
       " 0.57,\n",
       " 0.58,\n",
       " 0.59,\n",
       " 0.6,\n",
       " 0.61,\n",
       " 0.62,\n",
       " 0.63,\n",
       " 0.64,\n",
       " 0.65,\n",
       " 0.66,\n",
       " 0.67,\n",
       " 0.68,\n",
       " 0.69,\n",
       " 0.7,\n",
       " 0.71,\n",
       " 0.72,\n",
       " 0.73,\n",
       " 0.74,\n",
       " 0.75,\n",
       " 0.76,\n",
       " 0.77,\n",
       " 0.78,\n",
       " 0.79,\n",
       " 0.8,\n",
       " 0.81,\n",
       " 0.82,\n",
       " 0.83,\n",
       " 0.84,\n",
       " 0.85,\n",
       " 0.86,\n",
       " 0.87,\n",
       " 0.88,\n",
       " 0.89,\n",
       " 0.9,\n",
       " 0.91,\n",
       " 0.92,\n",
       " 0.93,\n",
       " 0.94,\n",
       " 0.95,\n",
       " 0.96,\n",
       " 0.97,\n",
       " 0.98,\n",
       " 0.99]"
      ]
     },
     "execution_count": 37,
     "metadata": {},
     "output_type": "execute_result"
    }
   ],
   "source": [
    "[i/100 for i in range(1,100)]"
   ]
  },
  {
   "cell_type": "code",
   "execution_count": 38,
   "metadata": {},
   "outputs": [
    {
     "data": {
      "text/plain": [
       "array([0.  , 0.01, 0.02, 0.03, 0.04, 0.05, 0.06, 0.07, 0.08, 0.09, 0.1 ,\n",
       "       0.11, 0.12, 0.13, 0.14, 0.15, 0.16, 0.17, 0.18, 0.19, 0.2 , 0.21,\n",
       "       0.22, 0.23, 0.24, 0.25, 0.26, 0.27, 0.28, 0.29, 0.3 , 0.31, 0.32,\n",
       "       0.33, 0.34, 0.35, 0.36, 0.37, 0.38, 0.39, 0.4 , 0.41, 0.42, 0.43,\n",
       "       0.44, 0.45, 0.46, 0.47, 0.48, 0.49, 0.5 , 0.51, 0.52, 0.53, 0.54,\n",
       "       0.55, 0.56, 0.57, 0.58, 0.59, 0.6 , 0.61, 0.62, 0.63, 0.64, 0.65,\n",
       "       0.66, 0.67, 0.68, 0.69, 0.7 , 0.71, 0.72, 0.73, 0.74, 0.75, 0.76,\n",
       "       0.77, 0.78, 0.79, 0.8 , 0.81, 0.82, 0.83, 0.84, 0.85, 0.86, 0.87,\n",
       "       0.88, 0.89, 0.9 , 0.91, 0.92, 0.93, 0.94, 0.95, 0.96, 0.97, 0.98,\n",
       "       0.99])"
      ]
     },
     "execution_count": 38,
     "metadata": {},
     "output_type": "execute_result"
    }
   ],
   "source": [
    "np.arange(0,1,.01)"
   ]
  },
  {
   "cell_type": "code",
   "execution_count": 43,
   "metadata": {},
   "outputs": [],
   "source": [
    "percentiles = pd.DataFrame(np.quantile(seller_items_sold[\"items_sold\"], np.arange(0,1,.01)),\n",
    "                           columns=[\"percentile\"])"
   ]
  },
  {
   "cell_type": "code",
   "execution_count": 47,
   "metadata": {},
   "outputs": [
    {
     "data": {
      "text/plain": [
       "8.0"
      ]
     },
     "execution_count": 47,
     "metadata": {},
     "output_type": "execute_result"
    }
   ],
   "source": [
    "percentiles[\"percentile\"][50]"
   ]
  },
  {
   "cell_type": "code",
   "execution_count": 48,
   "metadata": {},
   "outputs": [
    {
     "data": {
      "text/plain": [
       "2.0"
      ]
     },
     "execution_count": 48,
     "metadata": {},
     "output_type": "execute_result"
    }
   ],
   "source": [
    "percentiles[\"percentile\"][25]"
   ]
  },
  {
   "cell_type": "code",
   "execution_count": 49,
   "metadata": {},
   "outputs": [
    {
     "data": {
      "text/plain": [
       "24.0"
      ]
     },
     "execution_count": 49,
     "metadata": {},
     "output_type": "execute_result"
    }
   ],
   "source": [
    "percentiles[\"percentile\"][75]"
   ]
  },
  {
   "cell_type": "code",
   "execution_count": 52,
   "metadata": {},
   "outputs": [
    {
     "data": {
      "image/png": "[encoded data removed]",
      "text/plain": [
       "<Figure size 432x288 with 1 Axes>"
      ]
     },
     "metadata": {
      "needs_background": "light"
     },
     "output_type": "display_data"
    }
   ],
   "source": [
    "percentiles[\"percentile\"].plot(kind=\"bar\");"
   ]
  },
  {
   "cell_type": "code",
   "execution_count": 55,
   "metadata": {},
   "outputs": [
    {
     "data": {
      "image/png": "[encoded data removed]",
      "text/plain": [
       "<Figure size 1152x648 with 1 Axes>"
      ]
     },
     "metadata": {
      "needs_background": "light"
     },
     "output_type": "display_data"
    }
   ],
   "source": [
    "fig = plt.figure(figsize=(16,9))\n",
    "percentiles[\"percentile\"].plot(kind=\"bar\");\n",
    "plt.title(\"Percentiles\");"
   ]
  },
  {
   "cell_type": "code",
   "execution_count": 56,
   "metadata": {},
   "outputs": [
    {
     "data": {
      "text/html": [
       "<div>\n",
       "<style scoped>\n",
       "    .dataframe tbody tr th:only-of-type {\n",
       "        vertical-align: middle;\n",
       "    }\n",
       "\n",
       "    .dataframe tbody tr th {\n",
       "        vertical-align: top;\n",
       "    }\n",
       "\n",
       "    .dataframe thead th {\n",
       "        text-align: right;\n",
       "    }\n",
       "</style>\n",
       "<table border=\"1\" class=\"dataframe\">\n",
       "  <thead>\n",
       "    <tr style=\"text-align: right;\">\n",
       "      <th></th>\n",
       "      <th>items_sold</th>\n",
       "    </tr>\n",
       "  </thead>\n",
       "  <tbody>\n",
       "    <tr>\n",
       "      <th>0.0</th>\n",
       "      <td>1.0</td>\n",
       "    </tr>\n",
       "    <tr>\n",
       "      <th>0.1</th>\n",
       "      <td>1.0</td>\n",
       "    </tr>\n",
       "    <tr>\n",
       "      <th>0.2</th>\n",
       "      <td>2.0</td>\n",
       "    </tr>\n",
       "    <tr>\n",
       "      <th>0.3</th>\n",
       "      <td>3.0</td>\n",
       "    </tr>\n",
       "    <tr>\n",
       "      <th>0.4</th>\n",
       "      <td>5.0</td>\n",
       "    </tr>\n",
       "    <tr>\n",
       "      <th>0.5</th>\n",
       "      <td>8.0</td>\n",
       "    </tr>\n",
       "    <tr>\n",
       "      <th>0.6</th>\n",
       "      <td>11.0</td>\n",
       "    </tr>\n",
       "    <tr>\n",
       "      <th>0.7</th>\n",
       "      <td>18.0</td>\n",
       "    </tr>\n",
       "    <tr>\n",
       "      <th>0.8</th>\n",
       "      <td>34.2</td>\n",
       "    </tr>\n",
       "    <tr>\n",
       "      <th>0.9</th>\n",
       "      <td>80.0</td>\n",
       "    </tr>\n",
       "  </tbody>\n",
       "</table>\n",
       "</div>"
      ],
      "text/plain": [
       "     items_sold\n",
       "0.0         1.0\n",
       "0.1         1.0\n",
       "0.2         2.0\n",
       "0.3         3.0\n",
       "0.4         5.0\n",
       "0.5         8.0\n",
       "0.6        11.0\n",
       "0.7        18.0\n",
       "0.8        34.2\n",
       "0.9        80.0"
      ]
     },
     "execution_count": 56,
     "metadata": {},
     "output_type": "execute_result"
    }
   ],
   "source": [
    "# alternatively, you can call the quantile method on a dataframe\n",
    "# get deciles:\n",
    "seller_items_sold.quantile(np.arange(0,1,.1))"
   ]
  },
  {
   "cell_type": "markdown",
   "metadata": {},
   "source": [
    "# 2. How much revenue are they generating in 2017?"
   ]
  },
  {
   "cell_type": "code",
   "execution_count": 58,
   "metadata": {},
   "outputs": [],
   "source": [
    "sellers_rev_query = \"\"\"\n",
    "SELECT\n",
    "    oi.seller_id,\n",
    "    SUM(oi.price) AS revenue\n",
    "FROM olist.order_items oi\n",
    "    JOIN olist.orders o\n",
    "    ON oi.order_id = o.order_id\n",
    "WHERE\n",
    "    o.order_delivered_customer_date >= '20170101'\n",
    "    AND o.order_delivered_customer_date < '20180101' \n",
    "GROUP BY 1;\n",
    "\"\"\"\n",
    "\n",
    "sellers_rev = pd.read_sql(sellers_rev_query, conn)"
   ]
  },
  {
   "cell_type": "code",
   "execution_count": 59,
   "metadata": {},
   "outputs": [
    {
     "data": {
      "text/html": [
       "<div>\n",
       "<style scoped>\n",
       "    .dataframe tbody tr th:only-of-type {\n",
       "        vertical-align: middle;\n",
       "    }\n",
       "\n",
       "    .dataframe tbody tr th {\n",
       "        vertical-align: top;\n",
       "    }\n",
       "\n",
       "    .dataframe thead th {\n",
       "        text-align: right;\n",
       "    }\n",
       "</style>\n",
       "<table border=\"1\" class=\"dataframe\">\n",
       "  <thead>\n",
       "    <tr style=\"text-align: right;\">\n",
       "      <th></th>\n",
       "      <th>seller_id</th>\n",
       "      <th>revenue</th>\n",
       "    </tr>\n",
       "  </thead>\n",
       "  <tbody>\n",
       "    <tr>\n",
       "      <th>0</th>\n",
       "      <td>3504c0cb71d7fa48d967e0e4c94d59d9</td>\n",
       "      <td>2349.940056</td>\n",
       "    </tr>\n",
       "    <tr>\n",
       "      <th>1</th>\n",
       "      <td>66922902710d126a0e7d26b0e3805106</td>\n",
       "      <td>5381.800003</td>\n",
       "    </tr>\n",
       "    <tr>\n",
       "      <th>2</th>\n",
       "      <td>8581055ce74af1daba164fdbd55a40de</td>\n",
       "      <td>43685.870234</td>\n",
       "    </tr>\n",
       "    <tr>\n",
       "      <th>3</th>\n",
       "      <td>16090f2ca825584b5a147ab24aa30c86</td>\n",
       "      <td>10302.789995</td>\n",
       "    </tr>\n",
       "    <tr>\n",
       "      <th>4</th>\n",
       "      <td>63b9ae557efed31d1f7687917d248a8d</td>\n",
       "      <td>129.499998</td>\n",
       "    </tr>\n",
       "    <tr>\n",
       "      <th>...</th>\n",
       "      <td>...</td>\n",
       "      <td>...</td>\n",
       "    </tr>\n",
       "    <tr>\n",
       "      <th>1656</th>\n",
       "      <td>aadfe0417e61315688b6bd7043361e25</td>\n",
       "      <td>289.899994</td>\n",
       "    </tr>\n",
       "    <tr>\n",
       "      <th>1657</th>\n",
       "      <td>72c73be2b085b9d57650dd53eb2004c9</td>\n",
       "      <td>29.400000</td>\n",
       "    </tr>\n",
       "    <tr>\n",
       "      <th>1658</th>\n",
       "      <td>9ef932e837d8b7f392c0bfee9d359dc2</td>\n",
       "      <td>59.900002</td>\n",
       "    </tr>\n",
       "    <tr>\n",
       "      <th>1659</th>\n",
       "      <td>2d8cfba3fcd3170555941605edaa196a</td>\n",
       "      <td>45.000000</td>\n",
       "    </tr>\n",
       "    <tr>\n",
       "      <th>1660</th>\n",
       "      <td>8fe8786ee000001ab51d030dfd4a7bf1</td>\n",
       "      <td>439.000000</td>\n",
       "    </tr>\n",
       "  </tbody>\n",
       "</table>\n",
       "<p>1661 rows × 2 columns</p>\n",
       "</div>"
      ],
      "text/plain": [
       "                             seller_id       revenue\n",
       "0     3504c0cb71d7fa48d967e0e4c94d59d9   2349.940056\n",
       "1     66922902710d126a0e7d26b0e3805106   5381.800003\n",
       "2     8581055ce74af1daba164fdbd55a40de  43685.870234\n",
       "3     16090f2ca825584b5a147ab24aa30c86  10302.789995\n",
       "4     63b9ae557efed31d1f7687917d248a8d    129.499998\n",
       "...                                ...           ...\n",
       "1656  aadfe0417e61315688b6bd7043361e25    289.899994\n",
       "1657  72c73be2b085b9d57650dd53eb2004c9     29.400000\n",
       "1658  9ef932e837d8b7f392c0bfee9d359dc2     59.900002\n",
       "1659  2d8cfba3fcd3170555941605edaa196a     45.000000\n",
       "1660  8fe8786ee000001ab51d030dfd4a7bf1    439.000000\n",
       "\n",
       "[1661 rows x 2 columns]"
      ]
     },
     "execution_count": 59,
     "metadata": {},
     "output_type": "execute_result"
    }
   ],
   "source": [
    "sellers_rev"
   ]
  },
  {
   "cell_type": "code",
   "execution_count": 60,
   "metadata": {},
   "outputs": [
    {
     "data": {
      "text/html": [
       "<div>\n",
       "<style scoped>\n",
       "    .dataframe tbody tr th:only-of-type {\n",
       "        vertical-align: middle;\n",
       "    }\n",
       "\n",
       "    .dataframe tbody tr th {\n",
       "        vertical-align: top;\n",
       "    }\n",
       "\n",
       "    .dataframe thead th {\n",
       "        text-align: right;\n",
       "    }\n",
       "</style>\n",
       "<table border=\"1\" class=\"dataframe\">\n",
       "  <thead>\n",
       "    <tr style=\"text-align: right;\">\n",
       "      <th></th>\n",
       "      <th>revenue</th>\n",
       "    </tr>\n",
       "  </thead>\n",
       "  <tbody>\n",
       "    <tr>\n",
       "      <th>count</th>\n",
       "      <td>1661.000000</td>\n",
       "    </tr>\n",
       "    <tr>\n",
       "      <th>mean</th>\n",
       "      <td>3379.179922</td>\n",
       "    </tr>\n",
       "    <tr>\n",
       "      <th>std</th>\n",
       "      <td>9962.487296</td>\n",
       "    </tr>\n",
       "    <tr>\n",
       "      <th>min</th>\n",
       "      <td>6.500000</td>\n",
       "    </tr>\n",
       "    <tr>\n",
       "      <th>25%</th>\n",
       "      <td>204.100000</td>\n",
       "    </tr>\n",
       "    <tr>\n",
       "      <th>50%</th>\n",
       "      <td>764.320004</td>\n",
       "    </tr>\n",
       "    <tr>\n",
       "      <th>75%</th>\n",
       "      <td>2618.950020</td>\n",
       "    </tr>\n",
       "    <tr>\n",
       "      <th>max</th>\n",
       "      <td>166980.609665</td>\n",
       "    </tr>\n",
       "  </tbody>\n",
       "</table>\n",
       "</div>"
      ],
      "text/plain": [
       "             revenue\n",
       "count    1661.000000\n",
       "mean     3379.179922\n",
       "std      9962.487296\n",
       "min         6.500000\n",
       "25%       204.100000\n",
       "50%       764.320004\n",
       "75%      2618.950020\n",
       "max    166980.609665"
      ]
     },
     "execution_count": 60,
     "metadata": {},
     "output_type": "execute_result"
    }
   ],
   "source": [
    "sellers_rev.describe()"
   ]
  },
  {
   "cell_type": "code",
   "execution_count": 61,
   "metadata": {},
   "outputs": [
    {
     "data": {
      "text/plain": [
       "revenue    3379.179922\n",
       "dtype: float64"
      ]
     },
     "execution_count": 61,
     "metadata": {},
     "output_type": "execute_result"
    }
   ],
   "source": [
    "sellers_rev.mean()"
   ]
  },
  {
   "cell_type": "code",
   "execution_count": 62,
   "metadata": {},
   "outputs": [
    {
     "data": {
      "image/png": "[encoded data removed]",
      "text/plain": [
       "<Figure size 432x288 with 1 Axes>"
      ]
     },
     "metadata": {
      "needs_background": "light"
     },
     "output_type": "display_data"
    }
   ],
   "source": [
    "sellers_rev.plot(kind=\"box\");"
   ]
  },
  {
   "cell_type": "code",
   "execution_count": 66,
   "metadata": {},
   "outputs": [
    {
     "data": {
      "image/png": "[encoded data removed]",
      "text/plain": [
       "<Figure size 432x288 with 1 Axes>"
      ]
     },
     "metadata": {
      "needs_background": "light"
     },
     "output_type": "display_data"
    }
   ],
   "source": [
    "sellers_rev.plot(kind=\"box\",\n",
    "                 ylim=(0,8000));"
   ]
  },
  {
   "cell_type": "code",
   "execution_count": 68,
   "metadata": {},
   "outputs": [
    {
     "data": {
      "image/png": "[encoded data removed]",
      "text/plain": [
       "<Figure size 432x288 with 1 Axes>"
      ]
     },
     "metadata": {
      "needs_background": "light"
     },
     "output_type": "display_data"
    }
   ],
   "source": [
    "sellers_rev.hist();"
   ]
  },
  {
   "cell_type": "code",
   "execution_count": 72,
   "metadata": {},
   "outputs": [
    {
     "data": {
      "image/png": "[encoded data removed]",
      "text/plain": [
       "<Figure size 432x288 with 1 Axes>"
      ]
     },
     "metadata": {
      "needs_background": "light"
     },
     "output_type": "display_data"
    }
   ],
   "source": [
    "sellers_rev.plot(kind=\"hist\",\n",
    "                 bins=1000,\n",
    "                 xlim=(0,10000));"
   ]
  },
  {
   "cell_type": "markdown",
   "metadata": {},
   "source": [
    "## How much do we depend on the top sellers?"
   ]
  },
  {
   "cell_type": "code",
   "execution_count": 73,
   "metadata": {},
   "outputs": [
    {
     "data": {
      "text/html": [
       "<div>\n",
       "<style scoped>\n",
       "    .dataframe tbody tr th:only-of-type {\n",
       "        vertical-align: middle;\n",
       "    }\n",
       "\n",
       "    .dataframe tbody tr th {\n",
       "        vertical-align: top;\n",
       "    }\n",
       "\n",
       "    .dataframe thead th {\n",
       "        text-align: right;\n",
       "    }\n",
       "</style>\n",
       "<table border=\"1\" class=\"dataframe\">\n",
       "  <thead>\n",
       "    <tr style=\"text-align: right;\">\n",
       "      <th></th>\n",
       "      <th>seller_id</th>\n",
       "      <th>revenue</th>\n",
       "    </tr>\n",
       "  </thead>\n",
       "  <tbody>\n",
       "    <tr>\n",
       "      <th>0</th>\n",
       "      <td>3504c0cb71d7fa48d967e0e4c94d59d9</td>\n",
       "      <td>2349.940056</td>\n",
       "    </tr>\n",
       "    <tr>\n",
       "      <th>1</th>\n",
       "      <td>66922902710d126a0e7d26b0e3805106</td>\n",
       "      <td>5381.800003</td>\n",
       "    </tr>\n",
       "    <tr>\n",
       "      <th>2</th>\n",
       "      <td>8581055ce74af1daba164fdbd55a40de</td>\n",
       "      <td>43685.870234</td>\n",
       "    </tr>\n",
       "    <tr>\n",
       "      <th>3</th>\n",
       "      <td>16090f2ca825584b5a147ab24aa30c86</td>\n",
       "      <td>10302.789995</td>\n",
       "    </tr>\n",
       "    <tr>\n",
       "      <th>4</th>\n",
       "      <td>63b9ae557efed31d1f7687917d248a8d</td>\n",
       "      <td>129.499998</td>\n",
       "    </tr>\n",
       "    <tr>\n",
       "      <th>...</th>\n",
       "      <td>...</td>\n",
       "      <td>...</td>\n",
       "    </tr>\n",
       "    <tr>\n",
       "      <th>1656</th>\n",
       "      <td>aadfe0417e61315688b6bd7043361e25</td>\n",
       "      <td>289.899994</td>\n",
       "    </tr>\n",
       "    <tr>\n",
       "      <th>1657</th>\n",
       "      <td>72c73be2b085b9d57650dd53eb2004c9</td>\n",
       "      <td>29.400000</td>\n",
       "    </tr>\n",
       "    <tr>\n",
       "      <th>1658</th>\n",
       "      <td>9ef932e837d8b7f392c0bfee9d359dc2</td>\n",
       "      <td>59.900002</td>\n",
       "    </tr>\n",
       "    <tr>\n",
       "      <th>1659</th>\n",
       "      <td>2d8cfba3fcd3170555941605edaa196a</td>\n",
       "      <td>45.000000</td>\n",
       "    </tr>\n",
       "    <tr>\n",
       "      <th>1660</th>\n",
       "      <td>8fe8786ee000001ab51d030dfd4a7bf1</td>\n",
       "      <td>439.000000</td>\n",
       "    </tr>\n",
       "  </tbody>\n",
       "</table>\n",
       "<p>1661 rows × 2 columns</p>\n",
       "</div>"
      ],
      "text/plain": [
       "                             seller_id       revenue\n",
       "0     3504c0cb71d7fa48d967e0e4c94d59d9   2349.940056\n",
       "1     66922902710d126a0e7d26b0e3805106   5381.800003\n",
       "2     8581055ce74af1daba164fdbd55a40de  43685.870234\n",
       "3     16090f2ca825584b5a147ab24aa30c86  10302.789995\n",
       "4     63b9ae557efed31d1f7687917d248a8d    129.499998\n",
       "...                                ...           ...\n",
       "1656  aadfe0417e61315688b6bd7043361e25    289.899994\n",
       "1657  72c73be2b085b9d57650dd53eb2004c9     29.400000\n",
       "1658  9ef932e837d8b7f392c0bfee9d359dc2     59.900002\n",
       "1659  2d8cfba3fcd3170555941605edaa196a     45.000000\n",
       "1660  8fe8786ee000001ab51d030dfd4a7bf1    439.000000\n",
       "\n",
       "[1661 rows x 2 columns]"
      ]
     },
     "execution_count": 73,
     "metadata": {},
     "output_type": "execute_result"
    }
   ],
   "source": [
    "sellers_rev"
   ]
  },
  {
   "cell_type": "code",
   "execution_count": 91,
   "metadata": {},
   "outputs": [
    {
     "data": {
      "text/html": [
       "<div>\n",
       "<style scoped>\n",
       "    .dataframe tbody tr th:only-of-type {\n",
       "        vertical-align: middle;\n",
       "    }\n",
       "\n",
       "    .dataframe tbody tr th {\n",
       "        vertical-align: top;\n",
       "    }\n",
       "\n",
       "    .dataframe thead th {\n",
       "        text-align: right;\n",
       "    }\n",
       "</style>\n",
       "<table border=\"1\" class=\"dataframe\">\n",
       "  <thead>\n",
       "    <tr style=\"text-align: right;\">\n",
       "      <th></th>\n",
       "      <th>seller_id</th>\n",
       "      <th>revenue</th>\n",
       "    </tr>\n",
       "  </thead>\n",
       "  <tbody>\n",
       "    <tr>\n",
       "      <th>0</th>\n",
       "      <td>53243585a1d6dc2643021fd1853d8905</td>\n",
       "      <td>166980.609665</td>\n",
       "    </tr>\n",
       "    <tr>\n",
       "      <th>1</th>\n",
       "      <td>7e93a43ef30c4f03f38b393420bc753a</td>\n",
       "      <td>148631.749336</td>\n",
       "    </tr>\n",
       "    <tr>\n",
       "      <th>2</th>\n",
       "      <td>4a3ca9315b744ce9f8e9374361493884</td>\n",
       "      <td>117744.740963</td>\n",
       "    </tr>\n",
       "    <tr>\n",
       "      <th>3</th>\n",
       "      <td>46dc3b2cc0980fb8ec44634e21d2718e</td>\n",
       "      <td>99757.308632</td>\n",
       "    </tr>\n",
       "    <tr>\n",
       "      <th>4</th>\n",
       "      <td>7a67c85e85bb2ce8582c35f2203ad736</td>\n",
       "      <td>93308.301058</td>\n",
       "    </tr>\n",
       "    <tr>\n",
       "      <th>...</th>\n",
       "      <td>...</td>\n",
       "      <td>...</td>\n",
       "    </tr>\n",
       "    <tr>\n",
       "      <th>1656</th>\n",
       "      <td>0f94588695d71662beec8d883ffacf09</td>\n",
       "      <td>9.000000</td>\n",
       "    </tr>\n",
       "    <tr>\n",
       "      <th>1657</th>\n",
       "      <td>ad14615bdd492b01b0d97922e87cb87f</td>\n",
       "      <td>8.250000</td>\n",
       "    </tr>\n",
       "    <tr>\n",
       "      <th>1658</th>\n",
       "      <td>94b9108d4b637ba65bb4f1e53cfcf8d8</td>\n",
       "      <td>7.700000</td>\n",
       "    </tr>\n",
       "    <tr>\n",
       "      <th>1659</th>\n",
       "      <td>702835e4b785b67a084280efca355756</td>\n",
       "      <td>7.600000</td>\n",
       "    </tr>\n",
       "    <tr>\n",
       "      <th>1660</th>\n",
       "      <td>77128dec4bec4878c37ab7d6169d6f26</td>\n",
       "      <td>6.500000</td>\n",
       "    </tr>\n",
       "  </tbody>\n",
       "</table>\n",
       "<p>1661 rows × 2 columns</p>\n",
       "</div>"
      ],
      "text/plain": [
       "                             seller_id        revenue\n",
       "0     53243585a1d6dc2643021fd1853d8905  166980.609665\n",
       "1     7e93a43ef30c4f03f38b393420bc753a  148631.749336\n",
       "2     4a3ca9315b744ce9f8e9374361493884  117744.740963\n",
       "3     46dc3b2cc0980fb8ec44634e21d2718e   99757.308632\n",
       "4     7a67c85e85bb2ce8582c35f2203ad736   93308.301058\n",
       "...                                ...            ...\n",
       "1656  0f94588695d71662beec8d883ffacf09       9.000000\n",
       "1657  ad14615bdd492b01b0d97922e87cb87f       8.250000\n",
       "1658  94b9108d4b637ba65bb4f1e53cfcf8d8       7.700000\n",
       "1659  702835e4b785b67a084280efca355756       7.600000\n",
       "1660  77128dec4bec4878c37ab7d6169d6f26       6.500000\n",
       "\n",
       "[1661 rows x 2 columns]"
      ]
     },
     "execution_count": 91,
     "metadata": {},
     "output_type": "execute_result"
    }
   ],
   "source": [
    "# 1. order by revenue, descending\n",
    "sellers_rev_c = (sellers_rev\n",
    "                 .sort_values(\"revenue\", ascending=False)\n",
    "                 .reset_index(drop=True))\n",
    "sellers_rev_c"
   ]
  },
  {
   "cell_type": "code",
   "execution_count": 92,
   "metadata": {},
   "outputs": [
    {
     "data": {
      "text/html": [
       "<div>\n",
       "<style scoped>\n",
       "    .dataframe tbody tr th:only-of-type {\n",
       "        vertical-align: middle;\n",
       "    }\n",
       "\n",
       "    .dataframe tbody tr th {\n",
       "        vertical-align: top;\n",
       "    }\n",
       "\n",
       "    .dataframe thead th {\n",
       "        text-align: right;\n",
       "    }\n",
       "</style>\n",
       "<table border=\"1\" class=\"dataframe\">\n",
       "  <thead>\n",
       "    <tr style=\"text-align: right;\">\n",
       "      <th></th>\n",
       "      <th>seller_id</th>\n",
       "      <th>revenue</th>\n",
       "      <th>rank</th>\n",
       "    </tr>\n",
       "  </thead>\n",
       "  <tbody>\n",
       "    <tr>\n",
       "      <th>0</th>\n",
       "      <td>53243585a1d6dc2643021fd1853d8905</td>\n",
       "      <td>166980.609665</td>\n",
       "      <td>1</td>\n",
       "    </tr>\n",
       "    <tr>\n",
       "      <th>1</th>\n",
       "      <td>7e93a43ef30c4f03f38b393420bc753a</td>\n",
       "      <td>148631.749336</td>\n",
       "      <td>2</td>\n",
       "    </tr>\n",
       "    <tr>\n",
       "      <th>2</th>\n",
       "      <td>4a3ca9315b744ce9f8e9374361493884</td>\n",
       "      <td>117744.740963</td>\n",
       "      <td>3</td>\n",
       "    </tr>\n",
       "    <tr>\n",
       "      <th>3</th>\n",
       "      <td>46dc3b2cc0980fb8ec44634e21d2718e</td>\n",
       "      <td>99757.308632</td>\n",
       "      <td>4</td>\n",
       "    </tr>\n",
       "    <tr>\n",
       "      <th>4</th>\n",
       "      <td>7a67c85e85bb2ce8582c35f2203ad736</td>\n",
       "      <td>93308.301058</td>\n",
       "      <td>5</td>\n",
       "    </tr>\n",
       "    <tr>\n",
       "      <th>...</th>\n",
       "      <td>...</td>\n",
       "      <td>...</td>\n",
       "      <td>...</td>\n",
       "    </tr>\n",
       "    <tr>\n",
       "      <th>1656</th>\n",
       "      <td>0f94588695d71662beec8d883ffacf09</td>\n",
       "      <td>9.000000</td>\n",
       "      <td>1657</td>\n",
       "    </tr>\n",
       "    <tr>\n",
       "      <th>1657</th>\n",
       "      <td>ad14615bdd492b01b0d97922e87cb87f</td>\n",
       "      <td>8.250000</td>\n",
       "      <td>1658</td>\n",
       "    </tr>\n",
       "    <tr>\n",
       "      <th>1658</th>\n",
       "      <td>94b9108d4b637ba65bb4f1e53cfcf8d8</td>\n",
       "      <td>7.700000</td>\n",
       "      <td>1659</td>\n",
       "    </tr>\n",
       "    <tr>\n",
       "      <th>1659</th>\n",
       "      <td>702835e4b785b67a084280efca355756</td>\n",
       "      <td>7.600000</td>\n",
       "      <td>1660</td>\n",
       "    </tr>\n",
       "    <tr>\n",
       "      <th>1660</th>\n",
       "      <td>77128dec4bec4878c37ab7d6169d6f26</td>\n",
       "      <td>6.500000</td>\n",
       "      <td>1661</td>\n",
       "    </tr>\n",
       "  </tbody>\n",
       "</table>\n",
       "<p>1661 rows × 3 columns</p>\n",
       "</div>"
      ],
      "text/plain": [
       "                             seller_id        revenue  rank\n",
       "0     53243585a1d6dc2643021fd1853d8905  166980.609665     1\n",
       "1     7e93a43ef30c4f03f38b393420bc753a  148631.749336     2\n",
       "2     4a3ca9315b744ce9f8e9374361493884  117744.740963     3\n",
       "3     46dc3b2cc0980fb8ec44634e21d2718e   99757.308632     4\n",
       "4     7a67c85e85bb2ce8582c35f2203ad736   93308.301058     5\n",
       "...                                ...            ...   ...\n",
       "1656  0f94588695d71662beec8d883ffacf09       9.000000  1657\n",
       "1657  ad14615bdd492b01b0d97922e87cb87f       8.250000  1658\n",
       "1658  94b9108d4b637ba65bb4f1e53cfcf8d8       7.700000  1659\n",
       "1659  702835e4b785b67a084280efca355756       7.600000  1660\n",
       "1660  77128dec4bec4878c37ab7d6169d6f26       6.500000  1661\n",
       "\n",
       "[1661 rows x 3 columns]"
      ]
     },
     "execution_count": 92,
     "metadata": {},
     "output_type": "execute_result"
    }
   ],
   "source": [
    "# 2. generate rank\n",
    "sellers_rev_c = sellers_rev_c.assign(rank=sellers_rev_c.index + 1)\n",
    "sellers_rev_c"
   ]
  },
  {
   "cell_type": "code",
   "execution_count": 93,
   "metadata": {},
   "outputs": [
    {
     "data": {
      "text/html": [
       "<div>\n",
       "<style scoped>\n",
       "    .dataframe tbody tr th:only-of-type {\n",
       "        vertical-align: middle;\n",
       "    }\n",
       "\n",
       "    .dataframe tbody tr th {\n",
       "        vertical-align: top;\n",
       "    }\n",
       "\n",
       "    .dataframe thead th {\n",
       "        text-align: right;\n",
       "    }\n",
       "</style>\n",
       "<table border=\"1\" class=\"dataframe\">\n",
       "  <thead>\n",
       "    <tr style=\"text-align: right;\">\n",
       "      <th></th>\n",
       "      <th>seller_id</th>\n",
       "      <th>revenue</th>\n",
       "      <th>rank</th>\n",
       "    </tr>\n",
       "  </thead>\n",
       "  <tbody>\n",
       "    <tr>\n",
       "      <th>0</th>\n",
       "      <td>53243585a1d6dc2643021fd1853d8905</td>\n",
       "      <td>166980.609665</td>\n",
       "      <td>1</td>\n",
       "    </tr>\n",
       "    <tr>\n",
       "      <th>1</th>\n",
       "      <td>7e93a43ef30c4f03f38b393420bc753a</td>\n",
       "      <td>148631.749336</td>\n",
       "      <td>2</td>\n",
       "    </tr>\n",
       "    <tr>\n",
       "      <th>2</th>\n",
       "      <td>4a3ca9315b744ce9f8e9374361493884</td>\n",
       "      <td>117744.740963</td>\n",
       "      <td>3</td>\n",
       "    </tr>\n",
       "    <tr>\n",
       "      <th>3</th>\n",
       "      <td>46dc3b2cc0980fb8ec44634e21d2718e</td>\n",
       "      <td>99757.308632</td>\n",
       "      <td>4</td>\n",
       "    </tr>\n",
       "    <tr>\n",
       "      <th>4</th>\n",
       "      <td>7a67c85e85bb2ce8582c35f2203ad736</td>\n",
       "      <td>93308.301058</td>\n",
       "      <td>5</td>\n",
       "    </tr>\n",
       "    <tr>\n",
       "      <th>5</th>\n",
       "      <td>7c67e1448b00f6e969d365cea6b010ab</td>\n",
       "      <td>90890.601206</td>\n",
       "      <td>6</td>\n",
       "    </tr>\n",
       "    <tr>\n",
       "      <th>6</th>\n",
       "      <td>fa1c13f2614d7b5c4749cbc52fecda94</td>\n",
       "      <td>89827.689400</td>\n",
       "      <td>7</td>\n",
       "    </tr>\n",
       "    <tr>\n",
       "      <th>7</th>\n",
       "      <td>4869f7a5dfa277a7dca6462dcf3b52b2</td>\n",
       "      <td>80614.929192</td>\n",
       "      <td>8</td>\n",
       "    </tr>\n",
       "    <tr>\n",
       "      <th>8</th>\n",
       "      <td>cc419e0650a3c5ba77189a1882b7556a</td>\n",
       "      <td>65519.720114</td>\n",
       "      <td>9</td>\n",
       "    </tr>\n",
       "    <tr>\n",
       "      <th>9</th>\n",
       "      <td>da8622b14eb17ae2831f4ac5b9dab84a</td>\n",
       "      <td>63248.099596</td>\n",
       "      <td>10</td>\n",
       "    </tr>\n",
       "    <tr>\n",
       "      <th>10</th>\n",
       "      <td>620c87c171fb2a6dd6e8bb4dec959fc6</td>\n",
       "      <td>57279.049164</td>\n",
       "      <td>11</td>\n",
       "    </tr>\n",
       "    <tr>\n",
       "      <th>11</th>\n",
       "      <td>5dceca129747e92ff8ef7a997dc4f8ca</td>\n",
       "      <td>54553.809786</td>\n",
       "      <td>12</td>\n",
       "    </tr>\n",
       "    <tr>\n",
       "      <th>12</th>\n",
       "      <td>1f50f920176fa81dab994f9023523100</td>\n",
       "      <td>54552.791012</td>\n",
       "      <td>13</td>\n",
       "    </tr>\n",
       "    <tr>\n",
       "      <th>13</th>\n",
       "      <td>cca3071e3e9bb7d12640c9fbe2301306</td>\n",
       "      <td>53659.760125</td>\n",
       "      <td>14</td>\n",
       "    </tr>\n",
       "    <tr>\n",
       "      <th>14</th>\n",
       "      <td>37be5a7c751166fbc5f8ccba4119e043</td>\n",
       "      <td>52919.580093</td>\n",
       "      <td>15</td>\n",
       "    </tr>\n",
       "    <tr>\n",
       "      <th>15</th>\n",
       "      <td>6560211a19b47992c3666cc44a7e94c0</td>\n",
       "      <td>51295.910015</td>\n",
       "      <td>16</td>\n",
       "    </tr>\n",
       "    <tr>\n",
       "      <th>16</th>\n",
       "      <td>3d871de0142ce09b7081e2b9d1733cb1</td>\n",
       "      <td>45616.500065</td>\n",
       "      <td>17</td>\n",
       "    </tr>\n",
       "    <tr>\n",
       "      <th>17</th>\n",
       "      <td>8581055ce74af1daba164fdbd55a40de</td>\n",
       "      <td>43685.870234</td>\n",
       "      <td>18</td>\n",
       "    </tr>\n",
       "    <tr>\n",
       "      <th>18</th>\n",
       "      <td>25c5c91f63607446a97b143d2d535d31</td>\n",
       "      <td>41700.159561</td>\n",
       "      <td>19</td>\n",
       "    </tr>\n",
       "    <tr>\n",
       "      <th>19</th>\n",
       "      <td>ccc4bbb5f32a6ab2b7066a4130f114e3</td>\n",
       "      <td>39427.129608</td>\n",
       "      <td>20</td>\n",
       "    </tr>\n",
       "  </tbody>\n",
       "</table>\n",
       "</div>"
      ],
      "text/plain": [
       "                           seller_id        revenue  rank\n",
       "0   53243585a1d6dc2643021fd1853d8905  166980.609665     1\n",
       "1   7e93a43ef30c4f03f38b393420bc753a  148631.749336     2\n",
       "2   4a3ca9315b744ce9f8e9374361493884  117744.740963     3\n",
       "3   46dc3b2cc0980fb8ec44634e21d2718e   99757.308632     4\n",
       "4   7a67c85e85bb2ce8582c35f2203ad736   93308.301058     5\n",
       "5   7c67e1448b00f6e969d365cea6b010ab   90890.601206     6\n",
       "6   fa1c13f2614d7b5c4749cbc52fecda94   89827.689400     7\n",
       "7   4869f7a5dfa277a7dca6462dcf3b52b2   80614.929192     8\n",
       "8   cc419e0650a3c5ba77189a1882b7556a   65519.720114     9\n",
       "9   da8622b14eb17ae2831f4ac5b9dab84a   63248.099596    10\n",
       "10  620c87c171fb2a6dd6e8bb4dec959fc6   57279.049164    11\n",
       "11  5dceca129747e92ff8ef7a997dc4f8ca   54553.809786    12\n",
       "12  1f50f920176fa81dab994f9023523100   54552.791012    13\n",
       "13  cca3071e3e9bb7d12640c9fbe2301306   53659.760125    14\n",
       "14  37be5a7c751166fbc5f8ccba4119e043   52919.580093    15\n",
       "15  6560211a19b47992c3666cc44a7e94c0   51295.910015    16\n",
       "16  3d871de0142ce09b7081e2b9d1733cb1   45616.500065    17\n",
       "17  8581055ce74af1daba164fdbd55a40de   43685.870234    18\n",
       "18  25c5c91f63607446a97b143d2d535d31   41700.159561    19\n",
       "19  ccc4bbb5f32a6ab2b7066a4130f114e3   39427.129608    20"
      ]
     },
     "execution_count": 93,
     "metadata": {},
     "output_type": "execute_result"
    }
   ],
   "source": [
    "sellers_rev_c.head(20)"
   ]
  },
  {
   "cell_type": "code",
   "execution_count": 94,
   "metadata": {},
   "outputs": [
    {
     "data": {
      "text/html": [
       "<div>\n",
       "<style scoped>\n",
       "    .dataframe tbody tr th:only-of-type {\n",
       "        vertical-align: middle;\n",
       "    }\n",
       "\n",
       "    .dataframe tbody tr th {\n",
       "        vertical-align: top;\n",
       "    }\n",
       "\n",
       "    .dataframe thead th {\n",
       "        text-align: right;\n",
       "    }\n",
       "</style>\n",
       "<table border=\"1\" class=\"dataframe\">\n",
       "  <thead>\n",
       "    <tr style=\"text-align: right;\">\n",
       "      <th></th>\n",
       "      <th>seller_id</th>\n",
       "      <th>revenue</th>\n",
       "      <th>rank</th>\n",
       "      <th>top_n_perc</th>\n",
       "    </tr>\n",
       "  </thead>\n",
       "  <tbody>\n",
       "    <tr>\n",
       "      <th>0</th>\n",
       "      <td>53243585a1d6dc2643021fd1853d8905</td>\n",
       "      <td>166980.609665</td>\n",
       "      <td>1</td>\n",
       "      <td>0.060205</td>\n",
       "    </tr>\n",
       "    <tr>\n",
       "      <th>1</th>\n",
       "      <td>7e93a43ef30c4f03f38b393420bc753a</td>\n",
       "      <td>148631.749336</td>\n",
       "      <td>2</td>\n",
       "      <td>0.120409</td>\n",
       "    </tr>\n",
       "    <tr>\n",
       "      <th>2</th>\n",
       "      <td>4a3ca9315b744ce9f8e9374361493884</td>\n",
       "      <td>117744.740963</td>\n",
       "      <td>3</td>\n",
       "      <td>0.180614</td>\n",
       "    </tr>\n",
       "    <tr>\n",
       "      <th>3</th>\n",
       "      <td>46dc3b2cc0980fb8ec44634e21d2718e</td>\n",
       "      <td>99757.308632</td>\n",
       "      <td>4</td>\n",
       "      <td>0.240819</td>\n",
       "    </tr>\n",
       "    <tr>\n",
       "      <th>4</th>\n",
       "      <td>7a67c85e85bb2ce8582c35f2203ad736</td>\n",
       "      <td>93308.301058</td>\n",
       "      <td>5</td>\n",
       "      <td>0.301023</td>\n",
       "    </tr>\n",
       "    <tr>\n",
       "      <th>...</th>\n",
       "      <td>...</td>\n",
       "      <td>...</td>\n",
       "      <td>...</td>\n",
       "      <td>...</td>\n",
       "    </tr>\n",
       "    <tr>\n",
       "      <th>1656</th>\n",
       "      <td>0f94588695d71662beec8d883ffacf09</td>\n",
       "      <td>9.000000</td>\n",
       "      <td>1657</td>\n",
       "      <td>99.759181</td>\n",
       "    </tr>\n",
       "    <tr>\n",
       "      <th>1657</th>\n",
       "      <td>ad14615bdd492b01b0d97922e87cb87f</td>\n",
       "      <td>8.250000</td>\n",
       "      <td>1658</td>\n",
       "      <td>99.819386</td>\n",
       "    </tr>\n",
       "    <tr>\n",
       "      <th>1658</th>\n",
       "      <td>94b9108d4b637ba65bb4f1e53cfcf8d8</td>\n",
       "      <td>7.700000</td>\n",
       "      <td>1659</td>\n",
       "      <td>99.879591</td>\n",
       "    </tr>\n",
       "    <tr>\n",
       "      <th>1659</th>\n",
       "      <td>702835e4b785b67a084280efca355756</td>\n",
       "      <td>7.600000</td>\n",
       "      <td>1660</td>\n",
       "      <td>99.939795</td>\n",
       "    </tr>\n",
       "    <tr>\n",
       "      <th>1660</th>\n",
       "      <td>77128dec4bec4878c37ab7d6169d6f26</td>\n",
       "      <td>6.500000</td>\n",
       "      <td>1661</td>\n",
       "      <td>100.000000</td>\n",
       "    </tr>\n",
       "  </tbody>\n",
       "</table>\n",
       "<p>1661 rows × 4 columns</p>\n",
       "</div>"
      ],
      "text/plain": [
       "                             seller_id        revenue  rank  top_n_perc\n",
       "0     53243585a1d6dc2643021fd1853d8905  166980.609665     1    0.060205\n",
       "1     7e93a43ef30c4f03f38b393420bc753a  148631.749336     2    0.120409\n",
       "2     4a3ca9315b744ce9f8e9374361493884  117744.740963     3    0.180614\n",
       "3     46dc3b2cc0980fb8ec44634e21d2718e   99757.308632     4    0.240819\n",
       "4     7a67c85e85bb2ce8582c35f2203ad736   93308.301058     5    0.301023\n",
       "...                                ...            ...   ...         ...\n",
       "1656  0f94588695d71662beec8d883ffacf09       9.000000  1657   99.759181\n",
       "1657  ad14615bdd492b01b0d97922e87cb87f       8.250000  1658   99.819386\n",
       "1658  94b9108d4b637ba65bb4f1e53cfcf8d8       7.700000  1659   99.879591\n",
       "1659  702835e4b785b67a084280efca355756       7.600000  1660   99.939795\n",
       "1660  77128dec4bec4878c37ab7d6169d6f26       6.500000  1661  100.000000\n",
       "\n",
       "[1661 rows x 4 columns]"
      ]
     },
     "execution_count": 94,
     "metadata": {},
     "output_type": "execute_result"
    }
   ],
   "source": [
    "# calculate the relative ranks\n",
    "sellers_rev_c = sellers_rev_c.assign(top_n_perc=(sellers_rev_c[\"rank\"]/len(sellers_rev_c))*100)\n",
    "sellers_rev_c"
   ]
  },
  {
   "cell_type": "code",
   "execution_count": 98,
   "metadata": {},
   "outputs": [
    {
     "data": {
      "text/html": [
       "<div>\n",
       "<style scoped>\n",
       "    .dataframe tbody tr th:only-of-type {\n",
       "        vertical-align: middle;\n",
       "    }\n",
       "\n",
       "    .dataframe tbody tr th {\n",
       "        vertical-align: top;\n",
       "    }\n",
       "\n",
       "    .dataframe thead th {\n",
       "        text-align: right;\n",
       "    }\n",
       "</style>\n",
       "<table border=\"1\" class=\"dataframe\">\n",
       "  <thead>\n",
       "    <tr style=\"text-align: right;\">\n",
       "      <th></th>\n",
       "      <th>seller_id</th>\n",
       "      <th>revenue</th>\n",
       "      <th>rank</th>\n",
       "      <th>top_n_perc</th>\n",
       "      <th>cumulative_revenue</th>\n",
       "    </tr>\n",
       "  </thead>\n",
       "  <tbody>\n",
       "    <tr>\n",
       "      <th>0</th>\n",
       "      <td>53243585a1d6dc2643021fd1853d8905</td>\n",
       "      <td>166980.609665</td>\n",
       "      <td>1</td>\n",
       "      <td>0.060205</td>\n",
       "      <td>1.669806e+05</td>\n",
       "    </tr>\n",
       "    <tr>\n",
       "      <th>1</th>\n",
       "      <td>7e93a43ef30c4f03f38b393420bc753a</td>\n",
       "      <td>148631.749336</td>\n",
       "      <td>2</td>\n",
       "      <td>0.120409</td>\n",
       "      <td>3.156124e+05</td>\n",
       "    </tr>\n",
       "    <tr>\n",
       "      <th>2</th>\n",
       "      <td>4a3ca9315b744ce9f8e9374361493884</td>\n",
       "      <td>117744.740963</td>\n",
       "      <td>3</td>\n",
       "      <td>0.180614</td>\n",
       "      <td>4.333571e+05</td>\n",
       "    </tr>\n",
       "    <tr>\n",
       "      <th>3</th>\n",
       "      <td>46dc3b2cc0980fb8ec44634e21d2718e</td>\n",
       "      <td>99757.308632</td>\n",
       "      <td>4</td>\n",
       "      <td>0.240819</td>\n",
       "      <td>5.331144e+05</td>\n",
       "    </tr>\n",
       "    <tr>\n",
       "      <th>4</th>\n",
       "      <td>7a67c85e85bb2ce8582c35f2203ad736</td>\n",
       "      <td>93308.301058</td>\n",
       "      <td>5</td>\n",
       "      <td>0.301023</td>\n",
       "      <td>6.264227e+05</td>\n",
       "    </tr>\n",
       "    <tr>\n",
       "      <th>...</th>\n",
       "      <td>...</td>\n",
       "      <td>...</td>\n",
       "      <td>...</td>\n",
       "      <td>...</td>\n",
       "      <td>...</td>\n",
       "    </tr>\n",
       "    <tr>\n",
       "      <th>1656</th>\n",
       "      <td>0f94588695d71662beec8d883ffacf09</td>\n",
       "      <td>9.000000</td>\n",
       "      <td>1657</td>\n",
       "      <td>99.759181</td>\n",
       "      <td>5.612788e+06</td>\n",
       "    </tr>\n",
       "    <tr>\n",
       "      <th>1657</th>\n",
       "      <td>ad14615bdd492b01b0d97922e87cb87f</td>\n",
       "      <td>8.250000</td>\n",
       "      <td>1658</td>\n",
       "      <td>99.819386</td>\n",
       "      <td>5.612796e+06</td>\n",
       "    </tr>\n",
       "    <tr>\n",
       "      <th>1658</th>\n",
       "      <td>94b9108d4b637ba65bb4f1e53cfcf8d8</td>\n",
       "      <td>7.700000</td>\n",
       "      <td>1659</td>\n",
       "      <td>99.879591</td>\n",
       "      <td>5.612804e+06</td>\n",
       "    </tr>\n",
       "    <tr>\n",
       "      <th>1659</th>\n",
       "      <td>702835e4b785b67a084280efca355756</td>\n",
       "      <td>7.600000</td>\n",
       "      <td>1660</td>\n",
       "      <td>99.939795</td>\n",
       "      <td>5.612811e+06</td>\n",
       "    </tr>\n",
       "    <tr>\n",
       "      <th>1660</th>\n",
       "      <td>77128dec4bec4878c37ab7d6169d6f26</td>\n",
       "      <td>6.500000</td>\n",
       "      <td>1661</td>\n",
       "      <td>100.000000</td>\n",
       "      <td>5.612818e+06</td>\n",
       "    </tr>\n",
       "  </tbody>\n",
       "</table>\n",
       "<p>1661 rows × 5 columns</p>\n",
       "</div>"
      ],
      "text/plain": [
       "                             seller_id        revenue  rank  top_n_perc  \\\n",
       "0     53243585a1d6dc2643021fd1853d8905  166980.609665     1    0.060205   \n",
       "1     7e93a43ef30c4f03f38b393420bc753a  148631.749336     2    0.120409   \n",
       "2     4a3ca9315b744ce9f8e9374361493884  117744.740963     3    0.180614   \n",
       "3     46dc3b2cc0980fb8ec44634e21d2718e   99757.308632     4    0.240819   \n",
       "4     7a67c85e85bb2ce8582c35f2203ad736   93308.301058     5    0.301023   \n",
       "...                                ...            ...   ...         ...   \n",
       "1656  0f94588695d71662beec8d883ffacf09       9.000000  1657   99.759181   \n",
       "1657  ad14615bdd492b01b0d97922e87cb87f       8.250000  1658   99.819386   \n",
       "1658  94b9108d4b637ba65bb4f1e53cfcf8d8       7.700000  1659   99.879591   \n",
       "1659  702835e4b785b67a084280efca355756       7.600000  1660   99.939795   \n",
       "1660  77128dec4bec4878c37ab7d6169d6f26       6.500000  1661  100.000000   \n",
       "\n",
       "      cumulative_revenue  \n",
       "0           1.669806e+05  \n",
       "1           3.156124e+05  \n",
       "2           4.333571e+05  \n",
       "3           5.331144e+05  \n",
       "4           6.264227e+05  \n",
       "...                  ...  \n",
       "1656        5.612788e+06  \n",
       "1657        5.612796e+06  \n",
       "1658        5.612804e+06  \n",
       "1659        5.612811e+06  \n",
       "1660        5.612818e+06  \n",
       "\n",
       "[1661 rows x 5 columns]"
      ]
     },
     "execution_count": 98,
     "metadata": {},
     "output_type": "execute_result"
    }
   ],
   "source": [
    "# calculate cumulative revenue\n",
    "sellers_rev_c = sellers_rev_c.assign(cumulative_revenue=sellers_rev_c[\"revenue\"].cumsum())\n",
    "sellers_rev_c"
   ]
  },
  {
   "cell_type": "code",
   "execution_count": 112,
   "metadata": {},
   "outputs": [
    {
     "data": {
      "text/html": [
       "<div>\n",
       "<style scoped>\n",
       "    .dataframe tbody tr th:only-of-type {\n",
       "        vertical-align: middle;\n",
       "    }\n",
       "\n",
       "    .dataframe tbody tr th {\n",
       "        vertical-align: top;\n",
       "    }\n",
       "\n",
       "    .dataframe thead th {\n",
       "        text-align: right;\n",
       "    }\n",
       "</style>\n",
       "<table border=\"1\" class=\"dataframe\">\n",
       "  <thead>\n",
       "    <tr style=\"text-align: right;\">\n",
       "      <th></th>\n",
       "      <th>seller_id</th>\n",
       "      <th>revenue</th>\n",
       "      <th>rank</th>\n",
       "      <th>top_n_perc</th>\n",
       "      <th>cumulative_revenue</th>\n",
       "      <th>cum_rev_contr</th>\n",
       "    </tr>\n",
       "  </thead>\n",
       "  <tbody>\n",
       "    <tr>\n",
       "      <th>0</th>\n",
       "      <td>53243585a1d6dc2643021fd1853d8905</td>\n",
       "      <td>166980.609665</td>\n",
       "      <td>1</td>\n",
       "      <td>0.060205</td>\n",
       "      <td>1.669806e+05</td>\n",
       "      <td>2.974987</td>\n",
       "    </tr>\n",
       "    <tr>\n",
       "      <th>1</th>\n",
       "      <td>7e93a43ef30c4f03f38b393420bc753a</td>\n",
       "      <td>148631.749336</td>\n",
       "      <td>2</td>\n",
       "      <td>0.120409</td>\n",
       "      <td>3.156124e+05</td>\n",
       "      <td>5.623064</td>\n",
       "    </tr>\n",
       "    <tr>\n",
       "      <th>2</th>\n",
       "      <td>4a3ca9315b744ce9f8e9374361493884</td>\n",
       "      <td>117744.740963</td>\n",
       "      <td>3</td>\n",
       "      <td>0.180614</td>\n",
       "      <td>4.333571e+05</td>\n",
       "      <td>7.720847</td>\n",
       "    </tr>\n",
       "    <tr>\n",
       "      <th>3</th>\n",
       "      <td>46dc3b2cc0980fb8ec44634e21d2718e</td>\n",
       "      <td>99757.308632</td>\n",
       "      <td>4</td>\n",
       "      <td>0.240819</td>\n",
       "      <td>5.331144e+05</td>\n",
       "      <td>9.498160</td>\n",
       "    </tr>\n",
       "    <tr>\n",
       "      <th>4</th>\n",
       "      <td>7a67c85e85bb2ce8582c35f2203ad736</td>\n",
       "      <td>93308.301058</td>\n",
       "      <td>5</td>\n",
       "      <td>0.301023</td>\n",
       "      <td>6.264227e+05</td>\n",
       "      <td>11.160574</td>\n",
       "    </tr>\n",
       "    <tr>\n",
       "      <th>...</th>\n",
       "      <td>...</td>\n",
       "      <td>...</td>\n",
       "      <td>...</td>\n",
       "      <td>...</td>\n",
       "      <td>...</td>\n",
       "      <td>...</td>\n",
       "    </tr>\n",
       "    <tr>\n",
       "      <th>1656</th>\n",
       "      <td>0f94588695d71662beec8d883ffacf09</td>\n",
       "      <td>9.000000</td>\n",
       "      <td>1657</td>\n",
       "      <td>99.759181</td>\n",
       "      <td>5.612788e+06</td>\n",
       "      <td>99.999465</td>\n",
       "    </tr>\n",
       "    <tr>\n",
       "      <th>1657</th>\n",
       "      <td>ad14615bdd492b01b0d97922e87cb87f</td>\n",
       "      <td>8.250000</td>\n",
       "      <td>1658</td>\n",
       "      <td>99.819386</td>\n",
       "      <td>5.612796e+06</td>\n",
       "      <td>99.999612</td>\n",
       "    </tr>\n",
       "    <tr>\n",
       "      <th>1658</th>\n",
       "      <td>94b9108d4b637ba65bb4f1e53cfcf8d8</td>\n",
       "      <td>7.700000</td>\n",
       "      <td>1659</td>\n",
       "      <td>99.879591</td>\n",
       "      <td>5.612804e+06</td>\n",
       "      <td>99.999749</td>\n",
       "    </tr>\n",
       "    <tr>\n",
       "      <th>1659</th>\n",
       "      <td>702835e4b785b67a084280efca355756</td>\n",
       "      <td>7.600000</td>\n",
       "      <td>1660</td>\n",
       "      <td>99.939795</td>\n",
       "      <td>5.612811e+06</td>\n",
       "      <td>99.999884</td>\n",
       "    </tr>\n",
       "    <tr>\n",
       "      <th>1660</th>\n",
       "      <td>77128dec4bec4878c37ab7d6169d6f26</td>\n",
       "      <td>6.500000</td>\n",
       "      <td>1661</td>\n",
       "      <td>100.000000</td>\n",
       "      <td>5.612818e+06</td>\n",
       "      <td>100.000000</td>\n",
       "    </tr>\n",
       "  </tbody>\n",
       "</table>\n",
       "<p>1661 rows × 6 columns</p>\n",
       "</div>"
      ],
      "text/plain": [
       "                             seller_id        revenue  rank  top_n_perc  \\\n",
       "0     53243585a1d6dc2643021fd1853d8905  166980.609665     1    0.060205   \n",
       "1     7e93a43ef30c4f03f38b393420bc753a  148631.749336     2    0.120409   \n",
       "2     4a3ca9315b744ce9f8e9374361493884  117744.740963     3    0.180614   \n",
       "3     46dc3b2cc0980fb8ec44634e21d2718e   99757.308632     4    0.240819   \n",
       "4     7a67c85e85bb2ce8582c35f2203ad736   93308.301058     5    0.301023   \n",
       "...                                ...            ...   ...         ...   \n",
       "1656  0f94588695d71662beec8d883ffacf09       9.000000  1657   99.759181   \n",
       "1657  ad14615bdd492b01b0d97922e87cb87f       8.250000  1658   99.819386   \n",
       "1658  94b9108d4b637ba65bb4f1e53cfcf8d8       7.700000  1659   99.879591   \n",
       "1659  702835e4b785b67a084280efca355756       7.600000  1660   99.939795   \n",
       "1660  77128dec4bec4878c37ab7d6169d6f26       6.500000  1661  100.000000   \n",
       "\n",
       "      cumulative_revenue  cum_rev_contr  \n",
       "0           1.669806e+05       2.974987  \n",
       "1           3.156124e+05       5.623064  \n",
       "2           4.333571e+05       7.720847  \n",
       "3           5.331144e+05       9.498160  \n",
       "4           6.264227e+05      11.160574  \n",
       "...                  ...            ...  \n",
       "1656        5.612788e+06      99.999465  \n",
       "1657        5.612796e+06      99.999612  \n",
       "1658        5.612804e+06      99.999749  \n",
       "1659        5.612811e+06      99.999884  \n",
       "1660        5.612818e+06     100.000000  \n",
       "\n",
       "[1661 rows x 6 columns]"
      ]
     },
     "execution_count": 112,
     "metadata": {},
     "output_type": "execute_result"
    }
   ],
   "source": [
    "# calculate cumulative revenue contribution\n",
    "sellers_rev_c = sellers_rev_c.assign(cum_rev_contr=sellers_rev_c[\"cumulative_revenue\"]*100/sellers_rev_c[\"revenue\"].sum())\n",
    "sellers_rev_c"
   ]
  },
  {
   "cell_type": "code",
   "execution_count": 113,
   "metadata": {},
   "outputs": [
    {
     "data": {
      "text/html": [
       "<div>\n",
       "<style scoped>\n",
       "    .dataframe tbody tr th:only-of-type {\n",
       "        vertical-align: middle;\n",
       "    }\n",
       "\n",
       "    .dataframe tbody tr th {\n",
       "        vertical-align: top;\n",
       "    }\n",
       "\n",
       "    .dataframe thead th {\n",
       "        text-align: right;\n",
       "    }\n",
       "</style>\n",
       "<table border=\"1\" class=\"dataframe\">\n",
       "  <thead>\n",
       "    <tr style=\"text-align: right;\">\n",
       "      <th></th>\n",
       "      <th>seller_id</th>\n",
       "      <th>revenue</th>\n",
       "      <th>rank</th>\n",
       "      <th>top_n_perc</th>\n",
       "      <th>cumulative_revenue</th>\n",
       "      <th>cum_rev_contr</th>\n",
       "    </tr>\n",
       "  </thead>\n",
       "  <tbody>\n",
       "    <tr>\n",
       "      <th>0</th>\n",
       "      <td>53243585a1d6dc2643021fd1853d8905</td>\n",
       "      <td>166980.609665</td>\n",
       "      <td>1</td>\n",
       "      <td>0.060205</td>\n",
       "      <td>1.669806e+05</td>\n",
       "      <td>2.974987</td>\n",
       "    </tr>\n",
       "    <tr>\n",
       "      <th>1</th>\n",
       "      <td>7e93a43ef30c4f03f38b393420bc753a</td>\n",
       "      <td>148631.749336</td>\n",
       "      <td>2</td>\n",
       "      <td>0.120409</td>\n",
       "      <td>3.156124e+05</td>\n",
       "      <td>5.623064</td>\n",
       "    </tr>\n",
       "    <tr>\n",
       "      <th>2</th>\n",
       "      <td>4a3ca9315b744ce9f8e9374361493884</td>\n",
       "      <td>117744.740963</td>\n",
       "      <td>3</td>\n",
       "      <td>0.180614</td>\n",
       "      <td>4.333571e+05</td>\n",
       "      <td>7.720847</td>\n",
       "    </tr>\n",
       "    <tr>\n",
       "      <th>3</th>\n",
       "      <td>46dc3b2cc0980fb8ec44634e21d2718e</td>\n",
       "      <td>99757.308632</td>\n",
       "      <td>4</td>\n",
       "      <td>0.240819</td>\n",
       "      <td>5.331144e+05</td>\n",
       "      <td>9.498160</td>\n",
       "    </tr>\n",
       "    <tr>\n",
       "      <th>4</th>\n",
       "      <td>7a67c85e85bb2ce8582c35f2203ad736</td>\n",
       "      <td>93308.301058</td>\n",
       "      <td>5</td>\n",
       "      <td>0.301023</td>\n",
       "      <td>6.264227e+05</td>\n",
       "      <td>11.160574</td>\n",
       "    </tr>\n",
       "    <tr>\n",
       "      <th>5</th>\n",
       "      <td>7c67e1448b00f6e969d365cea6b010ab</td>\n",
       "      <td>90890.601206</td>\n",
       "      <td>6</td>\n",
       "      <td>0.361228</td>\n",
       "      <td>7.173133e+05</td>\n",
       "      <td>12.779914</td>\n",
       "    </tr>\n",
       "    <tr>\n",
       "      <th>6</th>\n",
       "      <td>fa1c13f2614d7b5c4749cbc52fecda94</td>\n",
       "      <td>89827.689400</td>\n",
       "      <td>7</td>\n",
       "      <td>0.421433</td>\n",
       "      <td>8.071410e+05</td>\n",
       "      <td>14.380317</td>\n",
       "    </tr>\n",
       "    <tr>\n",
       "      <th>7</th>\n",
       "      <td>4869f7a5dfa277a7dca6462dcf3b52b2</td>\n",
       "      <td>80614.929192</td>\n",
       "      <td>8</td>\n",
       "      <td>0.481638</td>\n",
       "      <td>8.877559e+05</td>\n",
       "      <td>15.816582</td>\n",
       "    </tr>\n",
       "    <tr>\n",
       "      <th>8</th>\n",
       "      <td>cc419e0650a3c5ba77189a1882b7556a</td>\n",
       "      <td>65519.720114</td>\n",
       "      <td>9</td>\n",
       "      <td>0.541842</td>\n",
       "      <td>9.532756e+05</td>\n",
       "      <td>16.983905</td>\n",
       "    </tr>\n",
       "    <tr>\n",
       "      <th>9</th>\n",
       "      <td>da8622b14eb17ae2831f4ac5b9dab84a</td>\n",
       "      <td>63248.099596</td>\n",
       "      <td>10</td>\n",
       "      <td>0.602047</td>\n",
       "      <td>1.016524e+06</td>\n",
       "      <td>18.110756</td>\n",
       "    </tr>\n",
       "    <tr>\n",
       "      <th>10</th>\n",
       "      <td>620c87c171fb2a6dd6e8bb4dec959fc6</td>\n",
       "      <td>57279.049164</td>\n",
       "      <td>11</td>\n",
       "      <td>0.662252</td>\n",
       "      <td>1.073803e+06</td>\n",
       "      <td>19.131260</td>\n",
       "    </tr>\n",
       "    <tr>\n",
       "      <th>11</th>\n",
       "      <td>5dceca129747e92ff8ef7a997dc4f8ca</td>\n",
       "      <td>54553.809786</td>\n",
       "      <td>12</td>\n",
       "      <td>0.722456</td>\n",
       "      <td>1.128357e+06</td>\n",
       "      <td>20.103211</td>\n",
       "    </tr>\n",
       "    <tr>\n",
       "      <th>12</th>\n",
       "      <td>1f50f920176fa81dab994f9023523100</td>\n",
       "      <td>54552.791012</td>\n",
       "      <td>13</td>\n",
       "      <td>0.782661</td>\n",
       "      <td>1.182909e+06</td>\n",
       "      <td>21.075143</td>\n",
       "    </tr>\n",
       "    <tr>\n",
       "      <th>13</th>\n",
       "      <td>cca3071e3e9bb7d12640c9fbe2301306</td>\n",
       "      <td>53659.760125</td>\n",
       "      <td>14</td>\n",
       "      <td>0.842866</td>\n",
       "      <td>1.236569e+06</td>\n",
       "      <td>22.031165</td>\n",
       "    </tr>\n",
       "    <tr>\n",
       "      <th>14</th>\n",
       "      <td>37be5a7c751166fbc5f8ccba4119e043</td>\n",
       "      <td>52919.580093</td>\n",
       "      <td>15</td>\n",
       "      <td>0.903070</td>\n",
       "      <td>1.289489e+06</td>\n",
       "      <td>22.973999</td>\n",
       "    </tr>\n",
       "    <tr>\n",
       "      <th>15</th>\n",
       "      <td>6560211a19b47992c3666cc44a7e94c0</td>\n",
       "      <td>51295.910015</td>\n",
       "      <td>16</td>\n",
       "      <td>0.963275</td>\n",
       "      <td>1.340785e+06</td>\n",
       "      <td>23.887906</td>\n",
       "    </tr>\n",
       "    <tr>\n",
       "      <th>16</th>\n",
       "      <td>3d871de0142ce09b7081e2b9d1733cb1</td>\n",
       "      <td>45616.500065</td>\n",
       "      <td>17</td>\n",
       "      <td>1.023480</td>\n",
       "      <td>1.386401e+06</td>\n",
       "      <td>24.700626</td>\n",
       "    </tr>\n",
       "    <tr>\n",
       "      <th>17</th>\n",
       "      <td>8581055ce74af1daba164fdbd55a40de</td>\n",
       "      <td>43685.870234</td>\n",
       "      <td>18</td>\n",
       "      <td>1.083685</td>\n",
       "      <td>1.430087e+06</td>\n",
       "      <td>25.478949</td>\n",
       "    </tr>\n",
       "    <tr>\n",
       "      <th>18</th>\n",
       "      <td>25c5c91f63607446a97b143d2d535d31</td>\n",
       "      <td>41700.159561</td>\n",
       "      <td>19</td>\n",
       "      <td>1.143889</td>\n",
       "      <td>1.471787e+06</td>\n",
       "      <td>26.221895</td>\n",
       "    </tr>\n",
       "    <tr>\n",
       "      <th>19</th>\n",
       "      <td>ccc4bbb5f32a6ab2b7066a4130f114e3</td>\n",
       "      <td>39427.129608</td>\n",
       "      <td>20</td>\n",
       "      <td>1.204094</td>\n",
       "      <td>1.511214e+06</td>\n",
       "      <td>26.924343</td>\n",
       "    </tr>\n",
       "  </tbody>\n",
       "</table>\n",
       "</div>"
      ],
      "text/plain": [
       "                           seller_id        revenue  rank  top_n_perc  \\\n",
       "0   53243585a1d6dc2643021fd1853d8905  166980.609665     1    0.060205   \n",
       "1   7e93a43ef30c4f03f38b393420bc753a  148631.749336     2    0.120409   \n",
       "2   4a3ca9315b744ce9f8e9374361493884  117744.740963     3    0.180614   \n",
       "3   46dc3b2cc0980fb8ec44634e21d2718e   99757.308632     4    0.240819   \n",
       "4   7a67c85e85bb2ce8582c35f2203ad736   93308.301058     5    0.301023   \n",
       "5   7c67e1448b00f6e969d365cea6b010ab   90890.601206     6    0.361228   \n",
       "6   fa1c13f2614d7b5c4749cbc52fecda94   89827.689400     7    0.421433   \n",
       "7   4869f7a5dfa277a7dca6462dcf3b52b2   80614.929192     8    0.481638   \n",
       "8   cc419e0650a3c5ba77189a1882b7556a   65519.720114     9    0.541842   \n",
       "9   da8622b14eb17ae2831f4ac5b9dab84a   63248.099596    10    0.602047   \n",
       "10  620c87c171fb2a6dd6e8bb4dec959fc6   57279.049164    11    0.662252   \n",
       "11  5dceca129747e92ff8ef7a997dc4f8ca   54553.809786    12    0.722456   \n",
       "12  1f50f920176fa81dab994f9023523100   54552.791012    13    0.782661   \n",
       "13  cca3071e3e9bb7d12640c9fbe2301306   53659.760125    14    0.842866   \n",
       "14  37be5a7c751166fbc5f8ccba4119e043   52919.580093    15    0.903070   \n",
       "15  6560211a19b47992c3666cc44a7e94c0   51295.910015    16    0.963275   \n",
       "16  3d871de0142ce09b7081e2b9d1733cb1   45616.500065    17    1.023480   \n",
       "17  8581055ce74af1daba164fdbd55a40de   43685.870234    18    1.083685   \n",
       "18  25c5c91f63607446a97b143d2d535d31   41700.159561    19    1.143889   \n",
       "19  ccc4bbb5f32a6ab2b7066a4130f114e3   39427.129608    20    1.204094   \n",
       "\n",
       "    cumulative_revenue  cum_rev_contr  \n",
       "0         1.669806e+05       2.974987  \n",
       "1         3.156124e+05       5.623064  \n",
       "2         4.333571e+05       7.720847  \n",
       "3         5.331144e+05       9.498160  \n",
       "4         6.264227e+05      11.160574  \n",
       "5         7.173133e+05      12.779914  \n",
       "6         8.071410e+05      14.380317  \n",
       "7         8.877559e+05      15.816582  \n",
       "8         9.532756e+05      16.983905  \n",
       "9         1.016524e+06      18.110756  \n",
       "10        1.073803e+06      19.131260  \n",
       "11        1.128357e+06      20.103211  \n",
       "12        1.182909e+06      21.075143  \n",
       "13        1.236569e+06      22.031165  \n",
       "14        1.289489e+06      22.973999  \n",
       "15        1.340785e+06      23.887906  \n",
       "16        1.386401e+06      24.700626  \n",
       "17        1.430087e+06      25.478949  \n",
       "18        1.471787e+06      26.221895  \n",
       "19        1.511214e+06      26.924343  "
      ]
     },
     "execution_count": 113,
     "metadata": {},
     "output_type": "execute_result"
    }
   ],
   "source": [
    "sellers_rev_c.head(20)"
   ]
  },
  {
   "cell_type": "markdown",
   "metadata": {},
   "source": [
    "The top 1%, which is represented by the 17 top sellers, account for approx. a quarter (25%) of total revenue in 2017"
   ]
  }
 ],
 "metadata": {
  "kernelspec": {
   "display_name": "Python 3",
   "language": "python",
   "name": "python3"
  },
  "language_info": {
   "codemirror_mode": {
    "name": "ipython",
    "version": 3
   },
   "file_extension": ".py",
   "mimetype": "text/x-python",
   "name": "python",
   "nbconvert_exporter": "python",
   "pygments_lexer": "ipython3",
   "version": "3.7.5"
  }
 },
 "nbformat": 4,
 "nbformat_minor": 2
}
