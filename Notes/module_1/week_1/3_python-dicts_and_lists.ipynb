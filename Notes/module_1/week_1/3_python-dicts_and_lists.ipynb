{
 "cells": [
  {
   "cell_type": "markdown",
   "metadata": {},
   "source": [
    "# 3. Python Data Structures - Using `dicts` and `lists`"
   ]
  },
  {
   "cell_type": "code",
   "execution_count": 1,
   "metadata": {},
   "outputs": [],
   "source": [
    "shoppers = [1, 12, 39, 23, 12, 13, 15]"
   ]
  },
  {
   "cell_type": "code",
   "execution_count": 2,
   "metadata": {},
   "outputs": [
    {
     "data": {
      "text/plain": [
       "[1, 12, 39, 23, 12, 13, 15]"
      ]
     },
     "execution_count": 2,
     "metadata": {},
     "output_type": "execute_result"
    }
   ],
   "source": [
    "shoppers"
   ]
  },
  {
   "cell_type": "code",
   "execution_count": 3,
   "metadata": {},
   "outputs": [
    {
     "data": {
      "text/plain": [
       "1"
      ]
     },
     "execution_count": 3,
     "metadata": {},
     "output_type": "execute_result"
    }
   ],
   "source": [
    "shoppers[0]"
   ]
  },
  {
   "cell_type": "code",
   "execution_count": 4,
   "metadata": {},
   "outputs": [
    {
     "name": "stdout",
     "output_type": "stream",
     "text": [
      "Chocolate\n"
     ]
    }
   ],
   "source": [
    "if shoppers[0] < 10:\n",
    "    print(\"Chocolate\")\n",
    "elif shoppers[0] < 20:\n",
    "    print(\"Umbrella\")\n",
    "elif shoppers[0] < 30:\n",
    "    print(\"Small Bike\")\n",
    "else:\n",
    "    print(\"Big Bike\")"
   ]
  },
  {
   "cell_type": "code",
   "execution_count": 5,
   "metadata": {},
   "outputs": [
    {
     "name": "stdout",
     "output_type": "stream",
     "text": [
      "Umbrella\n"
     ]
    }
   ],
   "source": [
    "if shoppers[1] < 10:\n",
    "    print(\"Chocolate\")\n",
    "elif shoppers[1] < 20:\n",
    "    print(\"Umbrella\")\n",
    "elif shoppers[1] < 30:\n",
    "    print(\"Small Bike\")\n",
    "else:\n",
    "    print(\"Big Bike\")"
   ]
  },
  {
   "cell_type": "code",
   "execution_count": 6,
   "metadata": {},
   "outputs": [
    {
     "name": "stdout",
     "output_type": "stream",
     "text": [
      "Chocolate\n",
      "Umbrella\n",
      "Big Bike\n",
      "Small Bike\n",
      "Umbrella\n",
      "Umbrella\n",
      "Umbrella\n"
     ]
    }
   ],
   "source": [
    "for price in shoppers:\n",
    "    if price < 10:\n",
    "        print(\"Chocolate\")\n",
    "    elif price < 20:\n",
    "        print(\"Umbrella\")\n",
    "    elif price < 30:\n",
    "        print(\"Small Bike\")\n",
    "    else:\n",
    "        print(\"Big Bike\")"
   ]
  },
  {
   "cell_type": "code",
   "execution_count": null,
   "metadata": {},
   "outputs": [],
   "source": [
    "gifts = {1: \"Chocolate\",\n",
    "         2: \"Chocolate\",\n",
    "         3: \"Chocolate\",\n",
    "         ...\n",
    "         10: \"Umbrella\",\n",
    "         11: \"Umbrella\",\n",
    "         \n",
    "         }"
   ]
  },
  {
   "cell_type": "code",
   "execution_count": 8,
   "metadata": {},
   "outputs": [
    {
     "data": {
      "text/plain": [
       "0"
      ]
     },
     "execution_count": 8,
     "metadata": {},
     "output_type": "execute_result"
    }
   ],
   "source": [
    "int(shoppers[0]/10)"
   ]
  },
  {
   "cell_type": "code",
   "execution_count": 9,
   "metadata": {},
   "outputs": [
    {
     "data": {
      "text/plain": [
       "2"
      ]
     },
     "execution_count": 9,
     "metadata": {},
     "output_type": "execute_result"
    }
   ],
   "source": [
    "int(23/10)"
   ]
  },
  {
   "cell_type": "code",
   "execution_count": 10,
   "metadata": {},
   "outputs": [
    {
     "data": {
      "text/plain": [
       "3"
      ]
     },
     "execution_count": 10,
     "metadata": {},
     "output_type": "execute_result"
    }
   ],
   "source": [
    "int(31/10)"
   ]
  },
  {
   "cell_type": "code",
   "execution_count": 12,
   "metadata": {},
   "outputs": [],
   "source": [
    "gifts = {0: \"Chocolate\",\n",
    "         1: \"Umbrella\",\n",
    "         2: \"Small Bike\",\n",
    "         3: \"Big Bike\",\n",
    "         4: \"Big Bike\"}"
   ]
  },
  {
   "cell_type": "code",
   "execution_count": 15,
   "metadata": {},
   "outputs": [
    {
     "data": {
      "text/plain": [
       "'Big Bike'"
      ]
     },
     "execution_count": 15,
     "metadata": {},
     "output_type": "execute_result"
    }
   ],
   "source": [
    "gifts[4]"
   ]
  },
  {
   "cell_type": "code",
   "execution_count": 16,
   "metadata": {},
   "outputs": [
    {
     "name": "stdout",
     "output_type": "stream",
     "text": [
      "Chocolate\n",
      "Umbrella\n",
      "Big Bike\n",
      "Small Bike\n",
      "Umbrella\n",
      "Umbrella\n",
      "Umbrella\n"
     ]
    }
   ],
   "source": [
    "for price in shoppers:\n",
    "    p = int(price/10)\n",
    "    print(gifts[p])"
   ]
  },
  {
   "cell_type": "code",
   "execution_count": 17,
   "metadata": {},
   "outputs": [],
   "source": [
    "gifts_list = [\"Chocolate\", \"Umbrella\", \"Small Bike\", \"Big Bike\", \"Big Bike\"]"
   ]
  },
  {
   "cell_type": "code",
   "execution_count": 18,
   "metadata": {},
   "outputs": [
    {
     "name": "stdout",
     "output_type": "stream",
     "text": [
      "Chocolate\n",
      "Umbrella\n",
      "Big Bike\n",
      "Small Bike\n",
      "Umbrella\n",
      "Umbrella\n",
      "Umbrella\n"
     ]
    }
   ],
   "source": [
    "for price in shoppers:\n",
    "    p = int(price/10)\n",
    "    print(gifts_list[p])"
   ]
  },
  {
   "cell_type": "markdown",
   "metadata": {},
   "source": [
    "Passing functions as values to a `dict`"
   ]
  },
  {
   "cell_type": "code",
   "execution_count": 19,
   "metadata": {},
   "outputs": [],
   "source": [
    "def gift_chocolate():\n",
    "    print(\"Chocolate\")"
   ]
  },
  {
   "cell_type": "code",
   "execution_count": 20,
   "metadata": {},
   "outputs": [
    {
     "name": "stdout",
     "output_type": "stream",
     "text": [
      "Chocolate\n"
     ]
    }
   ],
   "source": [
    "gift_chocolate()"
   ]
  },
  {
   "cell_type": "code",
   "execution_count": 21,
   "metadata": {},
   "outputs": [],
   "source": [
    "def gift_umbrella():\n",
    "    print(\"Umbrella\")\n",
    "    \n",
    "def gift_small_bike():\n",
    "    print(\"Small Bike\")\n",
    "    \n",
    "def gift_big_bike():\n",
    "    print(\"DELIVER BIG BIKE\")"
   ]
  },
  {
   "cell_type": "code",
   "execution_count": 23,
   "metadata": {},
   "outputs": [
    {
     "name": "stdout",
     "output_type": "stream",
     "text": [
      "Chocolate\n",
      "Umbrella\n",
      "Small Bike\n",
      "DELIVER BIG BIKE\n",
      "DELIVER BIG BIKE\n"
     ]
    }
   ],
   "source": [
    "gifts_2 = {0: gift_chocolate(),\n",
    "           1: gift_umbrella(),\n",
    "           2: gift_small_bike(),\n",
    "           3: gift_big_bike(),\n",
    "           4: gift_big_bike()}"
   ]
  },
  {
   "cell_type": "code",
   "execution_count": 24,
   "metadata": {},
   "outputs": [
    {
     "data": {
      "text/plain": [
       "{0: None, 1: None, 2: None, 3: None, 4: None}"
      ]
     },
     "execution_count": 24,
     "metadata": {},
     "output_type": "execute_result"
    }
   ],
   "source": [
    "gifts_2"
   ]
  },
  {
   "cell_type": "code",
   "execution_count": 25,
   "metadata": {},
   "outputs": [],
   "source": [
    "gifts_3 = {0: gift_chocolate,\n",
    "           1: gift_umbrella,\n",
    "           2: gift_small_bike,\n",
    "           3: gift_big_bike,\n",
    "           4: gift_big_bike}"
   ]
  },
  {
   "cell_type": "code",
   "execution_count": 26,
   "metadata": {},
   "outputs": [
    {
     "data": {
      "text/plain": [
       "{0: <function __main__.gift_chocolate()>,\n",
       " 1: <function __main__.gift_umbrella()>,\n",
       " 2: <function __main__.gift_small_bike()>,\n",
       " 3: <function __main__.gift_big_bike()>,\n",
       " 4: <function __main__.gift_big_bike()>}"
      ]
     },
     "execution_count": 26,
     "metadata": {},
     "output_type": "execute_result"
    }
   ],
   "source": [
    "gifts_3"
   ]
  },
  {
   "cell_type": "code",
   "execution_count": 28,
   "metadata": {},
   "outputs": [
    {
     "name": "stdout",
     "output_type": "stream",
     "text": [
      "Chocolate\n"
     ]
    }
   ],
   "source": [
    "gifts_3[0]()"
   ]
  },
  {
   "cell_type": "code",
   "execution_count": 30,
   "metadata": {},
   "outputs": [
    {
     "name": "stdout",
     "output_type": "stream",
     "text": [
      "Chocolate\n",
      "Umbrella\n",
      "DELIVER BIG BIKE\n",
      "Small Bike\n",
      "Umbrella\n",
      "Umbrella\n",
      "Umbrella\n"
     ]
    }
   ],
   "source": [
    "for price in shoppers:\n",
    "    p = int(price/10)\n",
    "    gifts_3[p]()"
   ]
  },
  {
   "cell_type": "markdown",
   "metadata": {},
   "source": [
    "## Using `dict`s to keep score"
   ]
  },
  {
   "cell_type": "code",
   "execution_count": 36,
   "metadata": {},
   "outputs": [],
   "source": [
    "text = \"Fischers Fritz fischt frische Fische\" # I'm a comment"
   ]
  },
  {
   "cell_type": "code",
   "execution_count": 37,
   "metadata": {},
   "outputs": [],
   "source": [
    "# remove case sensitivity\n",
    "text = text.lower()"
   ]
  },
  {
   "cell_type": "code",
   "execution_count": null,
   "metadata": {},
   "outputs": [],
   "source": [
    "# 1. create empty dictionary\n",
    "# 2. iterate over each letter in text\n",
    "# 3.1 if letter does not exist in dictionary, add it as a new key and set the value to 1\n",
    "# 3.2 if letter does exists in dictionary, incement value of it's corresponding key by 1"
   ]
  },
  {
   "cell_type": "code",
   "execution_count": 63,
   "metadata": {},
   "outputs": [],
   "source": [
    "# 1. create empty dictionary\n",
    "letter_occurences = {}\n",
    "\n",
    "# 2. iterate over each letter in text\n",
    "for letter in text:\n",
    "    # 3.1 if letter does not exist in dictionary, add it as a new key and set the value to 1\n",
    "    if letter not in letter_occurences:\n",
    "        letter_occurences[letter] = 1\n",
    "    # 3.2 if letter does exists in dictionary, incement value of it's corresponding key by 1\n",
    "    else:\n",
    "        # letter_occurences[letter] = letter_occurences[letter] + 1\n",
    "        letter_occurences[letter] += 1"
   ]
  },
  {
   "cell_type": "code",
   "execution_count": 60,
   "metadata": {},
   "outputs": [],
   "source": [
    "# Alternative\n",
    "\n",
    "# 1. create empty dictionary\n",
    "letter_occurences = {}\n",
    "\n",
    "# 2. iterate over each letter in text\n",
    "for letter in text:\n",
    "    # 3.1 if letter does not exist in dictionary, add it as a new key and set the value to 1\n",
    "    # 3.2 if letter does exists in dictionary, incement value of it's corresponding key by 1\n",
    "    letter_occurences[letter] = letter_occurences.get(letter, 0) + 1\n"
   ]
  },
  {
   "cell_type": "code",
   "execution_count": 64,
   "metadata": {},
   "outputs": [
    {
     "data": {
      "text/plain": [
       "{'f': 5,\n",
       " 'i': 5,\n",
       " 's': 5,\n",
       " 'c': 4,\n",
       " 'h': 4,\n",
       " 'e': 3,\n",
       " 'r': 3,\n",
       " ' ': 4,\n",
       " 't': 2,\n",
       " 'z': 1}"
      ]
     },
     "execution_count": 64,
     "metadata": {},
     "output_type": "execute_result"
    }
   ],
   "source": [
    "letter_occurences"
   ]
  },
  {
   "cell_type": "code",
   "execution_count": 57,
   "metadata": {},
   "outputs": [
    {
     "data": {
      "text/plain": [
       "4"
      ]
     },
     "execution_count": 57,
     "metadata": {},
     "output_type": "execute_result"
    }
   ],
   "source": [
    "letter_occurences[\"h\"]"
   ]
  },
  {
   "cell_type": "markdown",
   "metadata": {},
   "source": [
    "## Handling `list`s of `dict`s\n",
    "\n",
    "\n",
    "#### Sidetrack: String interpolation"
   ]
  },
  {
   "cell_type": "code",
   "execution_count": 65,
   "metadata": {},
   "outputs": [],
   "source": [
    "name = \"Liz\""
   ]
  },
  {
   "cell_type": "code",
   "execution_count": 67,
   "metadata": {},
   "outputs": [
    {
     "data": {
      "text/plain": [
       "'My name is Liz'"
      ]
     },
     "execution_count": 67,
     "metadata": {},
     "output_type": "execute_result"
    }
   ],
   "source": [
    "\"My name is \" + name"
   ]
  },
  {
   "cell_type": "code",
   "execution_count": 68,
   "metadata": {},
   "outputs": [
    {
     "name": "stdout",
     "output_type": "stream",
     "text": [
      "My name is Liz\n"
     ]
    }
   ],
   "source": [
    "print(f\"My name is {name}\")"
   ]
  },
  {
   "cell_type": "code",
   "execution_count": 69,
   "metadata": {},
   "outputs": [
    {
     "name": "stdout",
     "output_type": "stream",
     "text": [
      "My name is liz\n"
     ]
    }
   ],
   "source": [
    "print(f\"My name is {name.lower()}\")"
   ]
  },
  {
   "cell_type": "code",
   "execution_count": 71,
   "metadata": {},
   "outputs": [
    {
     "name": "stdout",
     "output_type": "stream",
     "text": [
      "My name is LizLizLizLizLiz\n"
     ]
    }
   ],
   "source": [
    "print(f\"My name is {name * 5}\")"
   ]
  },
  {
   "cell_type": "code",
   "execution_count": 74,
   "metadata": {},
   "outputs": [
    {
     "name": "stdout",
     "output_type": "stream",
     "text": [
      "Liz plus LizLiz\n"
     ]
    }
   ],
   "source": [
    "print(f\"{name} plus {name + name}\")"
   ]
  },
  {
   "cell_type": "markdown",
   "metadata": {},
   "source": [
    "----"
   ]
  },
  {
   "cell_type": "code",
   "execution_count": 82,
   "metadata": {},
   "outputs": [],
   "source": [
    "fruits = [\n",
    "    {\"name\": \"Liz\",\n",
    "     \"fruit\": \"Apple\",\n",
    "     \"quantity\": 6},\n",
    "    {\"name\": \"Mano\",\n",
    "     \"fruit\": \"Orange\",\n",
    "     \"quantity\": 10},\n",
    "    {\"name\": \"Jan\",\n",
    "     \"fruit\": \"Grapefruit\",\n",
    "     \"quantity\": 1}]\n"
   ]
  },
  {
   "cell_type": "code",
   "execution_count": 83,
   "metadata": {},
   "outputs": [
    {
     "data": {
      "text/plain": [
       "[{'name': 'Liz', 'fruit': 'Apple', 'quantity': 6},\n",
       " {'name': 'Mano', 'fruit': 'Orange', 'quantity': 10},\n",
       " {'name': 'Jan', 'fruit': 'Grapefruit', 'quantity': 1}]"
      ]
     },
     "execution_count": 83,
     "metadata": {},
     "output_type": "execute_result"
    }
   ],
   "source": [
    "fruits"
   ]
  },
  {
   "cell_type": "code",
   "execution_count": 84,
   "metadata": {},
   "outputs": [
    {
     "name": "stdout",
     "output_type": "stream",
     "text": [
      "Liz\n",
      "Mano\n",
      "Jan\n"
     ]
    }
   ],
   "source": [
    "for purchase in fruits:\n",
    "    # print a sentence for each purchase like this: \"{some shopper} has purchased {n} {fruits}\"\n",
    "    print(f\"{purchase['name']}\")"
   ]
  },
  {
   "cell_type": "code",
   "execution_count": 85,
   "metadata": {},
   "outputs": [
    {
     "name": "stdout",
     "output_type": "stream",
     "text": [
      "Liz has purchased 6 Apple\n",
      "Mano has purchased 10 Orange\n",
      "Jan has purchased 1 Grapefruit\n"
     ]
    }
   ],
   "source": [
    "for purchase in fruits:\n",
    "    # print a sentence for each purchase like this: \"{some shopper} has purchased {n} {fruits}\"\n",
    "    print(f\"{purchase['name']} has purchased {purchase['quantity']} {purchase['fruit']}\")"
   ]
  },
  {
   "cell_type": "code",
   "execution_count": 86,
   "metadata": {},
   "outputs": [
    {
     "name": "stdout",
     "output_type": "stream",
     "text": [
      "Liz has purchased 6 Apple\n",
      "Mano has purchased 10 Orange\n",
      "Jan has purchased 1 Grapefruit\n"
     ]
    }
   ],
   "source": [
    "for purchase in fruits:\n",
    "    # print a sentence for each purchase like this: \"{some shopper} has purchased {n} {fruits}\"\n",
    "    print(f\"{purchase['name']} has purchased {purchase['quantity']} {purchase['fruit']}\")"
   ]
  },
  {
   "cell_type": "markdown",
   "metadata": {},
   "source": [
    "Introducing the ternary operator"
   ]
  },
  {
   "cell_type": "code",
   "execution_count": 87,
   "metadata": {},
   "outputs": [
    {
     "name": "stdout",
     "output_type": "stream",
     "text": [
      "True\n"
     ]
    }
   ],
   "source": [
    "if 1 == 1:\n",
    "    print(True)"
   ]
  },
  {
   "cell_type": "code",
   "execution_count": 88,
   "metadata": {},
   "outputs": [
    {
     "name": "stdout",
     "output_type": "stream",
     "text": [
      "True\n"
     ]
    }
   ],
   "source": [
    "print(True if 1 == 1 else False)"
   ]
  },
  {
   "cell_type": "code",
   "execution_count": 90,
   "metadata": {},
   "outputs": [
    {
     "name": "stdout",
     "output_type": "stream",
     "text": [
      "Liz has purchased 6 Apples\n",
      "Mano has purchased 10 Oranges\n",
      "Jan has purchased 1 Grapefruit\n"
     ]
    }
   ],
   "source": [
    "for purchase in fruits:\n",
    "    # print a sentence for each purchase like this: \"{some shopper} has purchased {n} {fruits}\"\n",
    "    print(f\"{purchase['name']} has purchased {purchase['quantity']} {purchase['fruit'] if purchase['quantity'] == 1 else purchase['fruit']+'s'}\")"
   ]
  }
 ],
 "metadata": {
  "kernelspec": {
   "display_name": "Python 3",
   "language": "python",
   "name": "python3"
  },
  "language_info": {
   "codemirror_mode": {
    "name": "ipython",
    "version": 3
   },
   "file_extension": ".py",
   "mimetype": "text/x-python",
   "name": "python",
   "nbconvert_exporter": "python",
   "pygments_lexer": "ipython3",
   "version": "3.7.5"
  }
 },
 "nbformat": 4,
 "nbformat_minor": 2
}
