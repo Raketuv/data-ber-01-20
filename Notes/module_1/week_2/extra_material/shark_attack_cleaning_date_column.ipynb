{
 "cells": [
  {
   "cell_type": "code",
   "execution_count": 13,
   "metadata": {},
   "outputs": [],
   "source": [
    "import pandas as pd\n",
    "import numpy as np\n",
    "import re\n",
    "\n",
    "pd.set_option(\"display.max_rows\", 1538)"
   ]
  },
  {
   "cell_type": "code",
   "execution_count": 6,
   "metadata": {},
   "outputs": [],
   "source": [
    "df = pd.read_csv(\"data/GSAF5.csv\", encoding = \"ISO-8859-1\")"
   ]
  },
  {
   "cell_type": "code",
   "execution_count": 7,
   "metadata": {},
   "outputs": [
    {
     "data": {
      "text/html": "<div>\n<style scoped>\n    .dataframe tbody tr th:only-of-type {\n        vertical-align: middle;\n    }\n\n    .dataframe tbody tr th {\n        vertical-align: top;\n    }\n\n    .dataframe thead th {\n        text-align: right;\n    }\n</style>\n<table border=\"1\" class=\"dataframe\">\n  <thead>\n    <tr style=\"text-align: right;\">\n      <th></th>\n      <th>Case Number</th>\n      <th>Date</th>\n      <th>Year</th>\n      <th>Type</th>\n      <th>Country</th>\n      <th>Area</th>\n      <th>Location</th>\n      <th>Activity</th>\n      <th>Name</th>\n      <th>Sex</th>\n      <th>...</th>\n      <th>Species</th>\n      <th>Investigator or Source</th>\n      <th>pdf</th>\n      <th>href formula</th>\n      <th>href</th>\n      <th>Case Number.1</th>\n      <th>Case Number.2</th>\n      <th>original order</th>\n      <th>Unnamed: 22</th>\n      <th>Unnamed: 23</th>\n    </tr>\n  </thead>\n  <tbody>\n    <tr>\n      <th>0</th>\n      <td>2016.09.18.c</td>\n      <td>18-Sep-16</td>\n      <td>2016</td>\n      <td>Unprovoked</td>\n      <td>USA</td>\n      <td>Florida</td>\n      <td>New Smyrna Beach, Volusia County</td>\n      <td>Surfing</td>\n      <td>male</td>\n      <td>M</td>\n      <td>...</td>\n      <td>NaN</td>\n      <td>Orlando Sentinel, 9/19/2016</td>\n      <td>2016.09.18.c-NSB.pdf</td>\n      <td>http://sharkattackfile.net/spreadsheets/pdf_di...</td>\n      <td>http://sharkattackfile.net/spreadsheets/pdf_di...</td>\n      <td>2016.09.18.c</td>\n      <td>2016.09.18.c</td>\n      <td>5993</td>\n      <td>NaN</td>\n      <td>NaN</td>\n    </tr>\n    <tr>\n      <th>1</th>\n      <td>2016.09.18.b</td>\n      <td>18-Sep-16</td>\n      <td>2016</td>\n      <td>Unprovoked</td>\n      <td>USA</td>\n      <td>Florida</td>\n      <td>New Smyrna Beach, Volusia County</td>\n      <td>Surfing</td>\n      <td>Chucky Luciano</td>\n      <td>M</td>\n      <td>...</td>\n      <td>NaN</td>\n      <td>Orlando Sentinel, 9/19/2016</td>\n      <td>2016.09.18.b-Luciano.pdf</td>\n      <td>http://sharkattackfile.net/spreadsheets/pdf_di...</td>\n      <td>http://sharkattackfile.net/spreadsheets/pdf_di...</td>\n      <td>2016.09.18.b</td>\n      <td>2016.09.18.b</td>\n      <td>5992</td>\n      <td>NaN</td>\n      <td>NaN</td>\n    </tr>\n    <tr>\n      <th>2</th>\n      <td>2016.09.18.a</td>\n      <td>18-Sep-16</td>\n      <td>2016</td>\n      <td>Unprovoked</td>\n      <td>USA</td>\n      <td>Florida</td>\n      <td>New Smyrna Beach, Volusia County</td>\n      <td>Surfing</td>\n      <td>male</td>\n      <td>M</td>\n      <td>...</td>\n      <td>NaN</td>\n      <td>Orlando Sentinel, 9/19/2016</td>\n      <td>2016.09.18.a-NSB.pdf</td>\n      <td>http://sharkattackfile.net/spreadsheets/pdf_di...</td>\n      <td>http://sharkattackfile.net/spreadsheets/pdf_di...</td>\n      <td>2016.09.18.a</td>\n      <td>2016.09.18.a</td>\n      <td>5991</td>\n      <td>NaN</td>\n      <td>NaN</td>\n    </tr>\n    <tr>\n      <th>3</th>\n      <td>2016.09.17</td>\n      <td>17-Sep-16</td>\n      <td>2016</td>\n      <td>Unprovoked</td>\n      <td>AUSTRALIA</td>\n      <td>Victoria</td>\n      <td>Thirteenth Beach</td>\n      <td>Surfing</td>\n      <td>Rory Angiolella</td>\n      <td>M</td>\n      <td>...</td>\n      <td>NaN</td>\n      <td>The Age, 9/18/2016</td>\n      <td>2016.09.17-Angiolella.pdf</td>\n      <td>http://sharkattackfile.net/spreadsheets/pdf_di...</td>\n      <td>http://sharkattackfile.net/spreadsheets/pdf_di...</td>\n      <td>2016.09.17</td>\n      <td>2016.09.17</td>\n      <td>5990</td>\n      <td>NaN</td>\n      <td>NaN</td>\n    </tr>\n    <tr>\n      <th>4</th>\n      <td>2016.09.15</td>\n      <td>16-Sep-16</td>\n      <td>2016</td>\n      <td>Unprovoked</td>\n      <td>AUSTRALIA</td>\n      <td>Victoria</td>\n      <td>Bells Beach</td>\n      <td>Surfing</td>\n      <td>male</td>\n      <td>M</td>\n      <td>...</td>\n      <td>2 m shark</td>\n      <td>The Age, 9/16/2016</td>\n      <td>2016.09.16-BellsBeach.pdf</td>\n      <td>http://sharkattackfile.net/spreadsheets/pdf_di...</td>\n      <td>http://sharkattackfile.net/spreadsheets/pdf_di...</td>\n      <td>2016.09.16</td>\n      <td>2016.09.15</td>\n      <td>5989</td>\n      <td>NaN</td>\n      <td>NaN</td>\n    </tr>\n  </tbody>\n</table>\n<p>5 rows × 24 columns</p>\n</div>",
      "text/plain": "    Case Number       Date  Year        Type    Country      Area  \\\n0  2016.09.18.c  18-Sep-16  2016  Unprovoked        USA   Florida   \n1  2016.09.18.b  18-Sep-16  2016  Unprovoked        USA   Florida   \n2  2016.09.18.a  18-Sep-16  2016  Unprovoked        USA   Florida   \n3    2016.09.17  17-Sep-16  2016  Unprovoked  AUSTRALIA  Victoria   \n4    2016.09.15  16-Sep-16  2016  Unprovoked  AUSTRALIA  Victoria   \n\n                           Location Activity             Name Sex   ...  \\\n0  New Smyrna Beach, Volusia County  Surfing             male    M  ...   \n1  New Smyrna Beach, Volusia County  Surfing   Chucky Luciano    M  ...   \n2  New Smyrna Beach, Volusia County  Surfing             male    M  ...   \n3                  Thirteenth Beach  Surfing  Rory Angiolella    M  ...   \n4                       Bells Beach  Surfing             male    M  ...   \n\n    Species        Investigator or Source                        pdf  \\\n0        NaN  Orlando Sentinel, 9/19/2016       2016.09.18.c-NSB.pdf   \n1        NaN  Orlando Sentinel, 9/19/2016   2016.09.18.b-Luciano.pdf   \n2        NaN  Orlando Sentinel, 9/19/2016       2016.09.18.a-NSB.pdf   \n3        NaN           The Age, 9/18/2016  2016.09.17-Angiolella.pdf   \n4  2 m shark           The Age, 9/16/2016  2016.09.16-BellsBeach.pdf   \n\n                                        href formula  \\\n0  http://sharkattackfile.net/spreadsheets/pdf_di...   \n1  http://sharkattackfile.net/spreadsheets/pdf_di...   \n2  http://sharkattackfile.net/spreadsheets/pdf_di...   \n3  http://sharkattackfile.net/spreadsheets/pdf_di...   \n4  http://sharkattackfile.net/spreadsheets/pdf_di...   \n\n                                                href Case Number.1  \\\n0  http://sharkattackfile.net/spreadsheets/pdf_di...  2016.09.18.c   \n1  http://sharkattackfile.net/spreadsheets/pdf_di...  2016.09.18.b   \n2  http://sharkattackfile.net/spreadsheets/pdf_di...  2016.09.18.a   \n3  http://sharkattackfile.net/spreadsheets/pdf_di...    2016.09.17   \n4  http://sharkattackfile.net/spreadsheets/pdf_di...    2016.09.16   \n\n  Case Number.2 original order Unnamed: 22 Unnamed: 23  \n0  2016.09.18.c           5993         NaN         NaN  \n1  2016.09.18.b           5992         NaN         NaN  \n2  2016.09.18.a           5991         NaN         NaN  \n3    2016.09.17           5990         NaN         NaN  \n4    2016.09.15           5989         NaN         NaN  \n\n[5 rows x 24 columns]"
     },
     "execution_count": 7,
     "metadata": {},
     "output_type": "execute_result"
    }
   ],
   "source": [
    "df.head()"
   ]
  },
  {
   "cell_type": "code",
   "execution_count": 15,
   "metadata": {},
   "outputs": [
    {
     "data": {
      "text/plain": "                                                                                                                                                                                      1\nRemains recovered 5 days later                                                                                                                                                                            1\nLemon shark, 2 m [6'9\"]                                                                                                                                                                                   1\n1.2 m [4'] shark (spinner shark?)                                                                                                                                                                         1\nSmall dusky shark or blackfin shark                                                                                                                                                                       1\n>2.4 m [8'] shark                                                                                                                                                                                         1\nTiger shark, 2.7 m [9'5\"], 364-lb                                                                                                                                                                         1\nWhite shark, 3.7 m [12'], 500 to 500-kg [1,200 lb], identified by W. C. Shroeder based on tooth fragment ebedded in gunwale                                                                               1\n2.1 m [7'] lemon shark or bull shark                                                                                                                                                                      1\n4.4 m [14'] shark                                                                                                                                                                                         1\npossibly a porbeagle shark                                                                                                                                                                                1\n80 kg shark                                                                                                                                                                                               1\nBull shark, 10'                                                                                                                                                                                           1\nGrey reef shark, 5' to 8'                                                                                                                                                                                 1\n3.5' hammerhead shark                                                                                                                                                                                     1\n2.1 m to 2.4 m  [7' to 8'] shark                                                                                                                                                                          1\nNurse shark, 0.94 m to 1.2 m [3' to 4']                                                                                                                                                                   1\n2 sharks involved                                                                                                                                                                                         1\nLeopard shark                                                                                                                                                                                             1\n5 m to 7 m white shark                                                                                                                                                                                    1\njuvenile white shark                                                                                                                                                                                      1\n3 to 3.5 m [10' to 11.5'] bull shark                                                                                                                                                                      1\nWhite shark, 3.5 m to 4 m [11.5' to 13']                                                                                                                                                                  1\n1.8 m to 2.4 m  [6' to 8'] shark                                                                                                                                                                          1\nsmall sharks'                                                                                                                                                                                             1\nWhite shark tooth fragment recovered from ankle & identified by Dr. W. I. Follett                                                                                                                         1\nSmall bull shark                                                                                                                                                                                          1\nRaggedtooth shark, 2.7 m [9']                                                                                                                                                                             1\n4 to 5m white shark                                                                                                                                                                                       1\nWhite shark, 12', identity confirmed by tooth fragment, witness and photograph of captured shark                                                                                                          1\nWhite shark, 4.3 m [14']                                                                                                                                                                                  1\nPossibly a small blacktip shark                                                                                                                                                                           1\nShark involvement not confirmed, injury may be due to a stingray                                                                                                                                          1\nWhite shark, 13'                                                                                                                                                                                          1\na school of sharks                                                                                                                                                                                        1\n1.4 m [4.5'] shark                                                                                                                                                                                        1\n1.8 m [6'] reef shark - or a 2.1 m to 2.4 m [7' to 8'] grey-colored shark                                                                                                                                 1\n16' 800-lb shark                                                                                                                                                                                          1\nSpecies unknown, possibly a white shark                                                                                                                                                                   1\nWhite shark, 2m                                                                                                                                                                                           1\nWhite shark, 246-kg                                                                                                                                                                                       1\n6 m, 600-kg shark                                                                                                                                                                                         1\n2.27 m shark                                                                                                                                                                                              1\nGrey reef shark, 2 m                                                                                                                                                                                      1\nWhite shark, 12' to 15'                                                                                                                                                                                   1\nBronze whaler shark, 2.5 m [8.25']  k                                                                                                                                                                     1\nWhite shark, 6 m                                                                                                                                                                                          1\n\"a young shark\"                                                                                                                                                                                           1\nLemon shark, 0.5 m                                                                                                                                                                                        1\nGrey nurse shark, 1.8 m [6']                                                                                                                                                                              1\nSandtiger shark, 8'                                                                                                                                                                                       1\nShark involvement in his death uncofirmed                                                                                                                                                                 1\n100-lb shark                                                                                                                                                                                              1\nBronze whaler shark,4 m [13']                                                                                                                                                                             1\nThresher shark, 3.7 m [12']                                                                                                                                                                               1\n4.5 m to 5.5m white shark                                                                                                                                                                                 1\n4.9 m to 5.5 m [16' to 18'] white shark                                                                                                                                                                   1\nsandtiger shark                                                                                                                                                                                           1\n white shark, 15'                                                                                                                                                                                         1\nThought to involve a 2.7 m [9'], 400-lb bull shark                                                                                                                                                        1\nBroadnose sevengill shark                                                                                                                                                                                 1\n4.5 m [14'9\"] white shark                                                                                                                                                                                 1\n1 m  shark                                                                                                                                                                                                1\n14' to 18'shark                                                                                                                                                                                           1\nTiger shark, 4.6 m to 7.6 m [15' to 25']                                                                                                                                                                  1\nShortfin mako shark                                                                                                                                                                                       1\n7' to 8' shark                                                                                                                                                                                            1\nTiger shark, 10?                                                                                                                                                                                          1\nsaid to involve a tiger shark                                                                                                                                                                             1\n\"a blue shark\"                                                                                                                                                                                            1\nWhite shark, 7'                                                                                                                                                                                           1\nRaggedtooth shark, 1.5 m                                                                                                                                                                                  1\n440-lb shark                                                                                                                                                                                              1\nMako shark, 3 m [10'], 200-kg [441-lb]                                                                                                                                                                    1\nLemon shark, 2.5m to 3m                                                                                                                                                                                   1\n6' blacktip shark                                                                                                                                                                                         1\na small reef shark                                                                                                                                                                                        1\nTiger shark, 13'                                                                                                                                                                                          1\nWobbegong                                                                                                                                                                                                 1\n4.3 m [14'] shark seen in vicinity                                                                                                                                                                        1\n170-kg, 2.8 m shark                                                                                                                                                                                       1\nBronze whaler shark, 4'                                                                                                                                                                                   1\n1.8 metre shark                                                                                                                                                                                           1\nWhite shark, 6.5 m                                                                                                                                                                                        1\nBronze whaler shark, 3.5 m                                                                                                                                                                                1\nBlacktip shark, 1.2 m to 1.8 m [4' to 6']                                                                                                                                                                 1\n4.9 m white shark                                                                                                                                                                                         1\n\"gray shark\"                                                                                                                                                                                              1\nReported to involve a bull shark                                                                                                                                                                          1\n650-lb shark                                                                                                                                                                                              1\nSmall shark with white-tipped dorsal fin                                                                                                                                                                  1\n1.8 m [6'] shark, species identity questionable                                                                                                                                                           1\nBronze whaler shark, 3 m                                                                                                                                                                                  1\nBronze whaler shark,3.7 m [12']                                                                                                                                                                           1\nTiger shark, 8' to 12'                                                                                                                                                                                    1\nTiger shark, 2.5 m                                                                                                                                                                                        1\n4 m [13'] shark seen in vicinity                                                                                                                                                                          1\nWhite shark, 6 m [20']                                                                                                                                                                                    1\nName: Species , dtype: int64"
     },
     "execution_count": 15,
     "metadata": {},
     "output_type": "execute_result"
    }
   ],
   "source": [
    "df[\"Species \"].value_counts().sort_values(ascending=False)"
   ]
  },
  {
   "cell_type": "code",
   "execution_count": 4,
   "metadata": {},
   "outputs": [
    {
     "data": {
      "text/plain": [
       "Index(['Case Number', 'Date', 'Year', 'Type', 'Country', 'Area', 'Location',\n",
       "       'Activity', 'Name', 'Sex ', 'Age', 'Injury', 'Fatal (Y/N)', 'Time',\n",
       "       'Species ', 'Investigator or Source', 'pdf', 'href formula', 'href',\n",
       "       'Case Number.1', 'Case Number.2', 'original order', 'Unnamed: 22',\n",
       "       'Unnamed: 23'],\n",
       "      dtype='object')"
      ]
     },
     "execution_count": 4,
     "metadata": {},
     "output_type": "execute_result"
    }
   ],
   "source": [
    "df.columns"
   ]
  },
  {
   "cell_type": "code",
   "execution_count": 5,
   "metadata": {},
   "outputs": [
    {
     "data": {
      "text/plain": [
       "(5992, 24)"
      ]
     },
     "execution_count": 5,
     "metadata": {},
     "output_type": "execute_result"
    }
   ],
   "source": [
    "df.shape"
   ]
  },
  {
   "cell_type": "markdown",
   "metadata": {},
   "source": [
    "# Clean `Date` column"
   ]
  },
  {
   "cell_type": "code",
   "execution_count": 6,
   "metadata": {},
   "outputs": [],
   "source": [
    "# I'm creating a function that can be applied to an entire column of a DataFrame. In this case, it is necessary to 'catch' the \n",
    "# exception (error) so that the function runs, as errors breaks the code. The function intentionally return a boolean so that\n",
    "# it can be used for subestting DataFrames.\n",
    "# You can catch exceptions using a so-called 'try except block' as shown here:\n",
    "\n",
    "def test_to_datetime(ts):\n",
    "    try:\n",
    "        pd.to_datetime(ts, infer_datetime_format=True)\n",
    "    except ValueError:\n",
    "        return False\n",
    "    return True\n",
    "        "
   ]
  },
  {
   "cell_type": "code",
   "execution_count": 7,
   "metadata": {},
   "outputs": [
    {
     "data": {
      "text/plain": [
       "True"
      ]
     },
     "execution_count": 7,
     "metadata": {},
     "output_type": "execute_result"
    }
   ],
   "source": [
    "np.isnat(np.datetime64('NaT'))"
   ]
  },
  {
   "cell_type": "code",
   "execution_count": 8,
   "metadata": {},
   "outputs": [
    {
     "data": {
      "text/plain": [
       "True"
      ]
     },
     "execution_count": 8,
     "metadata": {},
     "output_type": "execute_result"
    }
   ],
   "source": [
    "test_to_datetime(\"16-Sep-16\")"
   ]
  },
  {
   "cell_type": "code",
   "execution_count": 9,
   "metadata": {},
   "outputs": [
    {
     "data": {
      "text/plain": [
       "(857, 24)"
      ]
     },
     "execution_count": 9,
     "metadata": {},
     "output_type": "execute_result"
    }
   ],
   "source": [
    "# We can now use our function on every record in a column using the .apply() method on a Series like so:\n",
    "df[df[\"Date\"].apply(test_to_datetime) == False].shape"
   ]
  },
  {
   "cell_type": "code",
   "execution_count": 10,
   "metadata": {},
   "outputs": [
    {
     "data": {
      "text/html": [
       "<div>\n",
       "<style scoped>\n",
       "    .dataframe tbody tr th:only-of-type {\n",
       "        vertical-align: middle;\n",
       "    }\n",
       "\n",
       "    .dataframe tbody tr th {\n",
       "        vertical-align: top;\n",
       "    }\n",
       "\n",
       "    .dataframe thead th {\n",
       "        text-align: right;\n",
       "    }\n",
       "</style>\n",
       "<table border=\"1\" class=\"dataframe\">\n",
       "  <thead>\n",
       "    <tr style=\"text-align: right;\">\n",
       "      <th></th>\n",
       "      <th>Case Number</th>\n",
       "      <th>Date</th>\n",
       "      <th>Year</th>\n",
       "      <th>Type</th>\n",
       "      <th>Country</th>\n",
       "      <th>Area</th>\n",
       "      <th>Location</th>\n",
       "      <th>Activity</th>\n",
       "      <th>Name</th>\n",
       "      <th>Sex</th>\n",
       "      <th>...</th>\n",
       "      <th>Species</th>\n",
       "      <th>Investigator or Source</th>\n",
       "      <th>pdf</th>\n",
       "      <th>href formula</th>\n",
       "      <th>href</th>\n",
       "      <th>Case Number.1</th>\n",
       "      <th>Case Number.2</th>\n",
       "      <th>original order</th>\n",
       "      <th>Unnamed: 22</th>\n",
       "      <th>Unnamed: 23</th>\n",
       "    </tr>\n",
       "  </thead>\n",
       "  <tbody>\n",
       "    <tr>\n",
       "      <th>33</th>\n",
       "      <td>2016.07.14.4</td>\n",
       "      <td>Reported  14-Jul-2016</td>\n",
       "      <td>2016</td>\n",
       "      <td>Unprovoked</td>\n",
       "      <td>BAHAMAS</td>\n",
       "      <td>NaN</td>\n",
       "      <td>Tiger Beach</td>\n",
       "      <td>Scuba Diving</td>\n",
       "      <td>Michael Dornellas</td>\n",
       "      <td>M</td>\n",
       "      <td>...</td>\n",
       "      <td>Lemon shark, 9'</td>\n",
       "      <td>GrindTV, 7/14/2016</td>\n",
       "      <td>2016.07.14.R-TigerBeach.pdf</td>\n",
       "      <td>http://sharkattackfile.net/spreadsheets/pdf_di...</td>\n",
       "      <td>http://sharkattackfile.net/spreadsheets/pdf_di...</td>\n",
       "      <td>2016.07.14.R</td>\n",
       "      <td>2016.07.14.4</td>\n",
       "      <td>5960</td>\n",
       "      <td>NaN</td>\n",
       "      <td>NaN</td>\n",
       "    </tr>\n",
       "    <tr>\n",
       "      <th>34</th>\n",
       "      <td>2016.07.08.R</td>\n",
       "      <td>Reported 08-Jul-2016</td>\n",
       "      <td>2016</td>\n",
       "      <td>Unprovoked</td>\n",
       "      <td>SPAIN</td>\n",
       "      <td>Canary Islands</td>\n",
       "      <td>Las Teresitas, Tenerife</td>\n",
       "      <td>Wading</td>\n",
       "      <td>female</td>\n",
       "      <td>F</td>\n",
       "      <td>...</td>\n",
       "      <td>Angel shark</td>\n",
       "      <td>La Opinion de Tenerife</td>\n",
       "      <td>2016.07.08.R-Spain.pdf</td>\n",
       "      <td>http://sharkattackfile.net/spreadsheets/pdf_di...</td>\n",
       "      <td>http://sharkattackfile.net/spreadsheets/pdf_di...</td>\n",
       "      <td>2016.07.08.R</td>\n",
       "      <td>2016.07.08.R</td>\n",
       "      <td>5959</td>\n",
       "      <td>NaN</td>\n",
       "      <td>NaN</td>\n",
       "    </tr>\n",
       "    <tr>\n",
       "      <th>85</th>\n",
       "      <td>2016.03.03.R</td>\n",
       "      <td>Reported 03-Mar-2016</td>\n",
       "      <td>2016</td>\n",
       "      <td>Unprovoked</td>\n",
       "      <td>AUSTRALIA</td>\n",
       "      <td>South Australia</td>\n",
       "      <td>Wrights Bay</td>\n",
       "      <td>Fishing</td>\n",
       "      <td>Lee Taplin</td>\n",
       "      <td>M</td>\n",
       "      <td>...</td>\n",
       "      <td>Bronze whaler</td>\n",
       "      <td>9 News, 3/1/2016</td>\n",
       "      <td>2016.03.03.R-Taplin.pdf</td>\n",
       "      <td>http://sharkattackfile.net/spreadsheets/pdf_di...</td>\n",
       "      <td>http://sharkattackfile.net/spreadsheets/pdf_di...</td>\n",
       "      <td>2016.03.03.R</td>\n",
       "      <td>2016.03.03.R</td>\n",
       "      <td>5908</td>\n",
       "      <td>NaN</td>\n",
       "      <td>NaN</td>\n",
       "    </tr>\n",
       "    <tr>\n",
       "      <th>90</th>\n",
       "      <td>2016.02.10.R</td>\n",
       "      <td>Reported 10-Feb-2016</td>\n",
       "      <td>2016</td>\n",
       "      <td>Invalid</td>\n",
       "      <td>CAYMAN ISLANDS</td>\n",
       "      <td>Grand Cayman</td>\n",
       "      <td>Stingray City Bar</td>\n",
       "      <td>Feeding stingrays?</td>\n",
       "      <td>Richard Branson</td>\n",
       "      <td>M</td>\n",
       "      <td>...</td>\n",
       "      <td>No shark involvement</td>\n",
       "      <td>R. Branson</td>\n",
       "      <td>2016.02.10.R-Branson-stingray.pdf</td>\n",
       "      <td>http://sharkattackfile.net/spreadsheets/pdf_di...</td>\n",
       "      <td>http://sharkattackfile.net/spreadsheets/pdf_di...</td>\n",
       "      <td>2016.02.10.R</td>\n",
       "      <td>2016.02.10.R</td>\n",
       "      <td>5903</td>\n",
       "      <td>NaN</td>\n",
       "      <td>NaN</td>\n",
       "    </tr>\n",
       "    <tr>\n",
       "      <th>100</th>\n",
       "      <td>2016.01.11.R</td>\n",
       "      <td>Reported 11-Jan-2016</td>\n",
       "      <td>2016</td>\n",
       "      <td>Unprovoked</td>\n",
       "      <td>AUSTRALIA</td>\n",
       "      <td>Queensland</td>\n",
       "      <td>Happy Valley Beach, Caloundra</td>\n",
       "      <td>Surfing</td>\n",
       "      <td>Shane Hilder</td>\n",
       "      <td>M</td>\n",
       "      <td>...</td>\n",
       "      <td>Wobbegong shark</td>\n",
       "      <td>ABC Sunshine Coast, 1/11/2016</td>\n",
       "      <td>2016.01.11.R-Hilder.pdf</td>\n",
       "      <td>http://sharkattackfile.net/spreadsheets/pdf_di...</td>\n",
       "      <td>http://sharkattackfile.net/spreadsheets/pdf_di...</td>\n",
       "      <td>2016.01.11.R</td>\n",
       "      <td>2016.01.11.R</td>\n",
       "      <td>5893</td>\n",
       "      <td>NaN</td>\n",
       "      <td>NaN</td>\n",
       "    </tr>\n",
       "  </tbody>\n",
       "</table>\n",
       "<p>5 rows × 24 columns</p>\n",
       "</div>"
      ],
      "text/plain": [
       "      Case Number                   Date  Year        Type         Country  \\\n",
       "33   2016.07.14.4  Reported  14-Jul-2016  2016  Unprovoked         BAHAMAS   \n",
       "34   2016.07.08.R   Reported 08-Jul-2016  2016  Unprovoked           SPAIN   \n",
       "85   2016.03.03.R   Reported 03-Mar-2016  2016  Unprovoked       AUSTRALIA   \n",
       "90   2016.02.10.R   Reported 10-Feb-2016  2016     Invalid  CAYMAN ISLANDS   \n",
       "100  2016.01.11.R   Reported 11-Jan-2016  2016  Unprovoked       AUSTRALIA   \n",
       "\n",
       "                Area                       Location            Activity  \\\n",
       "33               NaN                    Tiger Beach        Scuba Diving   \n",
       "34    Canary Islands        Las Teresitas, Tenerife              Wading   \n",
       "85   South Australia                    Wrights Bay             Fishing   \n",
       "90      Grand Cayman              Stingray City Bar  Feeding stingrays?   \n",
       "100       Queensland  Happy Valley Beach, Caloundra             Surfing   \n",
       "\n",
       "                  Name Sex   ...              Species   \\\n",
       "33   Michael Dornellas    M  ...       Lemon shark, 9'   \n",
       "34              female    F  ...           Angel shark   \n",
       "85          Lee Taplin    M  ...         Bronze whaler   \n",
       "90     Richard Branson    M  ...  No shark involvement   \n",
       "100       Shane Hilder    M  ...       Wobbegong shark   \n",
       "\n",
       "            Investigator or Source                                pdf  \\\n",
       "33              GrindTV, 7/14/2016        2016.07.14.R-TigerBeach.pdf   \n",
       "34          La Opinion de Tenerife             2016.07.08.R-Spain.pdf   \n",
       "85                9 News, 3/1/2016            2016.03.03.R-Taplin.pdf   \n",
       "90                      R. Branson  2016.02.10.R-Branson-stingray.pdf   \n",
       "100  ABC Sunshine Coast, 1/11/2016            2016.01.11.R-Hilder.pdf   \n",
       "\n",
       "                                          href formula  \\\n",
       "33   http://sharkattackfile.net/spreadsheets/pdf_di...   \n",
       "34   http://sharkattackfile.net/spreadsheets/pdf_di...   \n",
       "85   http://sharkattackfile.net/spreadsheets/pdf_di...   \n",
       "90   http://sharkattackfile.net/spreadsheets/pdf_di...   \n",
       "100  http://sharkattackfile.net/spreadsheets/pdf_di...   \n",
       "\n",
       "                                                  href Case Number.1  \\\n",
       "33   http://sharkattackfile.net/spreadsheets/pdf_di...  2016.07.14.R   \n",
       "34   http://sharkattackfile.net/spreadsheets/pdf_di...  2016.07.08.R   \n",
       "85   http://sharkattackfile.net/spreadsheets/pdf_di...  2016.03.03.R   \n",
       "90   http://sharkattackfile.net/spreadsheets/pdf_di...  2016.02.10.R   \n",
       "100  http://sharkattackfile.net/spreadsheets/pdf_di...  2016.01.11.R   \n",
       "\n",
       "    Case Number.2 original order Unnamed: 22 Unnamed: 23  \n",
       "33   2016.07.14.4           5960         NaN         NaN  \n",
       "34   2016.07.08.R           5959         NaN         NaN  \n",
       "85   2016.03.03.R           5908         NaN         NaN  \n",
       "90   2016.02.10.R           5903         NaN         NaN  \n",
       "100  2016.01.11.R           5893         NaN         NaN  \n",
       "\n",
       "[5 rows x 24 columns]"
      ]
     },
     "execution_count": 10,
     "metadata": {},
     "output_type": "execute_result"
    }
   ],
   "source": [
    "df[df[\"Date\"].apply(test_to_datetime) == False].head()"
   ]
  },
  {
   "cell_type": "markdown",
   "metadata": {},
   "source": [
    "See if we can infer date from \"Case Number\" field"
   ]
  },
  {
   "cell_type": "markdown",
   "metadata": {},
   "source": [
    "Looks like `Case Number` could be used to get the date"
   ]
  },
  {
   "cell_type": "code",
   "execution_count": 11,
   "metadata": {},
   "outputs": [
    {
     "data": {
      "text/plain": [
       "True     5256\n",
       "False     736\n",
       "Name: Case Number, dtype: int64"
      ]
     },
     "execution_count": 11,
     "metadata": {},
     "output_type": "execute_result"
    }
   ],
   "source": [
    "(df[\"Case Number\"]\n",
    " .str.replace(\"-\", \".\")\n",
    " .str.replace(\",\", \".\")\n",
    " .str.extract(r\"(^\\d{4}\\.\\d{2}.\\d{2})\", expand=False)\n",
    " .apply(test_to_datetime)\n",
    " .value_counts())"
   ]
  },
  {
   "cell_type": "markdown",
   "execution_count": null,
   "metadata": {},
   "outputs": [],
   "source": [
    "We can infer another 5256 records using the `pd.to_datetime()` function when using `Case number` and adding a few manipulations!"
   ]
  },
  {
   "cell_type": "code",
   "execution_count": 12,
   "metadata": {},
   "outputs": [],
   "source": [
    "df_ncasen = (df[df[\"Case Number\"]\n",
    "                .str.replace(\"-\", \".\")\n",
    "                .str.replace(\",\", \".\")\n",
    "                .str.extract(r\"(^\\d{4}\\.\\d{2}.\\d{2})\", expand=False)\n",
    "                .apply(test_to_datetime) == False])"
   ]
  },
  {
   "cell_type": "code",
   "execution_count": 13,
   "metadata": {},
   "outputs": [],
   "source": [
    "df_ncasen_nzero = df_ncasen[(df_ncasen[\"Case Number\"]\n",
    "                             .str.extract(r\"(^\\d{4}\\.\\d{2}.\\d{2})\", expand=False)\n",
    "                             .str.replace(r\"(00$)\", \"01\")\n",
    "                             .str.replace(r\"\\.00\\.\", \".01.\")).apply(test_to_datetime) == False]"
   ]
  },
  {
   "cell_type": "code",
   "execution_count": 14,
   "metadata": {},
   "outputs": [
    {
     "data": {
      "text/html": [
       "<div>\n",
       "<style scoped>\n",
       "    .dataframe tbody tr th:only-of-type {\n",
       "        vertical-align: middle;\n",
       "    }\n",
       "\n",
       "    .dataframe tbody tr th {\n",
       "        vertical-align: top;\n",
       "    }\n",
       "\n",
       "    .dataframe thead th {\n",
       "        text-align: right;\n",
       "    }\n",
       "</style>\n",
       "<table border=\"1\" class=\"dataframe\">\n",
       "  <thead>\n",
       "    <tr style=\"text-align: right;\">\n",
       "      <th></th>\n",
       "      <th>Case Number</th>\n",
       "      <th>Date</th>\n",
       "      <th>Year</th>\n",
       "      <th>Type</th>\n",
       "      <th>Country</th>\n",
       "      <th>Area</th>\n",
       "      <th>Location</th>\n",
       "      <th>Activity</th>\n",
       "      <th>Name</th>\n",
       "      <th>Sex</th>\n",
       "      <th>...</th>\n",
       "      <th>Species</th>\n",
       "      <th>Investigator or Source</th>\n",
       "      <th>pdf</th>\n",
       "      <th>href formula</th>\n",
       "      <th>href</th>\n",
       "      <th>Case Number.1</th>\n",
       "      <th>Case Number.2</th>\n",
       "      <th>original order</th>\n",
       "      <th>Unnamed: 22</th>\n",
       "      <th>Unnamed: 23</th>\n",
       "    </tr>\n",
       "  </thead>\n",
       "  <tbody>\n",
       "    <tr>\n",
       "      <th>5855</th>\n",
       "      <td>1642.00.00.b</td>\n",
       "      <td>Late 1600s Reported 1728</td>\n",
       "      <td>1642</td>\n",
       "      <td>Invalid</td>\n",
       "      <td>GUINEA</td>\n",
       "      <td>NaN</td>\n",
       "      <td>NaN</td>\n",
       "      <td>Went overboard</td>\n",
       "      <td>crew member of the Nieuwstadt</td>\n",
       "      <td>M</td>\n",
       "      <td>...</td>\n",
       "      <td>NaN</td>\n",
       "      <td>History of the Pyrates, by D. Defoe, Vol. 2, p.28</td>\n",
       "      <td>1642.00.00.b-Nieuwstadt.pdf</td>\n",
       "      <td>http://sharkattackfile.net/spreadsheets/pdf_di...</td>\n",
       "      <td>http://sharkattackfile.net/spreadsheets/pdf_di...</td>\n",
       "      <td>1642.00.00.b</td>\n",
       "      <td>1642.00.00.b</td>\n",
       "      <td>138</td>\n",
       "      <td>NaN</td>\n",
       "      <td>NaN</td>\n",
       "    </tr>\n",
       "    <tr>\n",
       "      <th>5856</th>\n",
       "      <td>1638.00.00.R</td>\n",
       "      <td>Reported 1638</td>\n",
       "      <td>1638</td>\n",
       "      <td>Unprovoked</td>\n",
       "      <td>NaN</td>\n",
       "      <td>NaN</td>\n",
       "      <td>NaN</td>\n",
       "      <td>NaN</td>\n",
       "      <td>sailors</td>\n",
       "      <td>M</td>\n",
       "      <td>...</td>\n",
       "      <td>NaN</td>\n",
       "      <td>Sir Thomas Herbert</td>\n",
       "      <td>1638.00.00.R-Herbert</td>\n",
       "      <td>http://sharkattackfile.net/spreadsheets/pdf_di...</td>\n",
       "      <td>http://sharkattackfile.net/spreadsheets/pdf_di...</td>\n",
       "      <td>1638.00.00.R</td>\n",
       "      <td>1638.00.00.R</td>\n",
       "      <td>137</td>\n",
       "      <td>NaN</td>\n",
       "      <td>NaN</td>\n",
       "    </tr>\n",
       "    <tr>\n",
       "      <th>5857</th>\n",
       "      <td>1637.00.00.R</td>\n",
       "      <td>Reported 1637</td>\n",
       "      <td>1637</td>\n",
       "      <td>Unprovoked</td>\n",
       "      <td>INDIA</td>\n",
       "      <td>West Bengal</td>\n",
       "      <td>Hooghly River mouth</td>\n",
       "      <td>Wading</td>\n",
       "      <td>Hindu pilgrims</td>\n",
       "      <td>NaN</td>\n",
       "      <td>...</td>\n",
       "      <td>NaN</td>\n",
       "      <td>H. Edwards, p.31, citing Sebastian Manrique</td>\n",
       "      <td>1637.00.00.R-Manrique.pdf</td>\n",
       "      <td>http://sharkattackfile.net/spreadsheets/pdf_di...</td>\n",
       "      <td>http://sharkattackfile.net/spreadsheets/pdf_di...</td>\n",
       "      <td>1637.00.00.R</td>\n",
       "      <td>1637.00.00.R</td>\n",
       "      <td>136</td>\n",
       "      <td>NaN</td>\n",
       "      <td>NaN</td>\n",
       "    </tr>\n",
       "    <tr>\n",
       "      <th>5858</th>\n",
       "      <td>1617.00.00.R</td>\n",
       "      <td>Reported 1617</td>\n",
       "      <td>1617</td>\n",
       "      <td>Unprovoked</td>\n",
       "      <td>INDIA</td>\n",
       "      <td>West Bengal</td>\n",
       "      <td>Ganges Delta</td>\n",
       "      <td>NaN</td>\n",
       "      <td>Indian people</td>\n",
       "      <td>NaN</td>\n",
       "      <td>...</td>\n",
       "      <td>NaN</td>\n",
       "      <td>H. Edwards, p.31, citing Samuel Purchas</td>\n",
       "      <td>1617.00.00-Purchas.pdf</td>\n",
       "      <td>http://sharkattackfile.net/spreadsheets/pdf_di...</td>\n",
       "      <td>http://sharkattackfile.net/spreadsheets/pdf_di...</td>\n",
       "      <td>1617.00.00.R</td>\n",
       "      <td>1617.00.00.R</td>\n",
       "      <td>135</td>\n",
       "      <td>NaN</td>\n",
       "      <td>NaN</td>\n",
       "    </tr>\n",
       "    <tr>\n",
       "      <th>5859</th>\n",
       "      <td>1642.00.00</td>\n",
       "      <td>1642</td>\n",
       "      <td>1642</td>\n",
       "      <td>Unprovoked</td>\n",
       "      <td>USA</td>\n",
       "      <td>New York</td>\n",
       "      <td>Between Manhattan and The Bronx</td>\n",
       "      <td>Swimming</td>\n",
       "      <td>Antony Van Corlear</td>\n",
       "      <td>M</td>\n",
       "      <td>...</td>\n",
       "      <td>NaN</td>\n",
       "      <td>Knickerbocker's History of New York, by Washin...</td>\n",
       "      <td>1642.00.00-Corlear.pdf</td>\n",
       "      <td>http://sharkattackfile.net/spreadsheets/pdf_di...</td>\n",
       "      <td>http://sharkattackfile.net/spreadsheets/pdf_di...</td>\n",
       "      <td>1642.00.00</td>\n",
       "      <td>1642.00.00</td>\n",
       "      <td>134</td>\n",
       "      <td>NaN</td>\n",
       "      <td>NaN</td>\n",
       "    </tr>\n",
       "  </tbody>\n",
       "</table>\n",
       "<p>5 rows × 24 columns</p>\n",
       "</div>"
      ],
      "text/plain": [
       "       Case Number                      Date  Year        Type Country  \\\n",
       "5855  1642.00.00.b  Late 1600s Reported 1728  1642     Invalid  GUINEA   \n",
       "5856  1638.00.00.R             Reported 1638  1638  Unprovoked     NaN   \n",
       "5857  1637.00.00.R             Reported 1637  1637  Unprovoked   INDIA   \n",
       "5858  1617.00.00.R             Reported 1617  1617  Unprovoked   INDIA   \n",
       "5859    1642.00.00                      1642  1642  Unprovoked     USA   \n",
       "\n",
       "             Area                         Location        Activity  \\\n",
       "5855          NaN                              NaN  Went overboard   \n",
       "5856          NaN                              NaN             NaN   \n",
       "5857  West Bengal              Hooghly River mouth          Wading   \n",
       "5858  West Bengal                     Ganges Delta             NaN   \n",
       "5859    New York   Between Manhattan and The Bronx       Swimming    \n",
       "\n",
       "                               Name Sex   ... Species   \\\n",
       "5855  crew member of the Nieuwstadt    M  ...      NaN   \n",
       "5856                        sailors    M  ...      NaN   \n",
       "5857                 Hindu pilgrims  NaN  ...      NaN   \n",
       "5858                  Indian people  NaN  ...      NaN   \n",
       "5859             Antony Van Corlear    M  ...      NaN   \n",
       "\n",
       "                                 Investigator or Source  \\\n",
       "5855  History of the Pyrates, by D. Defoe, Vol. 2, p.28   \n",
       "5856                                 Sir Thomas Herbert   \n",
       "5857        H. Edwards, p.31, citing Sebastian Manrique   \n",
       "5858            H. Edwards, p.31, citing Samuel Purchas   \n",
       "5859  Knickerbocker's History of New York, by Washin...   \n",
       "\n",
       "                              pdf  \\\n",
       "5855  1642.00.00.b-Nieuwstadt.pdf   \n",
       "5856         1638.00.00.R-Herbert   \n",
       "5857    1637.00.00.R-Manrique.pdf   \n",
       "5858       1617.00.00-Purchas.pdf   \n",
       "5859       1642.00.00-Corlear.pdf   \n",
       "\n",
       "                                           href formula  \\\n",
       "5855  http://sharkattackfile.net/spreadsheets/pdf_di...   \n",
       "5856  http://sharkattackfile.net/spreadsheets/pdf_di...   \n",
       "5857  http://sharkattackfile.net/spreadsheets/pdf_di...   \n",
       "5858  http://sharkattackfile.net/spreadsheets/pdf_di...   \n",
       "5859  http://sharkattackfile.net/spreadsheets/pdf_di...   \n",
       "\n",
       "                                                   href Case Number.1  \\\n",
       "5855  http://sharkattackfile.net/spreadsheets/pdf_di...  1642.00.00.b   \n",
       "5856  http://sharkattackfile.net/spreadsheets/pdf_di...  1638.00.00.R   \n",
       "5857  http://sharkattackfile.net/spreadsheets/pdf_di...  1637.00.00.R   \n",
       "5858  http://sharkattackfile.net/spreadsheets/pdf_di...  1617.00.00.R   \n",
       "5859  http://sharkattackfile.net/spreadsheets/pdf_di...    1642.00.00   \n",
       "\n",
       "     Case Number.2 original order Unnamed: 22 Unnamed: 23  \n",
       "5855  1642.00.00.b            138         NaN         NaN  \n",
       "5856  1638.00.00.R            137         NaN         NaN  \n",
       "5857  1637.00.00.R            136         NaN         NaN  \n",
       "5858  1617.00.00.R            135         NaN         NaN  \n",
       "5859    1642.00.00            134         NaN         NaN  \n",
       "\n",
       "[5 rows x 24 columns]"
      ]
     },
     "execution_count": 14,
     "metadata": {},
     "output_type": "execute_result"
    }
   ],
   "source": [
    "df_ncasen_nzero.head()"
   ]
  },
  {
   "cell_type": "markdown",
   "metadata": {},
   "source": [
    "For the remaining ones, we do not care about dates before 1642.\n",
    "Let's go through each steps to create a clean date column"
   ]
  },
  {
   "cell_type": "code",
   "execution_count": 15,
   "metadata": {},
   "outputs": [],
   "source": [
    "df.assign(new_date=np.nan)\n",
    "df[\"new_date\"] = pd.to_datetime(df[df[\"Date\"].apply(test_to_datetime)][\"Date\"])"
   ]
  },
  {
   "cell_type": "code",
   "execution_count": 16,
   "metadata": {},
   "outputs": [],
   "source": [
    "def infer_from_case_number(case_number):\n",
    "    try:\n",
    "        return pd.to_datetime(case_number, infer_datetime_format=True)\n",
    "    except:\n",
    "        return np.nan"
   ]
  },
  {
   "cell_type": "code",
   "execution_count": 17,
   "metadata": {},
   "outputs": [],
   "source": [
    "df.loc[df[\"Date\"].apply(test_to_datetime) == False, \"new_date\"] = (df[df[\"Date\"].apply(test_to_datetime) == False][\"Case Number\"]\n",
    "                                                                   .str.replace(\"-\", \".\")\n",
    "                                                                   .str.replace(\",\", \".\")\n",
    "                                                                   .str.extract(r\"(^\\d{4}\\.\\d{2}.\\d{2})\", expand=False)\n",
    "                                                                   .str.replace(r\"(00$)\", \"01\")\n",
    "                                                                   .str.replace(r\"\\.00\\.\", \".01.\")).apply(infer_from_case_number)"
   ]
  },
  {
   "cell_type": "code",
   "execution_count": 18,
   "metadata": {},
   "outputs": [
    {
     "data": {
      "text/plain": [
       "False    5855\n",
       "True      137\n",
       "Name: new_date, dtype: int64"
      ]
     },
     "execution_count": 18,
     "metadata": {},
     "output_type": "execute_result"
    }
   ],
   "source": [
    "df[\"new_date\"].isnull().value_counts()"
   ]
  },
  {
   "cell_type": "code",
   "execution_count": 19,
   "metadata": {},
   "outputs": [
    {
     "data": {
      "text/html": [
       "<div>\n",
       "<style scoped>\n",
       "    .dataframe tbody tr th:only-of-type {\n",
       "        vertical-align: middle;\n",
       "    }\n",
       "\n",
       "    .dataframe tbody tr th {\n",
       "        vertical-align: top;\n",
       "    }\n",
       "\n",
       "    .dataframe thead th {\n",
       "        text-align: right;\n",
       "    }\n",
       "</style>\n",
       "<table border=\"1\" class=\"dataframe\">\n",
       "  <thead>\n",
       "    <tr style=\"text-align: right;\">\n",
       "      <th></th>\n",
       "      <th>Case Number</th>\n",
       "      <th>Date</th>\n",
       "      <th>Year</th>\n",
       "      <th>Type</th>\n",
       "      <th>Country</th>\n",
       "      <th>Area</th>\n",
       "      <th>Location</th>\n",
       "      <th>Activity</th>\n",
       "      <th>Name</th>\n",
       "      <th>Sex</th>\n",
       "      <th>...</th>\n",
       "      <th>Investigator or Source</th>\n",
       "      <th>pdf</th>\n",
       "      <th>href formula</th>\n",
       "      <th>href</th>\n",
       "      <th>Case Number.1</th>\n",
       "      <th>Case Number.2</th>\n",
       "      <th>original order</th>\n",
       "      <th>Unnamed: 22</th>\n",
       "      <th>Unnamed: 23</th>\n",
       "      <th>new_date</th>\n",
       "    </tr>\n",
       "  </thead>\n",
       "  <tbody>\n",
       "    <tr>\n",
       "      <th>5855</th>\n",
       "      <td>1642.00.00.b</td>\n",
       "      <td>Late 1600s Reported 1728</td>\n",
       "      <td>1642</td>\n",
       "      <td>Invalid</td>\n",
       "      <td>GUINEA</td>\n",
       "      <td>NaN</td>\n",
       "      <td>NaN</td>\n",
       "      <td>Went overboard</td>\n",
       "      <td>crew member of the Nieuwstadt</td>\n",
       "      <td>M</td>\n",
       "      <td>...</td>\n",
       "      <td>History of the Pyrates, by D. Defoe, Vol. 2, p.28</td>\n",
       "      <td>1642.00.00.b-Nieuwstadt.pdf</td>\n",
       "      <td>http://sharkattackfile.net/spreadsheets/pdf_di...</td>\n",
       "      <td>http://sharkattackfile.net/spreadsheets/pdf_di...</td>\n",
       "      <td>1642.00.00.b</td>\n",
       "      <td>1642.00.00.b</td>\n",
       "      <td>138</td>\n",
       "      <td>NaN</td>\n",
       "      <td>NaN</td>\n",
       "      <td>NaT</td>\n",
       "    </tr>\n",
       "    <tr>\n",
       "      <th>5856</th>\n",
       "      <td>1638.00.00.R</td>\n",
       "      <td>Reported 1638</td>\n",
       "      <td>1638</td>\n",
       "      <td>Unprovoked</td>\n",
       "      <td>NaN</td>\n",
       "      <td>NaN</td>\n",
       "      <td>NaN</td>\n",
       "      <td>NaN</td>\n",
       "      <td>sailors</td>\n",
       "      <td>M</td>\n",
       "      <td>...</td>\n",
       "      <td>Sir Thomas Herbert</td>\n",
       "      <td>1638.00.00.R-Herbert</td>\n",
       "      <td>http://sharkattackfile.net/spreadsheets/pdf_di...</td>\n",
       "      <td>http://sharkattackfile.net/spreadsheets/pdf_di...</td>\n",
       "      <td>1638.00.00.R</td>\n",
       "      <td>1638.00.00.R</td>\n",
       "      <td>137</td>\n",
       "      <td>NaN</td>\n",
       "      <td>NaN</td>\n",
       "      <td>NaT</td>\n",
       "    </tr>\n",
       "    <tr>\n",
       "      <th>5857</th>\n",
       "      <td>1637.00.00.R</td>\n",
       "      <td>Reported 1637</td>\n",
       "      <td>1637</td>\n",
       "      <td>Unprovoked</td>\n",
       "      <td>INDIA</td>\n",
       "      <td>West Bengal</td>\n",
       "      <td>Hooghly River mouth</td>\n",
       "      <td>Wading</td>\n",
       "      <td>Hindu pilgrims</td>\n",
       "      <td>NaN</td>\n",
       "      <td>...</td>\n",
       "      <td>H. Edwards, p.31, citing Sebastian Manrique</td>\n",
       "      <td>1637.00.00.R-Manrique.pdf</td>\n",
       "      <td>http://sharkattackfile.net/spreadsheets/pdf_di...</td>\n",
       "      <td>http://sharkattackfile.net/spreadsheets/pdf_di...</td>\n",
       "      <td>1637.00.00.R</td>\n",
       "      <td>1637.00.00.R</td>\n",
       "      <td>136</td>\n",
       "      <td>NaN</td>\n",
       "      <td>NaN</td>\n",
       "      <td>NaT</td>\n",
       "    </tr>\n",
       "    <tr>\n",
       "      <th>5858</th>\n",
       "      <td>1617.00.00.R</td>\n",
       "      <td>Reported 1617</td>\n",
       "      <td>1617</td>\n",
       "      <td>Unprovoked</td>\n",
       "      <td>INDIA</td>\n",
       "      <td>West Bengal</td>\n",
       "      <td>Ganges Delta</td>\n",
       "      <td>NaN</td>\n",
       "      <td>Indian people</td>\n",
       "      <td>NaN</td>\n",
       "      <td>...</td>\n",
       "      <td>H. Edwards, p.31, citing Samuel Purchas</td>\n",
       "      <td>1617.00.00-Purchas.pdf</td>\n",
       "      <td>http://sharkattackfile.net/spreadsheets/pdf_di...</td>\n",
       "      <td>http://sharkattackfile.net/spreadsheets/pdf_di...</td>\n",
       "      <td>1617.00.00.R</td>\n",
       "      <td>1617.00.00.R</td>\n",
       "      <td>135</td>\n",
       "      <td>NaN</td>\n",
       "      <td>NaN</td>\n",
       "      <td>NaT</td>\n",
       "    </tr>\n",
       "    <tr>\n",
       "      <th>5859</th>\n",
       "      <td>1642.00.00</td>\n",
       "      <td>1642</td>\n",
       "      <td>1642</td>\n",
       "      <td>Unprovoked</td>\n",
       "      <td>USA</td>\n",
       "      <td>New York</td>\n",
       "      <td>Between Manhattan and The Bronx</td>\n",
       "      <td>Swimming</td>\n",
       "      <td>Antony Van Corlear</td>\n",
       "      <td>M</td>\n",
       "      <td>...</td>\n",
       "      <td>Knickerbocker's History of New York, by Washin...</td>\n",
       "      <td>1642.00.00-Corlear.pdf</td>\n",
       "      <td>http://sharkattackfile.net/spreadsheets/pdf_di...</td>\n",
       "      <td>http://sharkattackfile.net/spreadsheets/pdf_di...</td>\n",
       "      <td>1642.00.00</td>\n",
       "      <td>1642.00.00</td>\n",
       "      <td>134</td>\n",
       "      <td>NaN</td>\n",
       "      <td>NaN</td>\n",
       "      <td>NaT</td>\n",
       "    </tr>\n",
       "  </tbody>\n",
       "</table>\n",
       "<p>5 rows × 25 columns</p>\n",
       "</div>"
      ],
      "text/plain": [
       "       Case Number                      Date  Year        Type Country  \\\n",
       "5855  1642.00.00.b  Late 1600s Reported 1728  1642     Invalid  GUINEA   \n",
       "5856  1638.00.00.R             Reported 1638  1638  Unprovoked     NaN   \n",
       "5857  1637.00.00.R             Reported 1637  1637  Unprovoked   INDIA   \n",
       "5858  1617.00.00.R             Reported 1617  1617  Unprovoked   INDIA   \n",
       "5859    1642.00.00                      1642  1642  Unprovoked     USA   \n",
       "\n",
       "             Area                         Location        Activity  \\\n",
       "5855          NaN                              NaN  Went overboard   \n",
       "5856          NaN                              NaN             NaN   \n",
       "5857  West Bengal              Hooghly River mouth          Wading   \n",
       "5858  West Bengal                     Ganges Delta             NaN   \n",
       "5859    New York   Between Manhattan and The Bronx       Swimming    \n",
       "\n",
       "                               Name Sex   ...  \\\n",
       "5855  crew member of the Nieuwstadt    M  ...   \n",
       "5856                        sailors    M  ...   \n",
       "5857                 Hindu pilgrims  NaN  ...   \n",
       "5858                  Indian people  NaN  ...   \n",
       "5859             Antony Van Corlear    M  ...   \n",
       "\n",
       "                                 Investigator or Source  \\\n",
       "5855  History of the Pyrates, by D. Defoe, Vol. 2, p.28   \n",
       "5856                                 Sir Thomas Herbert   \n",
       "5857        H. Edwards, p.31, citing Sebastian Manrique   \n",
       "5858            H. Edwards, p.31, citing Samuel Purchas   \n",
       "5859  Knickerbocker's History of New York, by Washin...   \n",
       "\n",
       "                              pdf  \\\n",
       "5855  1642.00.00.b-Nieuwstadt.pdf   \n",
       "5856         1638.00.00.R-Herbert   \n",
       "5857    1637.00.00.R-Manrique.pdf   \n",
       "5858       1617.00.00-Purchas.pdf   \n",
       "5859       1642.00.00-Corlear.pdf   \n",
       "\n",
       "                                           href formula  \\\n",
       "5855  http://sharkattackfile.net/spreadsheets/pdf_di...   \n",
       "5856  http://sharkattackfile.net/spreadsheets/pdf_di...   \n",
       "5857  http://sharkattackfile.net/spreadsheets/pdf_di...   \n",
       "5858  http://sharkattackfile.net/spreadsheets/pdf_di...   \n",
       "5859  http://sharkattackfile.net/spreadsheets/pdf_di...   \n",
       "\n",
       "                                                   href Case Number.1  \\\n",
       "5855  http://sharkattackfile.net/spreadsheets/pdf_di...  1642.00.00.b   \n",
       "5856  http://sharkattackfile.net/spreadsheets/pdf_di...  1638.00.00.R   \n",
       "5857  http://sharkattackfile.net/spreadsheets/pdf_di...  1637.00.00.R   \n",
       "5858  http://sharkattackfile.net/spreadsheets/pdf_di...  1617.00.00.R   \n",
       "5859  http://sharkattackfile.net/spreadsheets/pdf_di...    1642.00.00   \n",
       "\n",
       "     Case Number.2 original order Unnamed: 22 Unnamed: 23 new_date  \n",
       "5855  1642.00.00.b            138         NaN         NaN      NaT  \n",
       "5856  1638.00.00.R            137         NaN         NaN      NaT  \n",
       "5857  1637.00.00.R            136         NaN         NaN      NaT  \n",
       "5858  1617.00.00.R            135         NaN         NaN      NaT  \n",
       "5859    1642.00.00            134         NaN         NaN      NaT  \n",
       "\n",
       "[5 rows x 25 columns]"
      ]
     },
     "execution_count": 19,
     "metadata": {},
     "output_type": "execute_result"
    }
   ],
   "source": [
    "df[df[\"new_date\"].isnull()].head()"
   ]
  },
  {
   "cell_type": "markdown",
   "metadata": {},
   "source": [
    "Extract the first year if it finds one in the Date column"
   ]
  },
  {
   "cell_type": "code",
   "execution_count": 20,
   "metadata": {},
   "outputs": [],
   "source": [
    "def get_first_element(l):\n",
    "    return next(iter(l), np.nan)"
   ]
  },
  {
   "cell_type": "code",
   "execution_count": 21,
   "metadata": {},
   "outputs": [],
   "source": [
    "def safe_to_datetime(date):\n",
    "    try:\n",
    "        return pd.to_datetime(date, infer_datetime_format=True)\n",
    "    except:\n",
    "        return np.nan"
   ]
  },
  {
   "cell_type": "code",
   "execution_count": 22,
   "metadata": {},
   "outputs": [],
   "source": [
    "df.loc[df[\"new_date\"].isnull(), \"new_date\"] = (df[df[\"new_date\"].isnull()][\"Date\"]\n",
    "                                             .str.findall(r\"\\d{4}\")\n",
    "                                             .apply(get_first_element)\n",
    "                                             .astype(str)\n",
    "                                             .apply(safe_to_datetime))"
   ]
  },
  {
   "cell_type": "code",
   "execution_count": 23,
   "metadata": {},
   "outputs": [],
   "source": [
    "df = df.drop(df[df[\"new_date\"].isnull()].index)"
   ]
  },
  {
   "cell_type": "markdown",
   "metadata": {},
   "source": [
    "# Inspect the `Type` column"
   ]
  },
  {
   "cell_type": "code",
   "execution_count": 24,
   "metadata": {},
   "outputs": [
    {
     "data": {
      "text/plain": [
       "Unprovoked      4365\n",
       "Provoked         557\n",
       "Invalid          518\n",
       "Sea Disaster     216\n",
       "Boat             200\n",
       "Boating          110\n",
       "Name: Type, dtype: int64"
      ]
     },
     "execution_count": 24,
     "metadata": {},
     "output_type": "execute_result"
    }
   ],
   "source": [
    "df[\"Type\"].value_counts()"
   ]
  },
  {
   "cell_type": "code",
   "execution_count": 25,
   "metadata": {},
   "outputs": [],
   "source": [
    "df.loc[df[\"Type\"] == \"Boating\", \"Type\"] = \"Boat\""
   ]
  },
  {
   "cell_type": "code",
   "execution_count": 26,
   "metadata": {},
   "outputs": [
    {
     "data": {
      "text/plain": [
       "Unprovoked      4365\n",
       "Provoked         557\n",
       "Invalid          518\n",
       "Boat             310\n",
       "Sea Disaster     216\n",
       "Name: Type, dtype: int64"
      ]
     },
     "execution_count": 26,
     "metadata": {},
     "output_type": "execute_result"
    }
   ],
   "source": [
    "df[\"Type\"].value_counts()"
   ]
  },
  {
   "cell_type": "markdown",
   "metadata": {},
   "source": [
    "# `Country`"
   ]
  },
  {
   "cell_type": "code",
   "execution_count": 27,
   "metadata": {},
   "outputs": [
    {
     "data": {
      "text/plain": [
       "(202,)"
      ]
     },
     "execution_count": 27,
     "metadata": {},
     "output_type": "execute_result"
    }
   ],
   "source": [
    "df[\"Country\"].value_counts().shape"
   ]
  },
  {
   "cell_type": "code",
   "execution_count": 28,
   "metadata": {},
   "outputs": [
    {
     "data": {
      "text/plain": [
       "USA                               2114\n",
       "AUSTRALIA                         1276\n",
       "SOUTH AFRICA                       563\n",
       "PAPUA NEW GUINEA                   131\n",
       "NEW ZEALAND                        125\n",
       "BRAZIL                             102\n",
       "BAHAMAS                             98\n",
       "MEXICO                              80\n",
       "ITALY                               70\n",
       "FIJI                                62\n",
       "PHILIPPINES                         59\n",
       "REUNION                             56\n",
       "NEW CALEDONIA                       51\n",
       "MOZAMBIQUE                          44\n",
       "CUBA                                42\n",
       "SPAIN                               40\n",
       "EGYPT                               36\n",
       "CROATIA                             34\n",
       "INDIA                               34\n",
       "PANAMA                              32\n",
       "JAPAN                               32\n",
       "IRAN                                29\n",
       "SOLOMON ISLANDS                     29\n",
       "HONG KONG                           24\n",
       "JAMAICA                             23\n",
       "GREECE                              22\n",
       "FRENCH POLYNESIA                    22\n",
       "INDONESIA                           20\n",
       "ENGLAND                             19\n",
       "PACIFIC OCEAN                       17\n",
       "ATLANTIC OCEAN                      16\n",
       "BERMUDA                             16\n",
       "TONGA                               15\n",
       "VIETNAM                             14\n",
       "VANUATU                             14\n",
       "MARSHALL ISLANDS                    13\n",
       "SRI LANKA                           13\n",
       "FRANCE                              12\n",
       "COSTA RICA                          12\n",
       "SOUTH ATLANTIC OCEAN                12\n",
       "TURKEY                              12\n",
       "IRAQ                                12\n",
       "SENEGAL                             11\n",
       "CANADA                              10\n",
       "VENEZUELA                           10\n",
       "KENYA                               10\n",
       "NEW GUINEA                          10\n",
       "UNITED KINGDOM                      10\n",
       "TAIWAN                               9\n",
       "COLUMBIA                             9\n",
       "SOUTH KOREA                          8\n",
       "CARIBBEAN SEA                        8\n",
       "CHILE                                8\n",
       "SCOTLAND                             8\n",
       "SIERRA LEONE                         8\n",
       "ECUADOR                              8\n",
       "TANZANIA                             8\n",
       "MADAGASCAR                           7\n",
       "SEYCHELLES                           7\n",
       "ISRAEL                               7\n",
       "DOMINICAN REPUBLIC                   7\n",
       "NORTH PACIFIC OCEAN                  7\n",
       "SAMOA                                7\n",
       "MAURITIUS                            7\n",
       "YEMEN                                7\n",
       "INDIAN OCEAN                         7\n",
       "OKINAWA                              6\n",
       "CHINA                                6\n",
       "NEW BRITAIN                          6\n",
       "KIRIBATI                             6\n",
       "THAILAND                             6\n",
       "NICARAGUA                            6\n",
       "SINGAPORE                            6\n",
       "SOMALIA                              6\n",
       "MALTA                                5\n",
       "AZORES                               5\n",
       "PALAU                                5\n",
       "MID ATLANTIC OCEAN                   5\n",
       "SAUDI ARABIA                         5\n",
       "TURKS & CAICOS                       5\n",
       "LIBYA                                5\n",
       "BARBADOS                             5\n",
       "EL SALVADOR                          4\n",
       "NORTH ATLANTIC OCEAN                 4\n",
       "BURMA                                4\n",
       "NIGERIA                              4\n",
       "MALAYSIA                             4\n",
       "SUDAN                                4\n",
       "GRENADA                              4\n",
       "RUSSIA                               4\n",
       "PERSIAN GULF                         4\n",
       "GUAM                                 4\n",
       "BELIZE                               3\n",
       "MONTENEGRO                           3\n",
       "MICRONESIA                           3\n",
       "HAITI                                3\n",
       "CAPE VERDE                           3\n",
       "LEBANON                              3\n",
       "TRINIDAD & TOBAGO                    3\n",
       "HONDURAS                             3\n",
       "PORTUGAL                             3\n",
       "Fiji                                 3\n",
       "URUGUAY                              3\n",
       "LIBERIA                              3\n",
       "TUNISIA                              3\n",
       " TONGA                               3\n",
       "AMERICAN SAMOA                       3\n",
       "SOUTH PACIFIC OCEAN                  2\n",
       "EGYPT                                2\n",
       "YEMEN                                2\n",
       "CENTRAL PACIFIC                      2\n",
       "SOUTHWEST PACIFIC OCEAN              2\n",
       "MEDITERRANEAN SEA                    2\n",
       "PACIFIC OCEAN                        2\n",
       "NAMIBIA                              2\n",
       "JOHNSTON ISLAND                      2\n",
       "NORWAY                               2\n",
       "GUINEA                               2\n",
       "UNITED ARAB EMIRATES (UAE)           2\n",
       "CRETE                                2\n",
       "CAYMAN ISLANDS                       2\n",
       "BAHREIN                              1\n",
       "FEDERATED STATES OF MICRONESIA       1\n",
       "NORTH ATLANTIC OCEAN                 1\n",
       "RED SEA                              1\n",
       "CURACAO                              1\n",
       "MID-PACIFC OCEAN                     1\n",
       "UNITED ARAB EMIRATES                 1\n",
       "ICELAND                              1\n",
       "ST. MAARTIN                          1\n",
       "ARGENTINA                            1\n",
       "JAVA                                 1\n",
       "BAY OF BENGAL                        1\n",
       "IRAN / IRAQ                          1\n",
       "SYRIA                                1\n",
       "ITALY / CROATIA                      1\n",
       "ARUBA                                1\n",
       "ADMIRALTY ISLANDS                    1\n",
       "EQUATORIAL GUINEA / CAMEROON         1\n",
       "NETHERLANDS ANTILLES                 1\n",
       "COOK ISLANDS                         1\n",
       "ANTIGUA                              1\n",
       "MARTINIQUE                           1\n",
       "SLOVENIA                             1\n",
       "IRELAND                              1\n",
       "TUVALU                               1\n",
       "NORTHERN ARABIAN SEA                 1\n",
       "GEORGIA                              1\n",
       "GHANA                                1\n",
       "GUATEMALA                            1\n",
       "PARAGUAY                             1\n",
       "GREENLAND                            1\n",
       "EGYPT / ISRAEL                       1\n",
       "SUDAN?                               1\n",
       "SOUTH CHINA SEA                      1\n",
       "SOLOMON ISLANDS / VANUATU            1\n",
       "KUWAIT                               1\n",
       "BANGLADESH                           1\n",
       "DJIBOUTI                             1\n",
       "BRITISH WEST INDIES                  1\n",
       "FALKLAND ISLANDS                     1\n",
       "GRAND CAYMAN                         1\n",
       "MALDIVE ISLANDS                      1\n",
       "Seychelles                           1\n",
       "ANDAMAN / NICOBAR ISLANDAS           1\n",
       "BRITISH VIRGIN ISLANDS               1\n",
       "MONACO                               1\n",
       "DIEGO GARCIA                         1\n",
       "RED SEA / INDIAN OCEAN               1\n",
       "BRITISH ISLES                        1\n",
       "ASIA?                                1\n",
       "OCEAN                                1\n",
       "ALGERIA                              1\n",
       "MAYOTTE                              1\n",
       "PALESTINIAN TERRITORIES              1\n",
       " PHILIPPINES                         1\n",
       "Coast of AFRICA                      1\n",
       "THE BALKANS                          1\n",
       "St Helena                            1\n",
       "GUYANA                               1\n",
       "INDIAN OCEAN?                        1\n",
       "BRITISH NEW GUINEA                   1\n",
       "PUERTO RICO                          1\n",
       "NORTHERN MARIANA ISLANDS             1\n",
       "WESTERN SAMOA                        1\n",
       "ST. MARTIN                           1\n",
       "GULF OF ADEN                         1\n",
       "GABON                                1\n",
       "ANGOLA                               1\n",
       "RED SEA?                             1\n",
       "NORTH SEA                            1\n",
       "CYPRUS                               1\n",
       "TASMAN SEA                           1\n",
       "NICARAGUA                            1\n",
       "MEXICO                               1\n",
       "Sierra Leone                         1\n",
       "SWEDEN                               1\n",
       "CEYLON (SRI LANKA)                   1\n",
       "MEDITERRANEAN SEA?                   1\n",
       "KOREA                                1\n",
       "SAN DOMINGO                          1\n",
       "NEVIS                                1\n",
       "Name: Country, dtype: int64"
      ]
     },
     "execution_count": 28,
     "metadata": {},
     "output_type": "execute_result"
    }
   ],
   "source": [
    "df[\"Country\"].value_counts()"
   ]
  },
  {
   "cell_type": "code",
   "execution_count": 29,
   "metadata": {},
   "outputs": [],
   "source": [
    "df[\"country\"] = (df[\"Country\"]\n",
    "                 .str.upper()\n",
    "                 .str.strip()\n",
    "                 .str.replace(\"?\",\"\"))"
   ]
  }
 ],
 "metadata": {
  "kernelspec": {
   "display_name": "Python 3",
   "language": "python",
   "name": "python3"
  },
  "language_info": {
   "codemirror_mode": {
    "name": "ipython",
    "version": 3
   },
   "file_extension": ".py",
   "mimetype": "text/x-python",
   "name": "python",
   "nbconvert_exporter": "python",
   "pygments_lexer": "ipython3",
   "version": "3.7.6-final"
  }
 },
 "nbformat": 4,
 "nbformat_minor": 2
}